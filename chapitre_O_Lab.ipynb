{
 "cells": [
  {
   "cell_type": "code",
   "execution_count": 1,
   "id": "f62c7f8f-e13b-4435-8e87-ced1d351bffc",
   "metadata": {},
   "outputs": [],
   "source": [
    "import numpy as np"
   ]
  },
  {
   "cell_type": "markdown",
   "id": "96d1826e-2e90-434a-a989-0ae4f2aee7b6",
   "metadata": {},
   "source": [
    "# 1. Creation des Tableau : 1D, 2D, 3D, 4D"
   ]
  },
  {
   "cell_type": "markdown",
   "id": "fa92bbfd-ef00-4a8e-ac1b-b958b500274e",
   "metadata": {},
   "source": [
    "## 1.1 Tableau 1D"
   ]
  },
  {
   "cell_type": "code",
   "execution_count": 2,
   "id": "ab8b40a2-76bd-4872-8f83-a2bd7678817e",
   "metadata": {},
   "outputs": [],
   "source": [
    "tableau_1D = np.array([1, 2, 3, 4, 5])"
   ]
  },
  {
   "cell_type": "code",
   "execution_count": 3,
   "id": "2a8a2ba3-5b13-4dd1-b313-37ba3acdbb1f",
   "metadata": {},
   "outputs": [
    {
     "data": {
      "text/plain": [
       "array([1, 2, 3, 4, 5])"
      ]
     },
     "execution_count": 3,
     "metadata": {},
     "output_type": "execute_result"
    }
   ],
   "source": [
    "tableau_1D"
   ]
  },
  {
   "cell_type": "code",
   "execution_count": 4,
   "id": "778c5453-2bdc-47af-abf0-b4a833254a61",
   "metadata": {},
   "outputs": [
    {
     "name": "stdout",
     "output_type": "stream",
     "text": [
      "<class 'numpy.ndarray'>\n",
      "(5,)\n",
      "[1 2 3 4 5]\n"
     ]
    }
   ],
   "source": [
    "print(type(tableau_1D))\n",
    "print(tableau_1D.shape)\n",
    "print(tableau_1D)"
   ]
  },
  {
   "cell_type": "markdown",
   "id": "ffa13386-215c-4fa7-b9b0-664c29b83ece",
   "metadata": {},
   "source": [
    "## 1.2 Tableau 2D"
   ]
  },
  {
   "cell_type": "code",
   "execution_count": 5,
   "id": "98e2ad9a-0492-4c08-8a81-8e5caee429cf",
   "metadata": {},
   "outputs": [],
   "source": [
    "tableau_2D = np.array([\n",
    "    [1, 2, 3, 4, 5],\n",
    "    [6, 7, 8, 9, 10],\n",
    "    [60, 70, 80, 90, 100]\n",
    "])"
   ]
  },
  {
   "cell_type": "code",
   "execution_count": 6,
   "id": "a4bb3eda-d39c-4515-be44-5d69200bea91",
   "metadata": {},
   "outputs": [
    {
     "name": "stdout",
     "output_type": "stream",
     "text": [
      "<class 'numpy.ndarray'>\n",
      "(3, 5)\n",
      "[[  1   2   3   4   5]\n",
      " [  6   7   8   9  10]\n",
      " [ 60  70  80  90 100]]\n"
     ]
    }
   ],
   "source": [
    "print(type(tableau_2D))\n",
    "print(tableau_2D.shape)\n",
    "print(tableau_2D)"
   ]
  },
  {
   "cell_type": "code",
   "execution_count": 7,
   "id": "9fc4e1a4-44b1-44b3-944d-f5045b8fc2e9",
   "metadata": {},
   "outputs": [
    {
     "data": {
      "text/plain": [
       "np.int64(8)"
      ]
     },
     "execution_count": 7,
     "metadata": {},
     "output_type": "execute_result"
    }
   ],
   "source": [
    "tableau_2D[1][2]"
   ]
  },
  {
   "cell_type": "code",
   "execution_count": 8,
   "id": "060d0269-2c56-42b6-aab8-6de55b574417",
   "metadata": {},
   "outputs": [
    {
     "name": "stdout",
     "output_type": "stream",
     "text": [
      "100\n"
     ]
    }
   ],
   "source": [
    "print(tableau_2D[2][4])"
   ]
  },
  {
   "cell_type": "markdown",
   "id": "7f799149-fbb8-41bf-933e-10d5f257c58f",
   "metadata": {},
   "source": [
    "## 1.3 Tableau 3D"
   ]
  },
  {
   "cell_type": "code",
   "execution_count": 9,
   "id": "cdab5d9d-8a1b-4362-92e5-0f53db01d9ad",
   "metadata": {},
   "outputs": [],
   "source": [
    "tableau_3D = np.array([[[1, 3, 5, 7, 9]]])"
   ]
  },
  {
   "cell_type": "code",
   "execution_count": 10,
   "id": "618dc72f-8732-4981-a93e-09d53d2e4394",
   "metadata": {},
   "outputs": [
    {
     "name": "stdout",
     "output_type": "stream",
     "text": [
      "<class 'numpy.ndarray'>\n",
      "(1, 1, 5)\n",
      "[[[1 3 5 7 9]]]\n"
     ]
    }
   ],
   "source": [
    "print(type(tableau_3D))\n",
    "print(tableau_3D.shape)\n",
    "print(tableau_3D)"
   ]
  },
  {
   "cell_type": "code",
   "execution_count": 11,
   "id": "c3694028-e45c-485c-bfee-67a05fa9b52f",
   "metadata": {},
   "outputs": [],
   "source": [
    "tableau_3D = np.array([[\n",
    "    [1, 3, 5, 7, 9],\n",
    "    [10, 30, 50, 70, 90],\n",
    "    [100, 300, 500, 700, 900],\n",
    "    [1000, 3000, 5000, 7000, 9000]\n",
    "]])"
   ]
  },
  {
   "cell_type": "code",
   "execution_count": 12,
   "id": "bc4b456b-65db-4f8a-8867-a99c6df0643b",
   "metadata": {},
   "outputs": [
    {
     "name": "stdout",
     "output_type": "stream",
     "text": [
      "<class 'numpy.ndarray'>\n",
      "(1, 4, 5)\n",
      "[[[   1    3    5    7    9]\n",
      "  [  10   30   50   70   90]\n",
      "  [ 100  300  500  700  900]\n",
      "  [1000 3000 5000 7000 9000]]]\n"
     ]
    }
   ],
   "source": [
    "print(type(tableau_3D))\n",
    "print(tableau_3D.shape)\n",
    "print(tableau_3D)"
   ]
  },
  {
   "cell_type": "code",
   "execution_count": 13,
   "id": "1c0df327-1e6a-4bae-859c-384d263c2e5b",
   "metadata": {},
   "outputs": [
    {
     "name": "stdout",
     "output_type": "stream",
     "text": [
      "500\n"
     ]
    }
   ],
   "source": [
    "print(tableau_3D[0][2][2])"
   ]
  },
  {
   "cell_type": "code",
   "execution_count": 14,
   "id": "3ed24eba-6698-46df-a5d3-ed810e42b517",
   "metadata": {},
   "outputs": [],
   "source": [
    "#print(tableau_3D[1,0,2])"
   ]
  },
  {
   "cell_type": "markdown",
   "id": "62175d22-3cb4-42dc-b2c0-ba2846235058",
   "metadata": {},
   "source": [
    "## 1.4 Tableau 4D"
   ]
  },
  {
   "cell_type": "code",
   "execution_count": 15,
   "id": "ed25ef14-91b6-4bf1-9540-5e36aa775708",
   "metadata": {},
   "outputs": [],
   "source": [
    "tableau_4D = np.array([[[\n",
    "    [2, 4, 6, 8],\n",
    "    [20, 40, 60, 80],\n",
    "    [25, 45, 65, 85],\n",
    "    [200, 400, 600, 800],\n",
    "    [250, 450, 650, 850],\n",
    "    [2.5, 4.5, 6.5, 8.5],\n",
    "]]])"
   ]
  },
  {
   "cell_type": "code",
   "execution_count": 16,
   "id": "564128f7-c8c1-4d85-bde5-00ae7e0a5f94",
   "metadata": {},
   "outputs": [
    {
     "name": "stdout",
     "output_type": "stream",
     "text": [
      "<class 'numpy.ndarray'>\n",
      "(1, 1, 6, 4)\n",
      "[[[[  2.    4.    6.    8. ]\n",
      "   [ 20.   40.   60.   80. ]\n",
      "   [ 25.   45.   65.   85. ]\n",
      "   [200.  400.  600.  800. ]\n",
      "   [250.  450.  650.  850. ]\n",
      "   [  2.5   4.5   6.5   8.5]]]]\n"
     ]
    }
   ],
   "source": [
    "print(type(tableau_4D))\n",
    "print(tableau_4D.shape)\n",
    "print(tableau_4D)"
   ]
  },
  {
   "cell_type": "code",
   "execution_count": 17,
   "id": "982bdbd5-0ed0-4aa7-b113-28afd82a70a6",
   "metadata": {},
   "outputs": [
    {
     "name": "stdout",
     "output_type": "stream",
     "text": [
      "65.0\n"
     ]
    }
   ],
   "source": [
    "print(tableau_4D[0][0][2][2])"
   ]
  },
  {
   "cell_type": "markdown",
   "id": "eec85d0a-830b-4270-afa5-f9efad2e553b",
   "metadata": {},
   "source": [
    "# 2. Operations Arithmetique"
   ]
  },
  {
   "cell_type": "code",
   "execution_count": 18,
   "id": "8702e52a-e5fc-49e5-897f-0e400cd83492",
   "metadata": {},
   "outputs": [],
   "source": [
    "a = np.array([\n",
    "    [1, 3, 5, 7],\n",
    "    [10, 30, 50, 70],\n",
    "])"
   ]
  },
  {
   "cell_type": "code",
   "execution_count": 19,
   "id": "10654130-1609-4d6b-b51f-ee5ccdaf94a2",
   "metadata": {},
   "outputs": [
    {
     "name": "stdout",
     "output_type": "stream",
     "text": [
      "<class 'numpy.ndarray'>\n",
      "(2, 4)\n",
      "[[ 1  3  5  7]\n",
      " [10 30 50 70]]\n"
     ]
    }
   ],
   "source": [
    "print(type(a))\n",
    "print(a.shape)\n",
    "print(a)"
   ]
  },
  {
   "cell_type": "code",
   "execution_count": 20,
   "id": "203ede86-744a-4ecc-a0f4-6d7c90e77381",
   "metadata": {},
   "outputs": [],
   "source": [
    "b = np.array([\n",
    "    [2, 4, 6, 8],\n",
    "    [20, 40, 60, 80],\n",
    "])"
   ]
  },
  {
   "cell_type": "code",
   "execution_count": 21,
   "id": "a2ba90dd-19f6-430c-a632-22a6eb02189d",
   "metadata": {},
   "outputs": [
    {
     "name": "stdout",
     "output_type": "stream",
     "text": [
      "<class 'numpy.ndarray'>\n",
      "(2, 4)\n",
      "[[ 2  4  6  8]\n",
      " [20 40 60 80]]\n"
     ]
    }
   ],
   "source": [
    "print(type(b))\n",
    "print(b.shape)\n",
    "print(b)"
   ]
  },
  {
   "cell_type": "markdown",
   "id": "44ee07e5-6baa-4ba0-b1cf-c039aa64b3be",
   "metadata": {},
   "source": [
    "## 1.2.1 Addition"
   ]
  },
  {
   "cell_type": "code",
   "execution_count": 22,
   "id": "d782ce3a-9a4d-4a5b-983a-3e681d052016",
   "metadata": {},
   "outputs": [
    {
     "name": "stdout",
     "output_type": "stream",
     "text": [
      "[[  3   7  11  15]\n",
      " [ 30  70 110 150]]\n"
     ]
    }
   ],
   "source": [
    "print(a + b)"
   ]
  },
  {
   "cell_type": "markdown",
   "id": "a95c2c0d-bb15-4d67-8b24-5d0a3e9cae91",
   "metadata": {},
   "source": [
    "## 1.2.2 Soustraction"
   ]
  },
  {
   "cell_type": "code",
   "execution_count": 23,
   "id": "eb52584b-cd20-4ac2-bf1b-8a44b70084ff",
   "metadata": {},
   "outputs": [
    {
     "name": "stdout",
     "output_type": "stream",
     "text": [
      "[[ -1  -1  -1  -1]\n",
      " [-10 -10 -10 -10]]\n"
     ]
    }
   ],
   "source": [
    "print(a - b)"
   ]
  },
  {
   "cell_type": "code",
   "execution_count": 24,
   "id": "b57d44f1-06ad-4302-b0d8-8d0485351095",
   "metadata": {},
   "outputs": [
    {
     "name": "stdout",
     "output_type": "stream",
     "text": [
      "[[ 1  1  1  1]\n",
      " [10 10 10 10]]\n"
     ]
    }
   ],
   "source": [
    "print(b - a)"
   ]
  },
  {
   "cell_type": "markdown",
   "id": "953f37da-3739-4690-95bb-3ef295130ffb",
   "metadata": {},
   "source": [
    "## 1.2.3 Division"
   ]
  },
  {
   "cell_type": "code",
   "execution_count": 25,
   "id": "9b61a106-4fbe-48e3-ba47-b4181398285e",
   "metadata": {},
   "outputs": [
    {
     "name": "stdout",
     "output_type": "stream",
     "text": [
      "[[0.5        0.75       0.83333333 0.875     ]\n",
      " [0.5        0.75       0.83333333 0.875     ]]\n"
     ]
    }
   ],
   "source": [
    "print( a / b)"
   ]
  },
  {
   "cell_type": "code",
   "execution_count": 26,
   "id": "4e92972f-e615-465e-be12-0c7b74fea996",
   "metadata": {},
   "outputs": [
    {
     "name": "stdout",
     "output_type": "stream",
     "text": [
      "[[2.         1.33333333 1.2        1.14285714]\n",
      " [2.         1.33333333 1.2        1.14285714]]\n"
     ]
    }
   ],
   "source": [
    "print(b / a)"
   ]
  },
  {
   "cell_type": "markdown",
   "id": "93722ead-fc2d-48bd-bf4f-03237c6d464e",
   "metadata": {},
   "source": [
    "## 1.2.4 Multiplication"
   ]
  },
  {
   "cell_type": "code",
   "execution_count": 27,
   "id": "d38cf3f5-985d-4d19-8cdd-7d62cb3760b1",
   "metadata": {},
   "outputs": [
    {
     "name": "stdout",
     "output_type": "stream",
     "text": [
      "[[   2   12   30   56]\n",
      " [ 200 1200 3000 5600]]\n"
     ]
    }
   ],
   "source": [
    "print(a  * b)"
   ]
  },
  {
   "cell_type": "code",
   "execution_count": 28,
   "id": "30b9abd7-8241-48fe-9da8-5de3464cd925",
   "metadata": {},
   "outputs": [
    {
     "name": "stdout",
     "output_type": "stream",
     "text": [
      "[[   2   12   30   56]\n",
      " [ 200 1200 3000 5600]]\n"
     ]
    }
   ],
   "source": [
    "print(b  * a)"
   ]
  },
  {
   "cell_type": "markdown",
   "id": "9cbd870a-afb7-494d-bc2b-ac819d668b19",
   "metadata": {},
   "source": [
    "# 3. Manipulation des donnees"
   ]
  },
  {
   "cell_type": "code",
   "execution_count": 29,
   "id": "f9e47c01-dc2c-4ff3-be42-88d1b71c451c",
   "metadata": {},
   "outputs": [],
   "source": [
    "# Creation du dictionnaire\n",
    "bac4_IA_student = {\n",
    "    'Nom': 'BISIMWA',\n",
    "    'Prenom': 'Destin',\n",
    "    'Matricule': '20241210',\n",
    "    'Age': 23\n",
    "}"
   ]
  },
  {
   "cell_type": "code",
   "execution_count": 30,
   "id": "fc260b30-eba6-45a2-96b2-85d34614d2e6",
   "metadata": {},
   "outputs": [
    {
     "data": {
      "text/plain": [
       "{'Nom': 'BISIMWA', 'Prenom': 'Destin', 'Matricule': '20241210', 'Age': 23}"
      ]
     },
     "execution_count": 30,
     "metadata": {},
     "output_type": "execute_result"
    }
   ],
   "source": [
    "bac4_IA_student"
   ]
  },
  {
   "cell_type": "code",
   "execution_count": 31,
   "id": "65825112-4cde-466c-b2aa-e8cc1c221c7c",
   "metadata": {},
   "outputs": [
    {
     "data": {
      "text/plain": [
       "'Destin'"
      ]
     },
     "execution_count": 31,
     "metadata": {},
     "output_type": "execute_result"
    }
   ],
   "source": [
    "bac4_IA_student['Prenom']"
   ]
  },
  {
   "cell_type": "code",
   "execution_count": 32,
   "id": "e55005ef-c6cb-4d9f-882a-6752cedc1717",
   "metadata": {},
   "outputs": [],
   "source": [
    "bac4_IA_student = {\n",
    "    'Nom': ['BISIMWA','SALUMU', 'MUSAU','SIMBI','TSHIBANGU','MUYAMBA'],\n",
    "    'Prenom': ['Destin','Ruben','Carla','Danh','Jenovic','Wilma'],\n",
    "    'Matricule': ['20241210', '20241211', '20241212', '20241213', '20241214', '20241215'],\n",
    "    'Age': [36, 28, 23, 27, 21, 29] \n",
    "}"
   ]
  },
  {
   "cell_type": "code",
   "execution_count": 33,
   "id": "5236902a-a7a8-452f-be20-c7a99bddee52",
   "metadata": {},
   "outputs": [
    {
     "data": {
      "text/plain": [
       "{'Nom': ['BISIMWA', 'SALUMU', 'MUSAU', 'SIMBI', 'TSHIBANGU', 'MUYAMBA'],\n",
       " 'Prenom': ['Destin', 'Ruben', 'Carla', 'Danh', 'Jenovic', 'Wilma'],\n",
       " 'Matricule': ['20241210',\n",
       "  '20241211',\n",
       "  '20241212',\n",
       "  '20241213',\n",
       "  '20241214',\n",
       "  '20241215'],\n",
       " 'Age': [36, 28, 23, 27, 21, 29]}"
      ]
     },
     "execution_count": 33,
     "metadata": {},
     "output_type": "execute_result"
    }
   ],
   "source": [
    "bac4_IA_student"
   ]
  },
  {
   "cell_type": "code",
   "execution_count": 34,
   "id": "ea8050a9-3afa-455f-8898-b2f664908893",
   "metadata": {},
   "outputs": [
    {
     "name": "stdout",
     "output_type": "stream",
     "text": [
      "{'Nom': ['BISIMWA', 'SALUMU', 'MUSAU', 'SIMBI', 'TSHIBANGU', 'MUYAMBA'], 'Prenom': ['Destin', 'Ruben', 'Carla', 'Danh', 'Jenovic', 'Wilma'], 'Matricule': ['20241210', '20241211', '20241212', '20241213', '20241214', '20241215'], 'Age': [36, 28, 23, 27, 21, 29]}\n"
     ]
    }
   ],
   "source": [
    "print(bac4_IA_student)"
   ]
  },
  {
   "cell_type": "code",
   "execution_count": 35,
   "id": "fe9745c9-c2f0-4492-afcf-8a2fc2908cc8",
   "metadata": {},
   "outputs": [],
   "source": [
    "# Convertir le dictionnaire en DataFrame\n",
    "import pandas as pd"
   ]
  },
  {
   "cell_type": "code",
   "execution_count": 36,
   "id": "fa2a9392-45fa-431e-80b9-65f0ef803188",
   "metadata": {},
   "outputs": [],
   "source": [
    "df = pd.DataFrame(bac4_IA_student)"
   ]
  },
  {
   "cell_type": "code",
   "execution_count": 37,
   "id": "d947bd50-7ee3-4122-a61e-1e6c67ba1abc",
   "metadata": {},
   "outputs": [
    {
     "data": {
      "text/html": [
       "<div>\n",
       "<style scoped>\n",
       "    .dataframe tbody tr th:only-of-type {\n",
       "        vertical-align: middle;\n",
       "    }\n",
       "\n",
       "    .dataframe tbody tr th {\n",
       "        vertical-align: top;\n",
       "    }\n",
       "\n",
       "    .dataframe thead th {\n",
       "        text-align: right;\n",
       "    }\n",
       "</style>\n",
       "<table border=\"1\" class=\"dataframe\">\n",
       "  <thead>\n",
       "    <tr style=\"text-align: right;\">\n",
       "      <th></th>\n",
       "      <th>Nom</th>\n",
       "      <th>Prenom</th>\n",
       "      <th>Matricule</th>\n",
       "      <th>Age</th>\n",
       "    </tr>\n",
       "  </thead>\n",
       "  <tbody>\n",
       "    <tr>\n",
       "      <th>0</th>\n",
       "      <td>BISIMWA</td>\n",
       "      <td>Destin</td>\n",
       "      <td>20241210</td>\n",
       "      <td>36</td>\n",
       "    </tr>\n",
       "    <tr>\n",
       "      <th>1</th>\n",
       "      <td>SALUMU</td>\n",
       "      <td>Ruben</td>\n",
       "      <td>20241211</td>\n",
       "      <td>28</td>\n",
       "    </tr>\n",
       "    <tr>\n",
       "      <th>2</th>\n",
       "      <td>MUSAU</td>\n",
       "      <td>Carla</td>\n",
       "      <td>20241212</td>\n",
       "      <td>23</td>\n",
       "    </tr>\n",
       "    <tr>\n",
       "      <th>3</th>\n",
       "      <td>SIMBI</td>\n",
       "      <td>Danh</td>\n",
       "      <td>20241213</td>\n",
       "      <td>27</td>\n",
       "    </tr>\n",
       "    <tr>\n",
       "      <th>4</th>\n",
       "      <td>TSHIBANGU</td>\n",
       "      <td>Jenovic</td>\n",
       "      <td>20241214</td>\n",
       "      <td>21</td>\n",
       "    </tr>\n",
       "    <tr>\n",
       "      <th>5</th>\n",
       "      <td>MUYAMBA</td>\n",
       "      <td>Wilma</td>\n",
       "      <td>20241215</td>\n",
       "      <td>29</td>\n",
       "    </tr>\n",
       "  </tbody>\n",
       "</table>\n",
       "</div>"
      ],
      "text/plain": [
       "         Nom   Prenom Matricule  Age\n",
       "0    BISIMWA   Destin  20241210   36\n",
       "1     SALUMU    Ruben  20241211   28\n",
       "2      MUSAU    Carla  20241212   23\n",
       "3      SIMBI     Danh  20241213   27\n",
       "4  TSHIBANGU  Jenovic  20241214   21\n",
       "5    MUYAMBA    Wilma  20241215   29"
      ]
     },
     "execution_count": 37,
     "metadata": {},
     "output_type": "execute_result"
    }
   ],
   "source": [
    "df"
   ]
  },
  {
   "cell_type": "code",
   "execution_count": 38,
   "id": "3d2482f4-8891-4bf6-8eaf-c48734c68040",
   "metadata": {},
   "outputs": [],
   "source": [
    "df.to_csv('bac4_IA.csv')"
   ]
  },
  {
   "cell_type": "code",
   "execution_count": 39,
   "id": "fd7d6f05-0d9f-413b-b4d5-abfac9390bb6",
   "metadata": {},
   "outputs": [],
   "source": [
    "#df.drop('Age', axis=1, inplace=True)"
   ]
  },
  {
   "cell_type": "code",
   "execution_count": 40,
   "id": "27ea84cc-1c59-4c2e-a24d-7be81612b723",
   "metadata": {},
   "outputs": [
    {
     "data": {
      "text/html": [
       "<div>\n",
       "<style scoped>\n",
       "    .dataframe tbody tr th:only-of-type {\n",
       "        vertical-align: middle;\n",
       "    }\n",
       "\n",
       "    .dataframe tbody tr th {\n",
       "        vertical-align: top;\n",
       "    }\n",
       "\n",
       "    .dataframe thead th {\n",
       "        text-align: right;\n",
       "    }\n",
       "</style>\n",
       "<table border=\"1\" class=\"dataframe\">\n",
       "  <thead>\n",
       "    <tr style=\"text-align: right;\">\n",
       "      <th></th>\n",
       "      <th>Nom</th>\n",
       "      <th>Prenom</th>\n",
       "      <th>Matricule</th>\n",
       "      <th>Age</th>\n",
       "    </tr>\n",
       "  </thead>\n",
       "  <tbody>\n",
       "    <tr>\n",
       "      <th>0</th>\n",
       "      <td>BISIMWA</td>\n",
       "      <td>Destin</td>\n",
       "      <td>20241210</td>\n",
       "      <td>36</td>\n",
       "    </tr>\n",
       "    <tr>\n",
       "      <th>1</th>\n",
       "      <td>SALUMU</td>\n",
       "      <td>Ruben</td>\n",
       "      <td>20241211</td>\n",
       "      <td>28</td>\n",
       "    </tr>\n",
       "    <tr>\n",
       "      <th>2</th>\n",
       "      <td>MUSAU</td>\n",
       "      <td>Carla</td>\n",
       "      <td>20241212</td>\n",
       "      <td>23</td>\n",
       "    </tr>\n",
       "    <tr>\n",
       "      <th>3</th>\n",
       "      <td>SIMBI</td>\n",
       "      <td>Danh</td>\n",
       "      <td>20241213</td>\n",
       "      <td>27</td>\n",
       "    </tr>\n",
       "    <tr>\n",
       "      <th>4</th>\n",
       "      <td>TSHIBANGU</td>\n",
       "      <td>Jenovic</td>\n",
       "      <td>20241214</td>\n",
       "      <td>21</td>\n",
       "    </tr>\n",
       "    <tr>\n",
       "      <th>5</th>\n",
       "      <td>MUYAMBA</td>\n",
       "      <td>Wilma</td>\n",
       "      <td>20241215</td>\n",
       "      <td>29</td>\n",
       "    </tr>\n",
       "  </tbody>\n",
       "</table>\n",
       "</div>"
      ],
      "text/plain": [
       "         Nom   Prenom Matricule  Age\n",
       "0    BISIMWA   Destin  20241210   36\n",
       "1     SALUMU    Ruben  20241211   28\n",
       "2      MUSAU    Carla  20241212   23\n",
       "3      SIMBI     Danh  20241213   27\n",
       "4  TSHIBANGU  Jenovic  20241214   21\n",
       "5    MUYAMBA    Wilma  20241215   29"
      ]
     },
     "execution_count": 40,
     "metadata": {},
     "output_type": "execute_result"
    }
   ],
   "source": [
    "df"
   ]
  },
  {
   "cell_type": "code",
   "execution_count": 41,
   "id": "1caf308b-a169-4c53-89cd-4d7b8cdf4e6f",
   "metadata": {},
   "outputs": [],
   "source": [
    "df['Gender'] = ['Homme', 'Homme','Femme', 'Homme', 'Homme', '###']"
   ]
  },
  {
   "cell_type": "code",
   "execution_count": 42,
   "id": "7b2430f3-65f9-4550-b3d8-ce0ec7f575c3",
   "metadata": {},
   "outputs": [
    {
     "data": {
      "text/html": [
       "<div>\n",
       "<style scoped>\n",
       "    .dataframe tbody tr th:only-of-type {\n",
       "        vertical-align: middle;\n",
       "    }\n",
       "\n",
       "    .dataframe tbody tr th {\n",
       "        vertical-align: top;\n",
       "    }\n",
       "\n",
       "    .dataframe thead th {\n",
       "        text-align: right;\n",
       "    }\n",
       "</style>\n",
       "<table border=\"1\" class=\"dataframe\">\n",
       "  <thead>\n",
       "    <tr style=\"text-align: right;\">\n",
       "      <th></th>\n",
       "      <th>Nom</th>\n",
       "      <th>Prenom</th>\n",
       "      <th>Matricule</th>\n",
       "      <th>Age</th>\n",
       "      <th>Gender</th>\n",
       "    </tr>\n",
       "  </thead>\n",
       "  <tbody>\n",
       "    <tr>\n",
       "      <th>0</th>\n",
       "      <td>BISIMWA</td>\n",
       "      <td>Destin</td>\n",
       "      <td>20241210</td>\n",
       "      <td>36</td>\n",
       "      <td>Homme</td>\n",
       "    </tr>\n",
       "    <tr>\n",
       "      <th>1</th>\n",
       "      <td>SALUMU</td>\n",
       "      <td>Ruben</td>\n",
       "      <td>20241211</td>\n",
       "      <td>28</td>\n",
       "      <td>Homme</td>\n",
       "    </tr>\n",
       "    <tr>\n",
       "      <th>2</th>\n",
       "      <td>MUSAU</td>\n",
       "      <td>Carla</td>\n",
       "      <td>20241212</td>\n",
       "      <td>23</td>\n",
       "      <td>Femme</td>\n",
       "    </tr>\n",
       "    <tr>\n",
       "      <th>3</th>\n",
       "      <td>SIMBI</td>\n",
       "      <td>Danh</td>\n",
       "      <td>20241213</td>\n",
       "      <td>27</td>\n",
       "      <td>Homme</td>\n",
       "    </tr>\n",
       "    <tr>\n",
       "      <th>4</th>\n",
       "      <td>TSHIBANGU</td>\n",
       "      <td>Jenovic</td>\n",
       "      <td>20241214</td>\n",
       "      <td>21</td>\n",
       "      <td>Homme</td>\n",
       "    </tr>\n",
       "    <tr>\n",
       "      <th>5</th>\n",
       "      <td>MUYAMBA</td>\n",
       "      <td>Wilma</td>\n",
       "      <td>20241215</td>\n",
       "      <td>29</td>\n",
       "      <td>###</td>\n",
       "    </tr>\n",
       "  </tbody>\n",
       "</table>\n",
       "</div>"
      ],
      "text/plain": [
       "         Nom   Prenom Matricule  Age Gender\n",
       "0    BISIMWA   Destin  20241210   36  Homme\n",
       "1     SALUMU    Ruben  20241211   28  Homme\n",
       "2      MUSAU    Carla  20241212   23  Femme\n",
       "3      SIMBI     Danh  20241213   27  Homme\n",
       "4  TSHIBANGU  Jenovic  20241214   21  Homme\n",
       "5    MUYAMBA    Wilma  20241215   29    ###"
      ]
     },
     "execution_count": 42,
     "metadata": {},
     "output_type": "execute_result"
    }
   ],
   "source": [
    "df"
   ]
  },
  {
   "cell_type": "code",
   "execution_count": 43,
   "id": "2bc9813d-aad8-488e-9554-273f3a34c240",
   "metadata": {},
   "outputs": [],
   "source": [
    "df['Gender'] = ['Homme', 'Homme','Femme', 'Homme', 'Homme', 'Homme']"
   ]
  },
  {
   "cell_type": "code",
   "execution_count": 44,
   "id": "97756fd9-4fee-4e7f-9b2f-94d130ab64c6",
   "metadata": {},
   "outputs": [
    {
     "data": {
      "text/html": [
       "<div>\n",
       "<style scoped>\n",
       "    .dataframe tbody tr th:only-of-type {\n",
       "        vertical-align: middle;\n",
       "    }\n",
       "\n",
       "    .dataframe tbody tr th {\n",
       "        vertical-align: top;\n",
       "    }\n",
       "\n",
       "    .dataframe thead th {\n",
       "        text-align: right;\n",
       "    }\n",
       "</style>\n",
       "<table border=\"1\" class=\"dataframe\">\n",
       "  <thead>\n",
       "    <tr style=\"text-align: right;\">\n",
       "      <th></th>\n",
       "      <th>Nom</th>\n",
       "      <th>Prenom</th>\n",
       "      <th>Matricule</th>\n",
       "      <th>Age</th>\n",
       "      <th>Gender</th>\n",
       "    </tr>\n",
       "  </thead>\n",
       "  <tbody>\n",
       "    <tr>\n",
       "      <th>0</th>\n",
       "      <td>BISIMWA</td>\n",
       "      <td>Destin</td>\n",
       "      <td>20241210</td>\n",
       "      <td>36</td>\n",
       "      <td>Homme</td>\n",
       "    </tr>\n",
       "    <tr>\n",
       "      <th>1</th>\n",
       "      <td>SALUMU</td>\n",
       "      <td>Ruben</td>\n",
       "      <td>20241211</td>\n",
       "      <td>28</td>\n",
       "      <td>Homme</td>\n",
       "    </tr>\n",
       "    <tr>\n",
       "      <th>2</th>\n",
       "      <td>MUSAU</td>\n",
       "      <td>Carla</td>\n",
       "      <td>20241212</td>\n",
       "      <td>23</td>\n",
       "      <td>Femme</td>\n",
       "    </tr>\n",
       "    <tr>\n",
       "      <th>3</th>\n",
       "      <td>SIMBI</td>\n",
       "      <td>Danh</td>\n",
       "      <td>20241213</td>\n",
       "      <td>27</td>\n",
       "      <td>Homme</td>\n",
       "    </tr>\n",
       "    <tr>\n",
       "      <th>4</th>\n",
       "      <td>TSHIBANGU</td>\n",
       "      <td>Jenovic</td>\n",
       "      <td>20241214</td>\n",
       "      <td>21</td>\n",
       "      <td>Homme</td>\n",
       "    </tr>\n",
       "    <tr>\n",
       "      <th>5</th>\n",
       "      <td>MUYAMBA</td>\n",
       "      <td>Wilma</td>\n",
       "      <td>20241215</td>\n",
       "      <td>29</td>\n",
       "      <td>Homme</td>\n",
       "    </tr>\n",
       "  </tbody>\n",
       "</table>\n",
       "</div>"
      ],
      "text/plain": [
       "         Nom   Prenom Matricule  Age Gender\n",
       "0    BISIMWA   Destin  20241210   36  Homme\n",
       "1     SALUMU    Ruben  20241211   28  Homme\n",
       "2      MUSAU    Carla  20241212   23  Femme\n",
       "3      SIMBI     Danh  20241213   27  Homme\n",
       "4  TSHIBANGU  Jenovic  20241214   21  Homme\n",
       "5    MUYAMBA    Wilma  20241215   29  Homme"
      ]
     },
     "execution_count": 44,
     "metadata": {},
     "output_type": "execute_result"
    }
   ],
   "source": [
    "df"
   ]
  },
  {
   "cell_type": "code",
   "execution_count": 45,
   "id": "cb43163f-6ae3-41d9-ae54-779c9b37afd9",
   "metadata": {},
   "outputs": [
    {
     "data": {
      "text/html": [
       "<div>\n",
       "<style scoped>\n",
       "    .dataframe tbody tr th:only-of-type {\n",
       "        vertical-align: middle;\n",
       "    }\n",
       "\n",
       "    .dataframe tbody tr th {\n",
       "        vertical-align: top;\n",
       "    }\n",
       "\n",
       "    .dataframe thead th {\n",
       "        text-align: right;\n",
       "    }\n",
       "</style>\n",
       "<table border=\"1\" class=\"dataframe\">\n",
       "  <thead>\n",
       "    <tr style=\"text-align: right;\">\n",
       "      <th></th>\n",
       "      <th>Age</th>\n",
       "    </tr>\n",
       "  </thead>\n",
       "  <tbody>\n",
       "    <tr>\n",
       "      <th>count</th>\n",
       "      <td>6.000000</td>\n",
       "    </tr>\n",
       "    <tr>\n",
       "      <th>mean</th>\n",
       "      <td>27.333333</td>\n",
       "    </tr>\n",
       "    <tr>\n",
       "      <th>std</th>\n",
       "      <td>5.240865</td>\n",
       "    </tr>\n",
       "    <tr>\n",
       "      <th>min</th>\n",
       "      <td>21.000000</td>\n",
       "    </tr>\n",
       "    <tr>\n",
       "      <th>25%</th>\n",
       "      <td>24.000000</td>\n",
       "    </tr>\n",
       "    <tr>\n",
       "      <th>50%</th>\n",
       "      <td>27.500000</td>\n",
       "    </tr>\n",
       "    <tr>\n",
       "      <th>75%</th>\n",
       "      <td>28.750000</td>\n",
       "    </tr>\n",
       "    <tr>\n",
       "      <th>max</th>\n",
       "      <td>36.000000</td>\n",
       "    </tr>\n",
       "  </tbody>\n",
       "</table>\n",
       "</div>"
      ],
      "text/plain": [
       "             Age\n",
       "count   6.000000\n",
       "mean   27.333333\n",
       "std     5.240865\n",
       "min    21.000000\n",
       "25%    24.000000\n",
       "50%    27.500000\n",
       "75%    28.750000\n",
       "max    36.000000"
      ]
     },
     "execution_count": 45,
     "metadata": {},
     "output_type": "execute_result"
    }
   ],
   "source": [
    "df.describe()"
   ]
  },
  {
   "cell_type": "code",
   "execution_count": 46,
   "id": "6e7983fe-9b37-41d7-a48d-97dbb1facb43",
   "metadata": {},
   "outputs": [
    {
     "name": "stdout",
     "output_type": "stream",
     "text": [
      "<class 'pandas.core.frame.DataFrame'>\n",
      "RangeIndex: 6 entries, 0 to 5\n",
      "Data columns (total 5 columns):\n",
      " #   Column     Non-Null Count  Dtype \n",
      "---  ------     --------------  ----- \n",
      " 0   Nom        6 non-null      object\n",
      " 1   Prenom     6 non-null      object\n",
      " 2   Matricule  6 non-null      object\n",
      " 3   Age        6 non-null      int64 \n",
      " 4   Gender     6 non-null      object\n",
      "dtypes: int64(1), object(4)\n",
      "memory usage: 368.0+ bytes\n"
     ]
    }
   ],
   "source": [
    "df.info()"
   ]
  },
  {
   "cell_type": "code",
   "execution_count": 47,
   "id": "23695ac4-8554-40ab-a49c-3110bb191a28",
   "metadata": {},
   "outputs": [
    {
     "data": {
      "text/plain": [
       "Nom          0\n",
       "Prenom       0\n",
       "Matricule    0\n",
       "Age          0\n",
       "Gender       0\n",
       "dtype: int64"
      ]
     },
     "execution_count": 47,
     "metadata": {},
     "output_type": "execute_result"
    }
   ],
   "source": [
    "df.isnull().sum()"
   ]
  },
  {
   "cell_type": "code",
   "execution_count": 48,
   "id": "e15247d7-74a7-4415-964f-13e4ccbaa93b",
   "metadata": {},
   "outputs": [],
   "source": [
    "## Slicing"
   ]
  },
  {
   "cell_type": "code",
   "execution_count": 49,
   "id": "b987ebc4-0acf-42fa-aa43-49a4f7489ecb",
   "metadata": {},
   "outputs": [
    {
     "data": {
      "text/html": [
       "<div>\n",
       "<style scoped>\n",
       "    .dataframe tbody tr th:only-of-type {\n",
       "        vertical-align: middle;\n",
       "    }\n",
       "\n",
       "    .dataframe tbody tr th {\n",
       "        vertical-align: top;\n",
       "    }\n",
       "\n",
       "    .dataframe thead th {\n",
       "        text-align: right;\n",
       "    }\n",
       "</style>\n",
       "<table border=\"1\" class=\"dataframe\">\n",
       "  <thead>\n",
       "    <tr style=\"text-align: right;\">\n",
       "      <th></th>\n",
       "      <th>Nom</th>\n",
       "      <th>Prenom</th>\n",
       "      <th>Matricule</th>\n",
       "      <th>Age</th>\n",
       "      <th>Gender</th>\n",
       "    </tr>\n",
       "  </thead>\n",
       "  <tbody>\n",
       "    <tr>\n",
       "      <th>0</th>\n",
       "      <td>BISIMWA</td>\n",
       "      <td>Destin</td>\n",
       "      <td>20241210</td>\n",
       "      <td>36</td>\n",
       "      <td>Homme</td>\n",
       "    </tr>\n",
       "    <tr>\n",
       "      <th>1</th>\n",
       "      <td>SALUMU</td>\n",
       "      <td>Ruben</td>\n",
       "      <td>20241211</td>\n",
       "      <td>28</td>\n",
       "      <td>Homme</td>\n",
       "    </tr>\n",
       "    <tr>\n",
       "      <th>2</th>\n",
       "      <td>MUSAU</td>\n",
       "      <td>Carla</td>\n",
       "      <td>20241212</td>\n",
       "      <td>23</td>\n",
       "      <td>Femme</td>\n",
       "    </tr>\n",
       "    <tr>\n",
       "      <th>3</th>\n",
       "      <td>SIMBI</td>\n",
       "      <td>Danh</td>\n",
       "      <td>20241213</td>\n",
       "      <td>27</td>\n",
       "      <td>Homme</td>\n",
       "    </tr>\n",
       "    <tr>\n",
       "      <th>4</th>\n",
       "      <td>TSHIBANGU</td>\n",
       "      <td>Jenovic</td>\n",
       "      <td>20241214</td>\n",
       "      <td>21</td>\n",
       "      <td>Homme</td>\n",
       "    </tr>\n",
       "    <tr>\n",
       "      <th>5</th>\n",
       "      <td>MUYAMBA</td>\n",
       "      <td>Wilma</td>\n",
       "      <td>20241215</td>\n",
       "      <td>29</td>\n",
       "      <td>Homme</td>\n",
       "    </tr>\n",
       "  </tbody>\n",
       "</table>\n",
       "</div>"
      ],
      "text/plain": [
       "         Nom   Prenom Matricule  Age Gender\n",
       "0    BISIMWA   Destin  20241210   36  Homme\n",
       "1     SALUMU    Ruben  20241211   28  Homme\n",
       "2      MUSAU    Carla  20241212   23  Femme\n",
       "3      SIMBI     Danh  20241213   27  Homme\n",
       "4  TSHIBANGU  Jenovic  20241214   21  Homme\n",
       "5    MUYAMBA    Wilma  20241215   29  Homme"
      ]
     },
     "execution_count": 49,
     "metadata": {},
     "output_type": "execute_result"
    }
   ],
   "source": [
    "df"
   ]
  },
  {
   "cell_type": "code",
   "execution_count": 50,
   "id": "c23ff3d4-3094-4f54-bbee-952fef94a8d1",
   "metadata": {},
   "outputs": [],
   "source": [
    "df['Sex'] = ['M','M','F','M','M','M']"
   ]
  },
  {
   "cell_type": "code",
   "execution_count": 51,
   "id": "0196ce77-b52e-43ef-a76e-ea8cae63efcf",
   "metadata": {},
   "outputs": [
    {
     "data": {
      "text/html": [
       "<div>\n",
       "<style scoped>\n",
       "    .dataframe tbody tr th:only-of-type {\n",
       "        vertical-align: middle;\n",
       "    }\n",
       "\n",
       "    .dataframe tbody tr th {\n",
       "        vertical-align: top;\n",
       "    }\n",
       "\n",
       "    .dataframe thead th {\n",
       "        text-align: right;\n",
       "    }\n",
       "</style>\n",
       "<table border=\"1\" class=\"dataframe\">\n",
       "  <thead>\n",
       "    <tr style=\"text-align: right;\">\n",
       "      <th></th>\n",
       "      <th>Nom</th>\n",
       "      <th>Prenom</th>\n",
       "      <th>Matricule</th>\n",
       "      <th>Age</th>\n",
       "      <th>Gender</th>\n",
       "      <th>Sex</th>\n",
       "    </tr>\n",
       "  </thead>\n",
       "  <tbody>\n",
       "    <tr>\n",
       "      <th>0</th>\n",
       "      <td>BISIMWA</td>\n",
       "      <td>Destin</td>\n",
       "      <td>20241210</td>\n",
       "      <td>36</td>\n",
       "      <td>Homme</td>\n",
       "      <td>M</td>\n",
       "    </tr>\n",
       "    <tr>\n",
       "      <th>1</th>\n",
       "      <td>SALUMU</td>\n",
       "      <td>Ruben</td>\n",
       "      <td>20241211</td>\n",
       "      <td>28</td>\n",
       "      <td>Homme</td>\n",
       "      <td>M</td>\n",
       "    </tr>\n",
       "    <tr>\n",
       "      <th>2</th>\n",
       "      <td>MUSAU</td>\n",
       "      <td>Carla</td>\n",
       "      <td>20241212</td>\n",
       "      <td>23</td>\n",
       "      <td>Femme</td>\n",
       "      <td>F</td>\n",
       "    </tr>\n",
       "    <tr>\n",
       "      <th>3</th>\n",
       "      <td>SIMBI</td>\n",
       "      <td>Danh</td>\n",
       "      <td>20241213</td>\n",
       "      <td>27</td>\n",
       "      <td>Homme</td>\n",
       "      <td>M</td>\n",
       "    </tr>\n",
       "    <tr>\n",
       "      <th>4</th>\n",
       "      <td>TSHIBANGU</td>\n",
       "      <td>Jenovic</td>\n",
       "      <td>20241214</td>\n",
       "      <td>21</td>\n",
       "      <td>Homme</td>\n",
       "      <td>M</td>\n",
       "    </tr>\n",
       "    <tr>\n",
       "      <th>5</th>\n",
       "      <td>MUYAMBA</td>\n",
       "      <td>Wilma</td>\n",
       "      <td>20241215</td>\n",
       "      <td>29</td>\n",
       "      <td>Homme</td>\n",
       "      <td>M</td>\n",
       "    </tr>\n",
       "  </tbody>\n",
       "</table>\n",
       "</div>"
      ],
      "text/plain": [
       "         Nom   Prenom Matricule  Age Gender Sex\n",
       "0    BISIMWA   Destin  20241210   36  Homme   M\n",
       "1     SALUMU    Ruben  20241211   28  Homme   M\n",
       "2      MUSAU    Carla  20241212   23  Femme   F\n",
       "3      SIMBI     Danh  20241213   27  Homme   M\n",
       "4  TSHIBANGU  Jenovic  20241214   21  Homme   M\n",
       "5    MUYAMBA    Wilma  20241215   29  Homme   M"
      ]
     },
     "execution_count": 51,
     "metadata": {},
     "output_type": "execute_result"
    }
   ],
   "source": [
    "df"
   ]
  },
  {
   "cell_type": "code",
   "execution_count": 52,
   "id": "a4803342-e6f5-4758-b455-0aa3cf6f2db7",
   "metadata": {},
   "outputs": [
    {
     "data": {
      "text/plain": [
       "\"\\n\\nSex_Mapping = {\\n    'M': 1,\\n    'F':0\\n}\\n\\ndf['Sex'] = df['Sex'].map(Sex_Mapping)\\n\""
      ]
     },
     "execution_count": 52,
     "metadata": {},
     "output_type": "execute_result"
    }
   ],
   "source": [
    "# Method 1: Mapping de Sex \n",
    "\"\"\"\n",
    "\n",
    "Sex_Mapping = {\n",
    "    'M': 1,\n",
    "    'F':0\n",
    "}\n",
    "\n",
    "df['Sex'] = df['Sex'].map(Sex_Mapping)\n",
    "\"\"\""
   ]
  },
  {
   "cell_type": "code",
   "execution_count": 53,
   "id": "00f54193-1c33-42a8-ba7e-7d2568ca39dc",
   "metadata": {},
   "outputs": [
    {
     "data": {
      "text/html": [
       "<div>\n",
       "<style scoped>\n",
       "    .dataframe tbody tr th:only-of-type {\n",
       "        vertical-align: middle;\n",
       "    }\n",
       "\n",
       "    .dataframe tbody tr th {\n",
       "        vertical-align: top;\n",
       "    }\n",
       "\n",
       "    .dataframe thead th {\n",
       "        text-align: right;\n",
       "    }\n",
       "</style>\n",
       "<table border=\"1\" class=\"dataframe\">\n",
       "  <thead>\n",
       "    <tr style=\"text-align: right;\">\n",
       "      <th></th>\n",
       "      <th>Nom</th>\n",
       "      <th>Prenom</th>\n",
       "      <th>Matricule</th>\n",
       "      <th>Age</th>\n",
       "      <th>Gender</th>\n",
       "      <th>Sex</th>\n",
       "    </tr>\n",
       "  </thead>\n",
       "  <tbody>\n",
       "    <tr>\n",
       "      <th>0</th>\n",
       "      <td>BISIMWA</td>\n",
       "      <td>Destin</td>\n",
       "      <td>20241210</td>\n",
       "      <td>36</td>\n",
       "      <td>Homme</td>\n",
       "      <td>M</td>\n",
       "    </tr>\n",
       "    <tr>\n",
       "      <th>1</th>\n",
       "      <td>SALUMU</td>\n",
       "      <td>Ruben</td>\n",
       "      <td>20241211</td>\n",
       "      <td>28</td>\n",
       "      <td>Homme</td>\n",
       "      <td>M</td>\n",
       "    </tr>\n",
       "    <tr>\n",
       "      <th>2</th>\n",
       "      <td>MUSAU</td>\n",
       "      <td>Carla</td>\n",
       "      <td>20241212</td>\n",
       "      <td>23</td>\n",
       "      <td>Femme</td>\n",
       "      <td>F</td>\n",
       "    </tr>\n",
       "    <tr>\n",
       "      <th>3</th>\n",
       "      <td>SIMBI</td>\n",
       "      <td>Danh</td>\n",
       "      <td>20241213</td>\n",
       "      <td>27</td>\n",
       "      <td>Homme</td>\n",
       "      <td>M</td>\n",
       "    </tr>\n",
       "    <tr>\n",
       "      <th>4</th>\n",
       "      <td>TSHIBANGU</td>\n",
       "      <td>Jenovic</td>\n",
       "      <td>20241214</td>\n",
       "      <td>21</td>\n",
       "      <td>Homme</td>\n",
       "      <td>M</td>\n",
       "    </tr>\n",
       "    <tr>\n",
       "      <th>5</th>\n",
       "      <td>MUYAMBA</td>\n",
       "      <td>Wilma</td>\n",
       "      <td>20241215</td>\n",
       "      <td>29</td>\n",
       "      <td>Homme</td>\n",
       "      <td>M</td>\n",
       "    </tr>\n",
       "  </tbody>\n",
       "</table>\n",
       "</div>"
      ],
      "text/plain": [
       "         Nom   Prenom Matricule  Age Gender Sex\n",
       "0    BISIMWA   Destin  20241210   36  Homme   M\n",
       "1     SALUMU    Ruben  20241211   28  Homme   M\n",
       "2      MUSAU    Carla  20241212   23  Femme   F\n",
       "3      SIMBI     Danh  20241213   27  Homme   M\n",
       "4  TSHIBANGU  Jenovic  20241214   21  Homme   M\n",
       "5    MUYAMBA    Wilma  20241215   29  Homme   M"
      ]
     },
     "execution_count": 53,
     "metadata": {},
     "output_type": "execute_result"
    }
   ],
   "source": [
    "df"
   ]
  },
  {
   "cell_type": "code",
   "execution_count": 54,
   "id": "491708dc-61c1-4f3c-b40f-ae706250fc46",
   "metadata": {},
   "outputs": [],
   "source": [
    "# Method 2 : np.where\n",
    "\n",
    "df['Sex'] = np.where(df['Sex'] == 'M', 1, 0)"
   ]
  },
  {
   "cell_type": "code",
   "execution_count": 55,
   "id": "f1bf1075-f33b-47f5-98af-78ec1bb7cbae",
   "metadata": {},
   "outputs": [
    {
     "data": {
      "text/html": [
       "<div>\n",
       "<style scoped>\n",
       "    .dataframe tbody tr th:only-of-type {\n",
       "        vertical-align: middle;\n",
       "    }\n",
       "\n",
       "    .dataframe tbody tr th {\n",
       "        vertical-align: top;\n",
       "    }\n",
       "\n",
       "    .dataframe thead th {\n",
       "        text-align: right;\n",
       "    }\n",
       "</style>\n",
       "<table border=\"1\" class=\"dataframe\">\n",
       "  <thead>\n",
       "    <tr style=\"text-align: right;\">\n",
       "      <th></th>\n",
       "      <th>Nom</th>\n",
       "      <th>Prenom</th>\n",
       "      <th>Matricule</th>\n",
       "      <th>Age</th>\n",
       "      <th>Gender</th>\n",
       "      <th>Sex</th>\n",
       "    </tr>\n",
       "  </thead>\n",
       "  <tbody>\n",
       "    <tr>\n",
       "      <th>0</th>\n",
       "      <td>BISIMWA</td>\n",
       "      <td>Destin</td>\n",
       "      <td>20241210</td>\n",
       "      <td>36</td>\n",
       "      <td>Homme</td>\n",
       "      <td>1</td>\n",
       "    </tr>\n",
       "    <tr>\n",
       "      <th>1</th>\n",
       "      <td>SALUMU</td>\n",
       "      <td>Ruben</td>\n",
       "      <td>20241211</td>\n",
       "      <td>28</td>\n",
       "      <td>Homme</td>\n",
       "      <td>1</td>\n",
       "    </tr>\n",
       "    <tr>\n",
       "      <th>2</th>\n",
       "      <td>MUSAU</td>\n",
       "      <td>Carla</td>\n",
       "      <td>20241212</td>\n",
       "      <td>23</td>\n",
       "      <td>Femme</td>\n",
       "      <td>0</td>\n",
       "    </tr>\n",
       "    <tr>\n",
       "      <th>3</th>\n",
       "      <td>SIMBI</td>\n",
       "      <td>Danh</td>\n",
       "      <td>20241213</td>\n",
       "      <td>27</td>\n",
       "      <td>Homme</td>\n",
       "      <td>1</td>\n",
       "    </tr>\n",
       "    <tr>\n",
       "      <th>4</th>\n",
       "      <td>TSHIBANGU</td>\n",
       "      <td>Jenovic</td>\n",
       "      <td>20241214</td>\n",
       "      <td>21</td>\n",
       "      <td>Homme</td>\n",
       "      <td>1</td>\n",
       "    </tr>\n",
       "    <tr>\n",
       "      <th>5</th>\n",
       "      <td>MUYAMBA</td>\n",
       "      <td>Wilma</td>\n",
       "      <td>20241215</td>\n",
       "      <td>29</td>\n",
       "      <td>Homme</td>\n",
       "      <td>1</td>\n",
       "    </tr>\n",
       "  </tbody>\n",
       "</table>\n",
       "</div>"
      ],
      "text/plain": [
       "         Nom   Prenom Matricule  Age Gender  Sex\n",
       "0    BISIMWA   Destin  20241210   36  Homme    1\n",
       "1     SALUMU    Ruben  20241211   28  Homme    1\n",
       "2      MUSAU    Carla  20241212   23  Femme    0\n",
       "3      SIMBI     Danh  20241213   27  Homme    1\n",
       "4  TSHIBANGU  Jenovic  20241214   21  Homme    1\n",
       "5    MUYAMBA    Wilma  20241215   29  Homme    1"
      ]
     },
     "execution_count": 55,
     "metadata": {},
     "output_type": "execute_result"
    }
   ],
   "source": [
    "df"
   ]
  },
  {
   "cell_type": "code",
   "execution_count": 56,
   "id": "680f5597-1938-4606-a5ae-f41680131615",
   "metadata": {},
   "outputs": [
    {
     "data": {
      "text/html": [
       "<div>\n",
       "<style scoped>\n",
       "    .dataframe tbody tr th:only-of-type {\n",
       "        vertical-align: middle;\n",
       "    }\n",
       "\n",
       "    .dataframe tbody tr th {\n",
       "        vertical-align: top;\n",
       "    }\n",
       "\n",
       "    .dataframe thead th {\n",
       "        text-align: right;\n",
       "    }\n",
       "</style>\n",
       "<table border=\"1\" class=\"dataframe\">\n",
       "  <thead>\n",
       "    <tr style=\"text-align: right;\">\n",
       "      <th></th>\n",
       "      <th>Nom</th>\n",
       "      <th>Prenom</th>\n",
       "      <th>Matricule</th>\n",
       "      <th>Age</th>\n",
       "      <th>Gender</th>\n",
       "      <th>Sex</th>\n",
       "    </tr>\n",
       "  </thead>\n",
       "  <tbody>\n",
       "    <tr>\n",
       "      <th>0</th>\n",
       "      <td>BISIMWA</td>\n",
       "      <td>Destin</td>\n",
       "      <td>20241210</td>\n",
       "      <td>36</td>\n",
       "      <td>Homme</td>\n",
       "      <td>1</td>\n",
       "    </tr>\n",
       "    <tr>\n",
       "      <th>1</th>\n",
       "      <td>SALUMU</td>\n",
       "      <td>Ruben</td>\n",
       "      <td>20241211</td>\n",
       "      <td>28</td>\n",
       "      <td>Homme</td>\n",
       "      <td>1</td>\n",
       "    </tr>\n",
       "    <tr>\n",
       "      <th>2</th>\n",
       "      <td>MUSAU</td>\n",
       "      <td>Carla</td>\n",
       "      <td>20241212</td>\n",
       "      <td>23</td>\n",
       "      <td>Femme</td>\n",
       "      <td>0</td>\n",
       "    </tr>\n",
       "    <tr>\n",
       "      <th>3</th>\n",
       "      <td>SIMBI</td>\n",
       "      <td>Danh</td>\n",
       "      <td>20241213</td>\n",
       "      <td>27</td>\n",
       "      <td>Homme</td>\n",
       "      <td>1</td>\n",
       "    </tr>\n",
       "    <tr>\n",
       "      <th>4</th>\n",
       "      <td>TSHIBANGU</td>\n",
       "      <td>Jenovic</td>\n",
       "      <td>20241214</td>\n",
       "      <td>21</td>\n",
       "      <td>Homme</td>\n",
       "      <td>1</td>\n",
       "    </tr>\n",
       "    <tr>\n",
       "      <th>5</th>\n",
       "      <td>MUYAMBA</td>\n",
       "      <td>Wilma</td>\n",
       "      <td>20241215</td>\n",
       "      <td>29</td>\n",
       "      <td>Homme</td>\n",
       "      <td>1</td>\n",
       "    </tr>\n",
       "  </tbody>\n",
       "</table>\n",
       "</div>"
      ],
      "text/plain": [
       "         Nom   Prenom Matricule  Age Gender  Sex\n",
       "0    BISIMWA   Destin  20241210   36  Homme    1\n",
       "1     SALUMU    Ruben  20241211   28  Homme    1\n",
       "2      MUSAU    Carla  20241212   23  Femme    0\n",
       "3      SIMBI     Danh  20241213   27  Homme    1\n",
       "4  TSHIBANGU  Jenovic  20241214   21  Homme    1\n",
       "5    MUYAMBA    Wilma  20241215   29  Homme    1"
      ]
     },
     "execution_count": 56,
     "metadata": {},
     "output_type": "execute_result"
    }
   ],
   "source": [
    "## Slicing : loc et iloc\n",
    "\n",
    "#df.loc[1:, 2:]\n",
    "df.iloc[ : , : ]"
   ]
  },
  {
   "cell_type": "code",
   "execution_count": 57,
   "id": "e2737951-dc74-43f9-91cd-8cc290e8639d",
   "metadata": {},
   "outputs": [
    {
     "data": {
      "text/html": [
       "<div>\n",
       "<style scoped>\n",
       "    .dataframe tbody tr th:only-of-type {\n",
       "        vertical-align: middle;\n",
       "    }\n",
       "\n",
       "    .dataframe tbody tr th {\n",
       "        vertical-align: top;\n",
       "    }\n",
       "\n",
       "    .dataframe thead th {\n",
       "        text-align: right;\n",
       "    }\n",
       "</style>\n",
       "<table border=\"1\" class=\"dataframe\">\n",
       "  <thead>\n",
       "    <tr style=\"text-align: right;\">\n",
       "      <th></th>\n",
       "      <th>Matricule</th>\n",
       "      <th>Age</th>\n",
       "    </tr>\n",
       "  </thead>\n",
       "  <tbody>\n",
       "    <tr>\n",
       "      <th>1</th>\n",
       "      <td>20241211</td>\n",
       "      <td>28</td>\n",
       "    </tr>\n",
       "    <tr>\n",
       "      <th>2</th>\n",
       "      <td>20241212</td>\n",
       "      <td>23</td>\n",
       "    </tr>\n",
       "  </tbody>\n",
       "</table>\n",
       "</div>"
      ],
      "text/plain": [
       "  Matricule  Age\n",
       "1  20241211   28\n",
       "2  20241212   23"
      ]
     },
     "execution_count": 57,
     "metadata": {},
     "output_type": "execute_result"
    }
   ],
   "source": [
    "df.iloc[ 1:3 , 2:4 ]"
   ]
  },
  {
   "cell_type": "code",
   "execution_count": 58,
   "id": "009235bb-0682-486c-9f41-af05c9d4b808",
   "metadata": {},
   "outputs": [
    {
     "data": {
      "text/html": [
       "<div>\n",
       "<style scoped>\n",
       "    .dataframe tbody tr th:only-of-type {\n",
       "        vertical-align: middle;\n",
       "    }\n",
       "\n",
       "    .dataframe tbody tr th {\n",
       "        vertical-align: top;\n",
       "    }\n",
       "\n",
       "    .dataframe thead th {\n",
       "        text-align: right;\n",
       "    }\n",
       "</style>\n",
       "<table border=\"1\" class=\"dataframe\">\n",
       "  <thead>\n",
       "    <tr style=\"text-align: right;\">\n",
       "      <th></th>\n",
       "      <th>Nom</th>\n",
       "      <th>Prenom</th>\n",
       "      <th>Matricule</th>\n",
       "      <th>Age</th>\n",
       "      <th>Gender</th>\n",
       "    </tr>\n",
       "  </thead>\n",
       "  <tbody>\n",
       "    <tr>\n",
       "      <th>0</th>\n",
       "      <td>BISIMWA</td>\n",
       "      <td>Destin</td>\n",
       "      <td>20241210</td>\n",
       "      <td>36</td>\n",
       "      <td>Homme</td>\n",
       "    </tr>\n",
       "    <tr>\n",
       "      <th>1</th>\n",
       "      <td>SALUMU</td>\n",
       "      <td>Ruben</td>\n",
       "      <td>20241211</td>\n",
       "      <td>28</td>\n",
       "      <td>Homme</td>\n",
       "    </tr>\n",
       "    <tr>\n",
       "      <th>2</th>\n",
       "      <td>MUSAU</td>\n",
       "      <td>Carla</td>\n",
       "      <td>20241212</td>\n",
       "      <td>23</td>\n",
       "      <td>Femme</td>\n",
       "    </tr>\n",
       "    <tr>\n",
       "      <th>3</th>\n",
       "      <td>SIMBI</td>\n",
       "      <td>Danh</td>\n",
       "      <td>20241213</td>\n",
       "      <td>27</td>\n",
       "      <td>Homme</td>\n",
       "    </tr>\n",
       "    <tr>\n",
       "      <th>4</th>\n",
       "      <td>TSHIBANGU</td>\n",
       "      <td>Jenovic</td>\n",
       "      <td>20241214</td>\n",
       "      <td>21</td>\n",
       "      <td>Homme</td>\n",
       "    </tr>\n",
       "    <tr>\n",
       "      <th>5</th>\n",
       "      <td>MUYAMBA</td>\n",
       "      <td>Wilma</td>\n",
       "      <td>20241215</td>\n",
       "      <td>29</td>\n",
       "      <td>Homme</td>\n",
       "    </tr>\n",
       "  </tbody>\n",
       "</table>\n",
       "</div>"
      ],
      "text/plain": [
       "         Nom   Prenom Matricule  Age Gender\n",
       "0    BISIMWA   Destin  20241210   36  Homme\n",
       "1     SALUMU    Ruben  20241211   28  Homme\n",
       "2      MUSAU    Carla  20241212   23  Femme\n",
       "3      SIMBI     Danh  20241213   27  Homme\n",
       "4  TSHIBANGU  Jenovic  20241214   21  Homme\n",
       "5    MUYAMBA    Wilma  20241215   29  Homme"
      ]
     },
     "execution_count": 58,
     "metadata": {},
     "output_type": "execute_result"
    }
   ],
   "source": [
    "X = df.iloc[ : , :-1]\n",
    "X"
   ]
  },
  {
   "cell_type": "code",
   "execution_count": 59,
   "id": "b67b8c8f-8f61-44a0-9c73-e58713eceecf",
   "metadata": {},
   "outputs": [
    {
     "name": "stdout",
     "output_type": "stream",
     "text": [
      "  Matricule\n",
      "3  20241213\n"
     ]
    }
   ],
   "source": [
    "print(df.iloc[ 3:4 , 2:3])"
   ]
  },
  {
   "cell_type": "code",
   "execution_count": 60,
   "id": "e6a800e2-ca1d-47b0-95a9-47ac8920d154",
   "metadata": {},
   "outputs": [
    {
     "name": "stdout",
     "output_type": "stream",
     "text": [
      "         Nom   Prenom  Age Gender\n",
      "0    BISIMWA   Destin   36  Homme\n",
      "1     SALUMU    Ruben   28  Homme\n",
      "2      MUSAU    Carla   23  Femme\n",
      "3      SIMBI     Danh   27  Homme\n",
      "4  TSHIBANGU  Jenovic   21  Homme\n",
      "5    MUYAMBA    Wilma   29  Homme\n"
     ]
    }
   ],
   "source": [
    "print(df.iloc[ : , [0,1,3,4]])"
   ]
  },
  {
   "cell_type": "code",
   "execution_count": 61,
   "id": "ca024017-c865-4d36-8ecf-47a81e2e4d47",
   "metadata": {},
   "outputs": [
    {
     "data": {
      "text/html": [
       "<div>\n",
       "<style scoped>\n",
       "    .dataframe tbody tr th:only-of-type {\n",
       "        vertical-align: middle;\n",
       "    }\n",
       "\n",
       "    .dataframe tbody tr th {\n",
       "        vertical-align: top;\n",
       "    }\n",
       "\n",
       "    .dataframe thead th {\n",
       "        text-align: right;\n",
       "    }\n",
       "</style>\n",
       "<table border=\"1\" class=\"dataframe\">\n",
       "  <thead>\n",
       "    <tr style=\"text-align: right;\">\n",
       "      <th></th>\n",
       "      <th>Nom</th>\n",
       "      <th>Prenom</th>\n",
       "      <th>Age</th>\n",
       "      <th>Gender</th>\n",
       "    </tr>\n",
       "  </thead>\n",
       "  <tbody>\n",
       "    <tr>\n",
       "      <th>0</th>\n",
       "      <td>BISIMWA</td>\n",
       "      <td>Destin</td>\n",
       "      <td>36</td>\n",
       "      <td>Homme</td>\n",
       "    </tr>\n",
       "    <tr>\n",
       "      <th>1</th>\n",
       "      <td>SALUMU</td>\n",
       "      <td>Ruben</td>\n",
       "      <td>28</td>\n",
       "      <td>Homme</td>\n",
       "    </tr>\n",
       "    <tr>\n",
       "      <th>2</th>\n",
       "      <td>MUSAU</td>\n",
       "      <td>Carla</td>\n",
       "      <td>23</td>\n",
       "      <td>Femme</td>\n",
       "    </tr>\n",
       "    <tr>\n",
       "      <th>3</th>\n",
       "      <td>SIMBI</td>\n",
       "      <td>Danh</td>\n",
       "      <td>27</td>\n",
       "      <td>Homme</td>\n",
       "    </tr>\n",
       "    <tr>\n",
       "      <th>4</th>\n",
       "      <td>TSHIBANGU</td>\n",
       "      <td>Jenovic</td>\n",
       "      <td>21</td>\n",
       "      <td>Homme</td>\n",
       "    </tr>\n",
       "    <tr>\n",
       "      <th>5</th>\n",
       "      <td>MUYAMBA</td>\n",
       "      <td>Wilma</td>\n",
       "      <td>29</td>\n",
       "      <td>Homme</td>\n",
       "    </tr>\n",
       "  </tbody>\n",
       "</table>\n",
       "</div>"
      ],
      "text/plain": [
       "         Nom   Prenom  Age Gender\n",
       "0    BISIMWA   Destin   36  Homme\n",
       "1     SALUMU    Ruben   28  Homme\n",
       "2      MUSAU    Carla   23  Femme\n",
       "3      SIMBI     Danh   27  Homme\n",
       "4  TSHIBANGU  Jenovic   21  Homme\n",
       "5    MUYAMBA    Wilma   29  Homme"
      ]
     },
     "execution_count": 61,
     "metadata": {},
     "output_type": "execute_result"
    }
   ],
   "source": [
    "df[['Nom','Prenom', 'Age', 'Gender']]"
   ]
  },
  {
   "cell_type": "code",
   "execution_count": 62,
   "id": "7c09c1ce-558f-41c3-9401-dcbb7381e0d2",
   "metadata": {},
   "outputs": [
    {
     "data": {
      "text/plain": [
       "0    1\n",
       "1    1\n",
       "2    0\n",
       "3    1\n",
       "4    1\n",
       "5    1\n",
       "Name: Sex, dtype: int64"
      ]
     },
     "execution_count": 62,
     "metadata": {},
     "output_type": "execute_result"
    }
   ],
   "source": [
    "y = df.iloc[:, -1]\n",
    "y"
   ]
  },
  {
   "cell_type": "markdown",
   "id": "b2a0b1a8-3a4e-4f47-8e1a-16717bc38347",
   "metadata": {},
   "source": [
    "# 4. Visualization des donnees"
   ]
  },
  {
   "cell_type": "code",
   "execution_count": 63,
   "id": "b7594b6a-4fcc-43f6-a2a5-728c746ad598",
   "metadata": {},
   "outputs": [],
   "source": [
    "import matplotlib.pyplot as plt"
   ]
  },
  {
   "cell_type": "code",
   "execution_count": 64,
   "id": "ff07e052-9bc5-4958-9e98-6f2d514eb1af",
   "metadata": {},
   "outputs": [],
   "source": [
    "x = np.linspace(0, 2, 1000)"
   ]
  },
  {
   "cell_type": "code",
   "execution_count": 65,
   "id": "9b365b2b-121a-4875-b182-ce3b4daf706f",
   "metadata": {},
   "outputs": [
    {
     "data": {
      "text/plain": [
       "array([0.        , 0.002002  , 0.004004  , 0.00600601, 0.00800801,\n",
       "       0.01001001, 0.01201201, 0.01401401, 0.01601602, 0.01801802,\n",
       "       0.02002002, 0.02202202, 0.02402402, 0.02602603, 0.02802803,\n",
       "       0.03003003, 0.03203203, 0.03403403, 0.03603604, 0.03803804,\n",
       "       0.04004004, 0.04204204, 0.04404404, 0.04604605, 0.04804805,\n",
       "       0.05005005, 0.05205205, 0.05405405, 0.05605606, 0.05805806,\n",
       "       0.06006006, 0.06206206, 0.06406406, 0.06606607, 0.06806807,\n",
       "       0.07007007, 0.07207207, 0.07407407, 0.07607608, 0.07807808,\n",
       "       0.08008008, 0.08208208, 0.08408408, 0.08608609, 0.08808809,\n",
       "       0.09009009, 0.09209209, 0.09409409, 0.0960961 , 0.0980981 ,\n",
       "       0.1001001 , 0.1021021 , 0.1041041 , 0.10610611, 0.10810811,\n",
       "       0.11011011, 0.11211211, 0.11411411, 0.11611612, 0.11811812,\n",
       "       0.12012012, 0.12212212, 0.12412412, 0.12612613, 0.12812813,\n",
       "       0.13013013, 0.13213213, 0.13413413, 0.13613614, 0.13813814,\n",
       "       0.14014014, 0.14214214, 0.14414414, 0.14614615, 0.14814815,\n",
       "       0.15015015, 0.15215215, 0.15415415, 0.15615616, 0.15815816,\n",
       "       0.16016016, 0.16216216, 0.16416416, 0.16616617, 0.16816817,\n",
       "       0.17017017, 0.17217217, 0.17417417, 0.17617618, 0.17817818,\n",
       "       0.18018018, 0.18218218, 0.18418418, 0.18618619, 0.18818819,\n",
       "       0.19019019, 0.19219219, 0.19419419, 0.1961962 , 0.1981982 ,\n",
       "       0.2002002 , 0.2022022 , 0.2042042 , 0.20620621, 0.20820821,\n",
       "       0.21021021, 0.21221221, 0.21421421, 0.21621622, 0.21821822,\n",
       "       0.22022022, 0.22222222, 0.22422422, 0.22622623, 0.22822823,\n",
       "       0.23023023, 0.23223223, 0.23423423, 0.23623624, 0.23823824,\n",
       "       0.24024024, 0.24224224, 0.24424424, 0.24624625, 0.24824825,\n",
       "       0.25025025, 0.25225225, 0.25425425, 0.25625626, 0.25825826,\n",
       "       0.26026026, 0.26226226, 0.26426426, 0.26626627, 0.26826827,\n",
       "       0.27027027, 0.27227227, 0.27427427, 0.27627628, 0.27827828,\n",
       "       0.28028028, 0.28228228, 0.28428428, 0.28628629, 0.28828829,\n",
       "       0.29029029, 0.29229229, 0.29429429, 0.2962963 , 0.2982983 ,\n",
       "       0.3003003 , 0.3023023 , 0.3043043 , 0.30630631, 0.30830831,\n",
       "       0.31031031, 0.31231231, 0.31431431, 0.31631632, 0.31831832,\n",
       "       0.32032032, 0.32232232, 0.32432432, 0.32632633, 0.32832833,\n",
       "       0.33033033, 0.33233233, 0.33433433, 0.33633634, 0.33833834,\n",
       "       0.34034034, 0.34234234, 0.34434434, 0.34634635, 0.34834835,\n",
       "       0.35035035, 0.35235235, 0.35435435, 0.35635636, 0.35835836,\n",
       "       0.36036036, 0.36236236, 0.36436436, 0.36636637, 0.36836837,\n",
       "       0.37037037, 0.37237237, 0.37437437, 0.37637638, 0.37837838,\n",
       "       0.38038038, 0.38238238, 0.38438438, 0.38638639, 0.38838839,\n",
       "       0.39039039, 0.39239239, 0.39439439, 0.3963964 , 0.3983984 ,\n",
       "       0.4004004 , 0.4024024 , 0.4044044 , 0.40640641, 0.40840841,\n",
       "       0.41041041, 0.41241241, 0.41441441, 0.41641642, 0.41841842,\n",
       "       0.42042042, 0.42242242, 0.42442442, 0.42642643, 0.42842843,\n",
       "       0.43043043, 0.43243243, 0.43443443, 0.43643644, 0.43843844,\n",
       "       0.44044044, 0.44244244, 0.44444444, 0.44644645, 0.44844845,\n",
       "       0.45045045, 0.45245245, 0.45445445, 0.45645646, 0.45845846,\n",
       "       0.46046046, 0.46246246, 0.46446446, 0.46646647, 0.46846847,\n",
       "       0.47047047, 0.47247247, 0.47447447, 0.47647648, 0.47847848,\n",
       "       0.48048048, 0.48248248, 0.48448448, 0.48648649, 0.48848849,\n",
       "       0.49049049, 0.49249249, 0.49449449, 0.4964965 , 0.4984985 ,\n",
       "       0.5005005 , 0.5025025 , 0.5045045 , 0.50650651, 0.50850851,\n",
       "       0.51051051, 0.51251251, 0.51451451, 0.51651652, 0.51851852,\n",
       "       0.52052052, 0.52252252, 0.52452452, 0.52652653, 0.52852853,\n",
       "       0.53053053, 0.53253253, 0.53453453, 0.53653654, 0.53853854,\n",
       "       0.54054054, 0.54254254, 0.54454454, 0.54654655, 0.54854855,\n",
       "       0.55055055, 0.55255255, 0.55455455, 0.55655656, 0.55855856,\n",
       "       0.56056056, 0.56256256, 0.56456456, 0.56656657, 0.56856857,\n",
       "       0.57057057, 0.57257257, 0.57457457, 0.57657658, 0.57857858,\n",
       "       0.58058058, 0.58258258, 0.58458458, 0.58658659, 0.58858859,\n",
       "       0.59059059, 0.59259259, 0.59459459, 0.5965966 , 0.5985986 ,\n",
       "       0.6006006 , 0.6026026 , 0.6046046 , 0.60660661, 0.60860861,\n",
       "       0.61061061, 0.61261261, 0.61461461, 0.61661662, 0.61861862,\n",
       "       0.62062062, 0.62262262, 0.62462462, 0.62662663, 0.62862863,\n",
       "       0.63063063, 0.63263263, 0.63463463, 0.63663664, 0.63863864,\n",
       "       0.64064064, 0.64264264, 0.64464464, 0.64664665, 0.64864865,\n",
       "       0.65065065, 0.65265265, 0.65465465, 0.65665666, 0.65865866,\n",
       "       0.66066066, 0.66266266, 0.66466466, 0.66666667, 0.66866867,\n",
       "       0.67067067, 0.67267267, 0.67467467, 0.67667668, 0.67867868,\n",
       "       0.68068068, 0.68268268, 0.68468468, 0.68668669, 0.68868869,\n",
       "       0.69069069, 0.69269269, 0.69469469, 0.6966967 , 0.6986987 ,\n",
       "       0.7007007 , 0.7027027 , 0.7047047 , 0.70670671, 0.70870871,\n",
       "       0.71071071, 0.71271271, 0.71471471, 0.71671672, 0.71871872,\n",
       "       0.72072072, 0.72272272, 0.72472472, 0.72672673, 0.72872873,\n",
       "       0.73073073, 0.73273273, 0.73473473, 0.73673674, 0.73873874,\n",
       "       0.74074074, 0.74274274, 0.74474474, 0.74674675, 0.74874875,\n",
       "       0.75075075, 0.75275275, 0.75475475, 0.75675676, 0.75875876,\n",
       "       0.76076076, 0.76276276, 0.76476476, 0.76676677, 0.76876877,\n",
       "       0.77077077, 0.77277277, 0.77477477, 0.77677678, 0.77877878,\n",
       "       0.78078078, 0.78278278, 0.78478478, 0.78678679, 0.78878879,\n",
       "       0.79079079, 0.79279279, 0.79479479, 0.7967968 , 0.7987988 ,\n",
       "       0.8008008 , 0.8028028 , 0.8048048 , 0.80680681, 0.80880881,\n",
       "       0.81081081, 0.81281281, 0.81481481, 0.81681682, 0.81881882,\n",
       "       0.82082082, 0.82282282, 0.82482482, 0.82682683, 0.82882883,\n",
       "       0.83083083, 0.83283283, 0.83483483, 0.83683684, 0.83883884,\n",
       "       0.84084084, 0.84284284, 0.84484484, 0.84684685, 0.84884885,\n",
       "       0.85085085, 0.85285285, 0.85485485, 0.85685686, 0.85885886,\n",
       "       0.86086086, 0.86286286, 0.86486486, 0.86686687, 0.86886887,\n",
       "       0.87087087, 0.87287287, 0.87487487, 0.87687688, 0.87887888,\n",
       "       0.88088088, 0.88288288, 0.88488488, 0.88688689, 0.88888889,\n",
       "       0.89089089, 0.89289289, 0.89489489, 0.8968969 , 0.8988989 ,\n",
       "       0.9009009 , 0.9029029 , 0.9049049 , 0.90690691, 0.90890891,\n",
       "       0.91091091, 0.91291291, 0.91491491, 0.91691692, 0.91891892,\n",
       "       0.92092092, 0.92292292, 0.92492492, 0.92692693, 0.92892893,\n",
       "       0.93093093, 0.93293293, 0.93493493, 0.93693694, 0.93893894,\n",
       "       0.94094094, 0.94294294, 0.94494494, 0.94694695, 0.94894895,\n",
       "       0.95095095, 0.95295295, 0.95495495, 0.95695696, 0.95895896,\n",
       "       0.96096096, 0.96296296, 0.96496496, 0.96696697, 0.96896897,\n",
       "       0.97097097, 0.97297297, 0.97497497, 0.97697698, 0.97897898,\n",
       "       0.98098098, 0.98298298, 0.98498498, 0.98698699, 0.98898899,\n",
       "       0.99099099, 0.99299299, 0.99499499, 0.996997  , 0.998999  ,\n",
       "       1.001001  , 1.003003  , 1.00500501, 1.00700701, 1.00900901,\n",
       "       1.01101101, 1.01301301, 1.01501502, 1.01701702, 1.01901902,\n",
       "       1.02102102, 1.02302302, 1.02502503, 1.02702703, 1.02902903,\n",
       "       1.03103103, 1.03303303, 1.03503504, 1.03703704, 1.03903904,\n",
       "       1.04104104, 1.04304304, 1.04504505, 1.04704705, 1.04904905,\n",
       "       1.05105105, 1.05305305, 1.05505506, 1.05705706, 1.05905906,\n",
       "       1.06106106, 1.06306306, 1.06506507, 1.06706707, 1.06906907,\n",
       "       1.07107107, 1.07307307, 1.07507508, 1.07707708, 1.07907908,\n",
       "       1.08108108, 1.08308308, 1.08508509, 1.08708709, 1.08908909,\n",
       "       1.09109109, 1.09309309, 1.0950951 , 1.0970971 , 1.0990991 ,\n",
       "       1.1011011 , 1.1031031 , 1.10510511, 1.10710711, 1.10910911,\n",
       "       1.11111111, 1.11311311, 1.11511512, 1.11711712, 1.11911912,\n",
       "       1.12112112, 1.12312312, 1.12512513, 1.12712713, 1.12912913,\n",
       "       1.13113113, 1.13313313, 1.13513514, 1.13713714, 1.13913914,\n",
       "       1.14114114, 1.14314314, 1.14514515, 1.14714715, 1.14914915,\n",
       "       1.15115115, 1.15315315, 1.15515516, 1.15715716, 1.15915916,\n",
       "       1.16116116, 1.16316316, 1.16516517, 1.16716717, 1.16916917,\n",
       "       1.17117117, 1.17317317, 1.17517518, 1.17717718, 1.17917918,\n",
       "       1.18118118, 1.18318318, 1.18518519, 1.18718719, 1.18918919,\n",
       "       1.19119119, 1.19319319, 1.1951952 , 1.1971972 , 1.1991992 ,\n",
       "       1.2012012 , 1.2032032 , 1.20520521, 1.20720721, 1.20920921,\n",
       "       1.21121121, 1.21321321, 1.21521522, 1.21721722, 1.21921922,\n",
       "       1.22122122, 1.22322322, 1.22522523, 1.22722723, 1.22922923,\n",
       "       1.23123123, 1.23323323, 1.23523524, 1.23723724, 1.23923924,\n",
       "       1.24124124, 1.24324324, 1.24524525, 1.24724725, 1.24924925,\n",
       "       1.25125125, 1.25325325, 1.25525526, 1.25725726, 1.25925926,\n",
       "       1.26126126, 1.26326326, 1.26526527, 1.26726727, 1.26926927,\n",
       "       1.27127127, 1.27327327, 1.27527528, 1.27727728, 1.27927928,\n",
       "       1.28128128, 1.28328328, 1.28528529, 1.28728729, 1.28928929,\n",
       "       1.29129129, 1.29329329, 1.2952953 , 1.2972973 , 1.2992993 ,\n",
       "       1.3013013 , 1.3033033 , 1.30530531, 1.30730731, 1.30930931,\n",
       "       1.31131131, 1.31331331, 1.31531532, 1.31731732, 1.31931932,\n",
       "       1.32132132, 1.32332332, 1.32532533, 1.32732733, 1.32932933,\n",
       "       1.33133133, 1.33333333, 1.33533534, 1.33733734, 1.33933934,\n",
       "       1.34134134, 1.34334334, 1.34534535, 1.34734735, 1.34934935,\n",
       "       1.35135135, 1.35335335, 1.35535536, 1.35735736, 1.35935936,\n",
       "       1.36136136, 1.36336336, 1.36536537, 1.36736737, 1.36936937,\n",
       "       1.37137137, 1.37337337, 1.37537538, 1.37737738, 1.37937938,\n",
       "       1.38138138, 1.38338338, 1.38538539, 1.38738739, 1.38938939,\n",
       "       1.39139139, 1.39339339, 1.3953954 , 1.3973974 , 1.3993994 ,\n",
       "       1.4014014 , 1.4034034 , 1.40540541, 1.40740741, 1.40940941,\n",
       "       1.41141141, 1.41341341, 1.41541542, 1.41741742, 1.41941942,\n",
       "       1.42142142, 1.42342342, 1.42542543, 1.42742743, 1.42942943,\n",
       "       1.43143143, 1.43343343, 1.43543544, 1.43743744, 1.43943944,\n",
       "       1.44144144, 1.44344344, 1.44544545, 1.44744745, 1.44944945,\n",
       "       1.45145145, 1.45345345, 1.45545546, 1.45745746, 1.45945946,\n",
       "       1.46146146, 1.46346346, 1.46546547, 1.46746747, 1.46946947,\n",
       "       1.47147147, 1.47347347, 1.47547548, 1.47747748, 1.47947948,\n",
       "       1.48148148, 1.48348348, 1.48548549, 1.48748749, 1.48948949,\n",
       "       1.49149149, 1.49349349, 1.4954955 , 1.4974975 , 1.4994995 ,\n",
       "       1.5015015 , 1.5035035 , 1.50550551, 1.50750751, 1.50950951,\n",
       "       1.51151151, 1.51351351, 1.51551552, 1.51751752, 1.51951952,\n",
       "       1.52152152, 1.52352352, 1.52552553, 1.52752753, 1.52952953,\n",
       "       1.53153153, 1.53353353, 1.53553554, 1.53753754, 1.53953954,\n",
       "       1.54154154, 1.54354354, 1.54554555, 1.54754755, 1.54954955,\n",
       "       1.55155155, 1.55355355, 1.55555556, 1.55755756, 1.55955956,\n",
       "       1.56156156, 1.56356356, 1.56556557, 1.56756757, 1.56956957,\n",
       "       1.57157157, 1.57357357, 1.57557558, 1.57757758, 1.57957958,\n",
       "       1.58158158, 1.58358358, 1.58558559, 1.58758759, 1.58958959,\n",
       "       1.59159159, 1.59359359, 1.5955956 , 1.5975976 , 1.5995996 ,\n",
       "       1.6016016 , 1.6036036 , 1.60560561, 1.60760761, 1.60960961,\n",
       "       1.61161161, 1.61361361, 1.61561562, 1.61761762, 1.61961962,\n",
       "       1.62162162, 1.62362362, 1.62562563, 1.62762763, 1.62962963,\n",
       "       1.63163163, 1.63363363, 1.63563564, 1.63763764, 1.63963964,\n",
       "       1.64164164, 1.64364364, 1.64564565, 1.64764765, 1.64964965,\n",
       "       1.65165165, 1.65365365, 1.65565566, 1.65765766, 1.65965966,\n",
       "       1.66166166, 1.66366366, 1.66566567, 1.66766767, 1.66966967,\n",
       "       1.67167167, 1.67367367, 1.67567568, 1.67767768, 1.67967968,\n",
       "       1.68168168, 1.68368368, 1.68568569, 1.68768769, 1.68968969,\n",
       "       1.69169169, 1.69369369, 1.6956957 , 1.6976977 , 1.6996997 ,\n",
       "       1.7017017 , 1.7037037 , 1.70570571, 1.70770771, 1.70970971,\n",
       "       1.71171171, 1.71371371, 1.71571572, 1.71771772, 1.71971972,\n",
       "       1.72172172, 1.72372372, 1.72572573, 1.72772773, 1.72972973,\n",
       "       1.73173173, 1.73373373, 1.73573574, 1.73773774, 1.73973974,\n",
       "       1.74174174, 1.74374374, 1.74574575, 1.74774775, 1.74974975,\n",
       "       1.75175175, 1.75375375, 1.75575576, 1.75775776, 1.75975976,\n",
       "       1.76176176, 1.76376376, 1.76576577, 1.76776777, 1.76976977,\n",
       "       1.77177177, 1.77377377, 1.77577578, 1.77777778, 1.77977978,\n",
       "       1.78178178, 1.78378378, 1.78578579, 1.78778779, 1.78978979,\n",
       "       1.79179179, 1.79379379, 1.7957958 , 1.7977978 , 1.7997998 ,\n",
       "       1.8018018 , 1.8038038 , 1.80580581, 1.80780781, 1.80980981,\n",
       "       1.81181181, 1.81381381, 1.81581582, 1.81781782, 1.81981982,\n",
       "       1.82182182, 1.82382382, 1.82582583, 1.82782783, 1.82982983,\n",
       "       1.83183183, 1.83383383, 1.83583584, 1.83783784, 1.83983984,\n",
       "       1.84184184, 1.84384384, 1.84584585, 1.84784785, 1.84984985,\n",
       "       1.85185185, 1.85385385, 1.85585586, 1.85785786, 1.85985986,\n",
       "       1.86186186, 1.86386386, 1.86586587, 1.86786787, 1.86986987,\n",
       "       1.87187187, 1.87387387, 1.87587588, 1.87787788, 1.87987988,\n",
       "       1.88188188, 1.88388388, 1.88588589, 1.88788789, 1.88988989,\n",
       "       1.89189189, 1.89389389, 1.8958959 , 1.8978979 , 1.8998999 ,\n",
       "       1.9019019 , 1.9039039 , 1.90590591, 1.90790791, 1.90990991,\n",
       "       1.91191191, 1.91391391, 1.91591592, 1.91791792, 1.91991992,\n",
       "       1.92192192, 1.92392392, 1.92592593, 1.92792793, 1.92992993,\n",
       "       1.93193193, 1.93393393, 1.93593594, 1.93793794, 1.93993994,\n",
       "       1.94194194, 1.94394394, 1.94594595, 1.94794795, 1.94994995,\n",
       "       1.95195195, 1.95395395, 1.95595596, 1.95795796, 1.95995996,\n",
       "       1.96196196, 1.96396396, 1.96596597, 1.96796797, 1.96996997,\n",
       "       1.97197197, 1.97397397, 1.97597598, 1.97797798, 1.97997998,\n",
       "       1.98198198, 1.98398398, 1.98598599, 1.98798799, 1.98998999,\n",
       "       1.99199199, 1.99399399, 1.995996  , 1.997998  , 2.        ])"
      ]
     },
     "execution_count": 65,
     "metadata": {},
     "output_type": "execute_result"
    }
   ],
   "source": [
    "x"
   ]
  },
  {
   "cell_type": "code",
   "execution_count": 66,
   "id": "b86b0705-65d4-48c5-842f-1db6dbd8d9fe",
   "metadata": {},
   "outputs": [
    {
     "data": {
      "text/plain": [
       "<matplotlib.legend.Legend at 0x17ed3208e50>"
      ]
     },
     "execution_count": 66,
     "metadata": {},
     "output_type": "execute_result"
    },
    {
     "data": {
      "image/png": "[encoded data removed]",
      "text/plain": [
       "<Figure size 800x400 with 1 Axes>"
      ]
     },
     "metadata": {},
     "output_type": "display_data"
    }
   ],
   "source": [
    "fig, ax = plt.subplots(figsize=(8, 4))\n",
    "ax.plot(x, x*2, label=\"Line 1\")\n",
    "ax.plot(x, x**2, label=\"Element x**2\")\n",
    "ax.plot(x, x**3, label=\"Element x**3\")\n",
    "ax.set_xlabel('X data')\n",
    "ax.set_ylabel('Y Data')\n",
    "ax.legend()"
   ]
  },
  {
   "cell_type": "code",
   "execution_count": 67,
   "id": "ddce7902-4caa-4970-b7b7-2837137034b2",
   "metadata": {},
   "outputs": [],
   "source": [
    "import seaborn as sns"
   ]
  },
  {
   "cell_type": "code",
   "execution_count": 68,
   "id": "2e1f7ec3-6b50-4b35-b93d-bd8dd8dea696",
   "metadata": {},
   "outputs": [],
   "source": [
    "donnees_iris = sns.load_dataset('iris')"
   ]
  },
  {
   "cell_type": "code",
   "execution_count": 69,
   "id": "8f2cd12d-33a8-46f6-9f85-fcecdbb97e05",
   "metadata": {},
   "outputs": [
    {
     "data": {
      "text/html": [
       "<div>\n",
       "<style scoped>\n",
       "    .dataframe tbody tr th:only-of-type {\n",
       "        vertical-align: middle;\n",
       "    }\n",
       "\n",
       "    .dataframe tbody tr th {\n",
       "        vertical-align: top;\n",
       "    }\n",
       "\n",
       "    .dataframe thead th {\n",
       "        text-align: right;\n",
       "    }\n",
       "</style>\n",
       "<table border=\"1\" class=\"dataframe\">\n",
       "  <thead>\n",
       "    <tr style=\"text-align: right;\">\n",
       "      <th></th>\n",
       "      <th>sepal_length</th>\n",
       "      <th>sepal_width</th>\n",
       "      <th>petal_length</th>\n",
       "      <th>petal_width</th>\n",
       "      <th>species</th>\n",
       "    </tr>\n",
       "  </thead>\n",
       "  <tbody>\n",
       "    <tr>\n",
       "      <th>0</th>\n",
       "      <td>5.1</td>\n",
       "      <td>3.5</td>\n",
       "      <td>1.4</td>\n",
       "      <td>0.2</td>\n",
       "      <td>setosa</td>\n",
       "    </tr>\n",
       "    <tr>\n",
       "      <th>1</th>\n",
       "      <td>4.9</td>\n",
       "      <td>3.0</td>\n",
       "      <td>1.4</td>\n",
       "      <td>0.2</td>\n",
       "      <td>setosa</td>\n",
       "    </tr>\n",
       "    <tr>\n",
       "      <th>2</th>\n",
       "      <td>4.7</td>\n",
       "      <td>3.2</td>\n",
       "      <td>1.3</td>\n",
       "      <td>0.2</td>\n",
       "      <td>setosa</td>\n",
       "    </tr>\n",
       "    <tr>\n",
       "      <th>3</th>\n",
       "      <td>4.6</td>\n",
       "      <td>3.1</td>\n",
       "      <td>1.5</td>\n",
       "      <td>0.2</td>\n",
       "      <td>setosa</td>\n",
       "    </tr>\n",
       "    <tr>\n",
       "      <th>4</th>\n",
       "      <td>5.0</td>\n",
       "      <td>3.6</td>\n",
       "      <td>1.4</td>\n",
       "      <td>0.2</td>\n",
       "      <td>setosa</td>\n",
       "    </tr>\n",
       "  </tbody>\n",
       "</table>\n",
       "</div>"
      ],
      "text/plain": [
       "   sepal_length  sepal_width  petal_length  petal_width species\n",
       "0           5.1          3.5           1.4          0.2  setosa\n",
       "1           4.9          3.0           1.4          0.2  setosa\n",
       "2           4.7          3.2           1.3          0.2  setosa\n",
       "3           4.6          3.1           1.5          0.2  setosa\n",
       "4           5.0          3.6           1.4          0.2  setosa"
      ]
     },
     "execution_count": 69,
     "metadata": {},
     "output_type": "execute_result"
    }
   ],
   "source": [
    "donnees_iris.head()"
   ]
  },
  {
   "cell_type": "code",
   "execution_count": 70,
   "id": "f01fbf95-044e-4419-b8b9-7348a44e4e9d",
   "metadata": {
    "scrolled": true
   },
   "outputs": [
    {
     "data": {
      "image/png": "[encoded data removed]",
      "text/plain": [
       "<Figure size 640x480 with 1 Axes>"
      ]
     },
     "metadata": {},
     "output_type": "display_data"
    }
   ],
   "source": [
    "sns.scatterplot(x='petal_length', y='petal_width', data=donnees_iris, hue='species')\n",
    "plt.xlabel(\"Longeur du Petal\")\n",
    "plt.ylabel(\"Largeur dy Petal\")\n",
    "plt.title(\"Visualisation de Species par Categorie\")\n",
    "plt.show()"
   ]
  },
  {
   "cell_type": "code",
   "execution_count": null,
   "id": "58a84e2a-0f93-49fd-8528-31c41e8ce484",
   "metadata": {},
   "outputs": [],
   "source": []
  },
  {
   "cell_type": "code",
   "execution_count": null,
   "id": "90362039-381d-46fd-a22e-475f1109e210",
   "metadata": {},
   "outputs": [],
   "source": []
  },
  {
   "cell_type": "code",
   "execution_count": null,
   "id": "666cde1e-3c22-4ad1-9221-7c5da2d9f709",
   "metadata": {},
   "outputs": [],
   "source": []
  },
  {
   "cell_type": "code",
   "execution_count": null,
   "id": "1bce9963-b3e4-4e8a-9eb5-b88a68acf3f8",
   "metadata": {},
   "outputs": [],
   "source": []
  }
 ],
 "metadata": {
  "kernelspec": {
   "display_name": "Python 3 (ipykernel)",
   "language": "python",
   "name": "python3"
  },
  "language_info": {
   "codemirror_mode": {
    "name": "ipython",
    "version": 3
   },
   "file_extension": ".py",
   "mimetype": "text/x-python",
   "name": "python",
   "nbconvert_exporter": "python",
   "pygments_lexer": "ipython3",
   "version": "3.10.16"
  }
 },
 "nbformat": 4,
 "nbformat_minor": 5
}
