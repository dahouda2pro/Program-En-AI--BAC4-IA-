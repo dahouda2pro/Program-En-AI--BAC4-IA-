{
 "cells": [
  {
   "cell_type": "markdown",
   "id": "8fe21cc9-fe4a-4de5-a4a2-649ef3aa4552",
   "metadata": {},
   "source": [
    "# Étape 1 : Importer les packages Étape 2 "
   ]
  },
  {
   "cell_type": "code",
   "execution_count": 1,
   "id": "d4c66c20-ceb3-43eb-8ee6-3723dab6512b",
   "metadata": {},
   "outputs": [],
   "source": [
    "# Importer les packages\n",
    "import pandas as pd\n",
    "import numpy as np\n",
    "import matplotlib.pyplot as plt\n",
    "import seaborn as sns\n",
    "import joblib\n",
    "#import plotly.express as px\n",
    "from sklearn.preprocessing import LabelEncoder\n",
    "import pandas as pd\n",
    "#import folium\n",
    "\n",
    "from sklearn.preprocessing import LabelEncoder\n",
    "from sklearn.model_selection import train_test_split\n",
    "from sklearn.preprocessing import StandardScaler\n",
    "\n",
    "from tensorflow.keras import Sequential\n",
    "from tensorflow.keras.layers import Dense, Dropout\n",
    "from tensorflow.keras.optimizers import Adam\n",
    "from tensorflow.keras.utils import to_categorical\n",
    "\n",
    "import warnings\n",
    "warnings.filterwarnings('ignore')"
   ]
  },
  {
   "cell_type": "code",
   "execution_count": 2,
   "id": "4d1f95f7-b5de-49b9-ad9d-4643b1e93f2f",
   "metadata": {},
   "outputs": [
    {
     "name": "stdout",
     "output_type": "stream",
     "text": [
      "Requirement already satisfied: openpyxl in c:\\users\\mwamba\\anaconda3\\envs\\bac3_gl_ia_2_env\\lib\\site-packages (3.1.5)\n",
      "Requirement already satisfied: et-xmlfile in c:\\users\\mwamba\\anaconda3\\envs\\bac3_gl_ia_2_env\\lib\\site-packages (from openpyxl) (2.0.0)\n",
      "Note: you may need to restart the kernel to use updated packages.\n"
     ]
    }
   ],
   "source": [
    "pip install openpyxl"
   ]
  },
  {
   "cell_type": "markdown",
   "id": "744d0538-a1b0-4049-9354-6b6aacc11830",
   "metadata": {},
   "source": [
    "# Étape 2 : Charger les donnée"
   ]
  },
  {
   "cell_type": "code",
   "execution_count": 3,
   "id": "0d04774f-e612-444d-89cc-ab24c53863e8",
   "metadata": {},
   "outputs": [
    {
     "data": {
      "text/html": [
       "<div>\n",
       "<style scoped>\n",
       "    .dataframe tbody tr th:only-of-type {\n",
       "        vertical-align: middle;\n",
       "    }\n",
       "\n",
       "    .dataframe tbody tr th {\n",
       "        vertical-align: top;\n",
       "    }\n",
       "\n",
       "    .dataframe thead th {\n",
       "        text-align: right;\n",
       "    }\n",
       "</style>\n",
       "<table border=\"1\" class=\"dataframe\">\n",
       "  <thead>\n",
       "    <tr style=\"text-align: right;\">\n",
       "      <th></th>\n",
       "      <th>N°</th>\n",
       "      <th>Site</th>\n",
       "      <th>Longitude</th>\n",
       "      <th>Latitude</th>\n",
       "      <th>Altitude</th>\n",
       "      <th>Ic</th>\n",
       "      <th>Classe_Ic</th>\n",
       "    </tr>\n",
       "  </thead>\n",
       "  <tbody>\n",
       "    <tr>\n",
       "      <th>0</th>\n",
       "      <td>1</td>\n",
       "      <td>Tumbwe</td>\n",
       "      <td>27.398758</td>\n",
       "      <td>-11.479370</td>\n",
       "      <td>1356.0</td>\n",
       "      <td>1.032063</td>\n",
       "      <td>Dur</td>\n",
       "    </tr>\n",
       "    <tr>\n",
       "      <th>1</th>\n",
       "      <td>2</td>\n",
       "      <td>Tumbwe</td>\n",
       "      <td>27.398610</td>\n",
       "      <td>-11.478151</td>\n",
       "      <td>1354.0</td>\n",
       "      <td>27.390744</td>\n",
       "      <td>Dur</td>\n",
       "    </tr>\n",
       "    <tr>\n",
       "      <th>2</th>\n",
       "      <td>3</td>\n",
       "      <td>Tumbwe</td>\n",
       "      <td>27.399395</td>\n",
       "      <td>-11.476759</td>\n",
       "      <td>1354.0</td>\n",
       "      <td>1.541371</td>\n",
       "      <td>Dur</td>\n",
       "    </tr>\n",
       "    <tr>\n",
       "      <th>3</th>\n",
       "      <td>4</td>\n",
       "      <td>Tumbwe</td>\n",
       "      <td>27.399987</td>\n",
       "      <td>-11.475205</td>\n",
       "      <td>1354.0</td>\n",
       "      <td>1.081573</td>\n",
       "      <td>Dur</td>\n",
       "    </tr>\n",
       "    <tr>\n",
       "      <th>4</th>\n",
       "      <td>5</td>\n",
       "      <td>Tumbwe</td>\n",
       "      <td>27.400558</td>\n",
       "      <td>-11.474226</td>\n",
       "      <td>1353.0</td>\n",
       "      <td>1.364352</td>\n",
       "      <td>Dur</td>\n",
       "    </tr>\n",
       "    <tr>\n",
       "      <th>...</th>\n",
       "      <td>...</td>\n",
       "      <td>...</td>\n",
       "      <td>...</td>\n",
       "      <td>...</td>\n",
       "      <td>...</td>\n",
       "      <td>...</td>\n",
       "      <td>...</td>\n",
       "    </tr>\n",
       "    <tr>\n",
       "      <th>5242</th>\n",
       "      <td>5243</td>\n",
       "      <td>Gambela</td>\n",
       "      <td>27.480643</td>\n",
       "      <td>-11.614738</td>\n",
       "      <td>1285.0</td>\n",
       "      <td>1.695698</td>\n",
       "      <td>Dur</td>\n",
       "    </tr>\n",
       "    <tr>\n",
       "      <th>5243</th>\n",
       "      <td>5244</td>\n",
       "      <td>Gambela</td>\n",
       "      <td>27.480092</td>\n",
       "      <td>-11.614721</td>\n",
       "      <td>1284.0</td>\n",
       "      <td>3.926087</td>\n",
       "      <td>Dur</td>\n",
       "    </tr>\n",
       "    <tr>\n",
       "      <th>5244</th>\n",
       "      <td>5245</td>\n",
       "      <td>Gambela</td>\n",
       "      <td>27.477062</td>\n",
       "      <td>-11.612963</td>\n",
       "      <td>1287.0</td>\n",
       "      <td>1.738089</td>\n",
       "      <td>Dur</td>\n",
       "    </tr>\n",
       "    <tr>\n",
       "      <th>5245</th>\n",
       "      <td>5246</td>\n",
       "      <td>Gambela</td>\n",
       "      <td>27.476266</td>\n",
       "      <td>-11.613941</td>\n",
       "      <td>1279.0</td>\n",
       "      <td>11.160760</td>\n",
       "      <td>Dur</td>\n",
       "    </tr>\n",
       "    <tr>\n",
       "      <th>5246</th>\n",
       "      <td>5247</td>\n",
       "      <td>Gambela</td>\n",
       "      <td>27.477834</td>\n",
       "      <td>-11.614092</td>\n",
       "      <td>1284.0</td>\n",
       "      <td>5.506705</td>\n",
       "      <td>Dur</td>\n",
       "    </tr>\n",
       "  </tbody>\n",
       "</table>\n",
       "<p>5247 rows × 7 columns</p>\n",
       "</div>"
      ],
      "text/plain": [
       "        N°     Site  Longitude   Latitude  Altitude         Ic Classe_Ic\n",
       "0        1   Tumbwe  27.398758 -11.479370    1356.0   1.032063       Dur\n",
       "1        2   Tumbwe  27.398610 -11.478151    1354.0  27.390744       Dur\n",
       "2        3   Tumbwe  27.399395 -11.476759    1354.0   1.541371       Dur\n",
       "3        4   Tumbwe  27.399987 -11.475205    1354.0   1.081573       Dur\n",
       "4        5   Tumbwe  27.400558 -11.474226    1353.0   1.364352       Dur\n",
       "...    ...      ...        ...        ...       ...        ...       ...\n",
       "5242  5243  Gambela  27.480643 -11.614738    1285.0   1.695698       Dur\n",
       "5243  5244  Gambela  27.480092 -11.614721    1284.0   3.926087       Dur\n",
       "5244  5245  Gambela  27.477062 -11.612963    1287.0   1.738089       Dur\n",
       "5245  5246  Gambela  27.476266 -11.613941    1279.0  11.160760       Dur\n",
       "5246  5247  Gambela  27.477834 -11.614092    1284.0   5.506705       Dur\n",
       "\n",
       "[5247 rows x 7 columns]"
      ]
     },
     "execution_count": 3,
     "metadata": {},
     "output_type": "execute_result"
    }
   ],
   "source": [
    "data = pd.read_excel('Mining_Dataset.xlsx')\n",
    "data"
   ]
  },
  {
   "cell_type": "markdown",
   "id": "4e4e6851-b729-44a0-a2b3-6809b3f540fb",
   "metadata": {},
   "source": [
    "# Étape 3 : Analyse de données"
   ]
  },
  {
   "cell_type": "code",
   "execution_count": 4,
   "id": "7777a730-98e5-4819-9b36-d40392b8bb0a",
   "metadata": {},
   "outputs": [
    {
     "name": "stdout",
     "output_type": "stream",
     "text": [
      "Shape of the Data: (5247, 7)\n"
     ]
    }
   ],
   "source": [
    "print('Shape of the Data:', data.shape)"
   ]
  },
  {
   "cell_type": "code",
   "execution_count": 5,
   "id": "07e6594e-b4ed-4aab-8b55-308542f9bee5",
   "metadata": {},
   "outputs": [
    {
     "name": "stdout",
     "output_type": "stream",
     "text": [
      "<class 'pandas.core.frame.DataFrame'>\n",
      "RangeIndex: 5247 entries, 0 to 5246\n",
      "Data columns (total 7 columns):\n",
      " #   Column     Non-Null Count  Dtype  \n",
      "---  ------     --------------  -----  \n",
      " 0   N°         5247 non-null   int64  \n",
      " 1   Site       5247 non-null   object \n",
      " 2   Longitude  5247 non-null   float64\n",
      " 3   Latitude   5247 non-null   float64\n",
      " 4   Altitude   5247 non-null   float64\n",
      " 5   Ic         5247 non-null   float64\n",
      " 6   Classe_Ic  5247 non-null   object \n",
      "dtypes: float64(4), int64(1), object(2)\n",
      "memory usage: 287.1+ KB\n"
     ]
    }
   ],
   "source": [
    "# Description de donnees\n",
    "data.info()"
   ]
  },
  {
   "cell_type": "code",
   "execution_count": 6,
   "id": "733cf0d4-a98a-4778-bb98-bc1b3d09628d",
   "metadata": {},
   "outputs": [
    {
     "data": {
      "text/plain": [
       "Index(['N°', 'Site', 'Longitude', 'Latitude', 'Altitude', 'Ic', 'Classe_Ic'], dtype='object')"
      ]
     },
     "execution_count": 6,
     "metadata": {},
     "output_type": "execute_result"
    }
   ],
   "source": [
    "data.columns"
   ]
  },
  {
   "cell_type": "code",
   "execution_count": 7,
   "id": "2c5bc856-2690-4b32-bd01-e4befb53d09d",
   "metadata": {},
   "outputs": [
    {
     "data": {
      "text/plain": [
       "N°           0\n",
       "Site         0\n",
       "Longitude    0\n",
       "Latitude     0\n",
       "Altitude     0\n",
       "Ic           0\n",
       "Classe_Ic    0\n",
       "dtype: int64"
      ]
     },
     "execution_count": 7,
     "metadata": {},
     "output_type": "execute_result"
    }
   ],
   "source": [
    "# Verification des donnees manquantes\n",
    "data.isnull().sum()"
   ]
  },
  {
   "cell_type": "code",
   "execution_count": 8,
   "id": "0a80233c-f2a7-4330-ace1-63a108e3898a",
   "metadata": {},
   "outputs": [],
   "source": [
    "data.drop(columns='N°', axis=1, inplace=True)"
   ]
  },
  {
   "cell_type": "code",
   "execution_count": 9,
   "id": "493543ce-9d3b-4356-a3f5-e9e3354583f6",
   "metadata": {},
   "outputs": [
    {
     "data": {
      "text/plain": [
       "array(['Tumbwe', 'LUMATA', 'MUTSHATSHA', 'CITE DE LUALABA',\n",
       "       'QUARTIER MUSUMBA ', 'BUNKEYA', 'BUNGU BUNGU', 'Kasangiri',\n",
       "       ' DCP Kasangiri', 'KINSEVERE', 'Gambela'], dtype=object)"
      ]
     },
     "execution_count": 9,
     "metadata": {},
     "output_type": "execute_result"
    }
   ],
   "source": [
    "data['Site'].unique()"
   ]
  },
  {
   "cell_type": "code",
   "execution_count": 10,
   "id": "c13c364d-a75d-424e-b0d1-99ae039d3701",
   "metadata": {},
   "outputs": [
    {
     "data": {
      "text/plain": [
       "Site\n",
       "Tumbwe               4649\n",
       "KINSEVERE             431\n",
       "Kasangiri              27\n",
       "CITE DE LUALABA        20\n",
       "MUTSHATSHA             20\n",
       "BUNGU BUNGU            20\n",
       "QUARTIER MUSUMBA       19\n",
       "LUMATA                 18\n",
       "BUNKEYA                17\n",
       " DCP Kasangiri         15\n",
       "Gambela                11\n",
       "Name: count, dtype: int64"
      ]
     },
     "execution_count": 10,
     "metadata": {},
     "output_type": "execute_result"
    }
   ],
   "source": [
    "data['Site'].value_counts()"
   ]
  },
  {
   "cell_type": "code",
   "execution_count": 11,
   "id": "fae97785-a31f-4b7c-b88b-289de0e17405",
   "metadata": {},
   "outputs": [
    {
     "data": {
      "text/plain": [
       "array([27.39875802, 27.39861045, 27.39939522, ..., 27.47706199,\n",
       "       27.4762656 , 27.47783445])"
      ]
     },
     "execution_count": 11,
     "metadata": {},
     "output_type": "execute_result"
    }
   ],
   "source": [
    "data['Longitude'].unique()"
   ]
  },
  {
   "cell_type": "code",
   "execution_count": 12,
   "id": "51d4596e-25c0-49f3-87ea-c2b6d294b11f",
   "metadata": {},
   "outputs": [
    {
     "data": {
      "text/plain": [
       "Longitude\n",
       "27.390149    3\n",
       "27.397897    3\n",
       "27.392147    3\n",
       "27.398579    3\n",
       "27.400558    3\n",
       "            ..\n",
       "27.480643    1\n",
       "27.480092    1\n",
       "27.477062    1\n",
       "27.476266    1\n",
       "27.396160    1\n",
       "Name: count, Length: 4762, dtype: int64"
      ]
     },
     "execution_count": 12,
     "metadata": {},
     "output_type": "execute_result"
    }
   ],
   "source": [
    "data['Longitude'].value_counts()"
   ]
  },
  {
   "cell_type": "code",
   "execution_count": 13,
   "id": "069e9d7d-5dc5-4811-9533-6d331e2b0e8c",
   "metadata": {},
   "outputs": [
    {
     "data": {
      "text/plain": [
       "array([-11.4793703 , -11.47815133, -11.47675851, ..., -11.6129629 ,\n",
       "       -11.6139409 , -11.61409204])"
      ]
     },
     "execution_count": 13,
     "metadata": {},
     "output_type": "execute_result"
    }
   ],
   "source": [
    "data['Latitude'].unique()"
   ]
  },
  {
   "cell_type": "code",
   "execution_count": 14,
   "id": "f3be9428-72ec-4961-b912-f0af0bd2e512",
   "metadata": {},
   "outputs": [
    {
     "data": {
      "text/plain": [
       "Latitude\n",
       "-11.475205    4\n",
       "-11.479370    3\n",
       "-11.470882    3\n",
       "-11.474095    3\n",
       "-11.474226    3\n",
       "             ..\n",
       "-11.614738    1\n",
       "-11.614721    1\n",
       "-11.612963    1\n",
       "-11.613941    1\n",
       "-11.582491    1\n",
       "Name: count, Length: 4765, dtype: int64"
      ]
     },
     "execution_count": 14,
     "metadata": {},
     "output_type": "execute_result"
    }
   ],
   "source": [
    "data['Latitude'].value_counts()"
   ]
  },
  {
   "cell_type": "code",
   "execution_count": 15,
   "id": "519ee6e1-9edd-4507-9e34-30800680c7b9",
   "metadata": {},
   "outputs": [
    {
     "data": {
      "text/plain": [
       "array([1356.    , 1354.    , 1353.    , ..., 1182.5138, 1283.    ,\n",
       "       1285.    ])"
      ]
     },
     "execution_count": 15,
     "metadata": {},
     "output_type": "execute_result"
    }
   ],
   "source": [
    "data['Altitude'].unique()"
   ]
  },
  {
   "cell_type": "code",
   "execution_count": 16,
   "id": "70bb3cd1-835e-46bd-adc1-a882e2dcd459",
   "metadata": {},
   "outputs": [
    {
     "data": {
      "text/plain": [
       "Altitude\n",
       "1352.3340    16\n",
       "1240.0000    16\n",
       "1334.0000     6\n",
       "1353.2520     6\n",
       "1337.5600     5\n",
       "             ..\n",
       "1183.3166     1\n",
       "1182.9129     1\n",
       "1182.5138     1\n",
       "1351.7110     1\n",
       "1330.1040     1\n",
       "Name: count, Length: 4265, dtype: int64"
      ]
     },
     "execution_count": 16,
     "metadata": {},
     "output_type": "execute_result"
    }
   ],
   "source": [
    "data['Altitude'].value_counts()"
   ]
  },
  {
   "cell_type": "code",
   "execution_count": 17,
   "id": "5bad7186-414f-4650-8167-6489ab489182",
   "metadata": {},
   "outputs": [
    {
     "data": {
      "text/plain": [
       "Ic\n",
       "1.032063     155\n",
       "1.541371     155\n",
       "1.081573     155\n",
       "1.364352     155\n",
       "1.193886     155\n",
       "            ... \n",
       "1.695698       1\n",
       "3.926087       1\n",
       "1.738089       1\n",
       "11.160760      1\n",
       "5.506705       1\n",
       "Name: count, Length: 197, dtype: int64"
      ]
     },
     "execution_count": 17,
     "metadata": {},
     "output_type": "execute_result"
    }
   ],
   "source": [
    "data['Ic'].value_counts()"
   ]
  },
  {
   "cell_type": "code",
   "execution_count": 18,
   "id": "00a81a5b-6df6-4bbe-984b-a20160ae1eb0",
   "metadata": {},
   "outputs": [
    {
     "data": {
      "text/plain": [
       "array(['Dur', 'Terne', 'Mi-dur', 'Liquide', 'Mou', 'Pateux'], dtype=object)"
      ]
     },
     "execution_count": 18,
     "metadata": {},
     "output_type": "execute_result"
    }
   ],
   "source": [
    "data['Classe_Ic'].unique()"
   ]
  },
  {
   "cell_type": "code",
   "execution_count": 19,
   "id": "3a1efb3f-9fb0-410f-b1a4-42de42d1a18e",
   "metadata": {},
   "outputs": [
    {
     "data": {
      "text/plain": [
       "Classe_Ic\n",
       "Dur        4080\n",
       "Terne       628\n",
       "Mi-dur      325\n",
       "Liquide     201\n",
       "Mou          10\n",
       "Pateux        3\n",
       "Name: count, dtype: int64"
      ]
     },
     "execution_count": 19,
     "metadata": {},
     "output_type": "execute_result"
    }
   ],
   "source": [
    "data['Classe_Ic'].value_counts()"
   ]
  },
  {
   "cell_type": "markdown",
   "id": "279d7b3e-8a99-40a7-88ee-0397889bb67c",
   "metadata": {},
   "source": [
    "# Étape 4 : Prétraitement des données"
   ]
  },
  {
   "cell_type": "code",
   "execution_count": 20,
   "id": "ca94305e-22f3-46f1-9da0-129f9f9019f7",
   "metadata": {},
   "outputs": [
    {
     "data": {
      "text/html": [
       "<div>\n",
       "<style scoped>\n",
       "    .dataframe tbody tr th:only-of-type {\n",
       "        vertical-align: middle;\n",
       "    }\n",
       "\n",
       "    .dataframe tbody tr th {\n",
       "        vertical-align: top;\n",
       "    }\n",
       "\n",
       "    .dataframe thead th {\n",
       "        text-align: right;\n",
       "    }\n",
       "</style>\n",
       "<table border=\"1\" class=\"dataframe\">\n",
       "  <thead>\n",
       "    <tr style=\"text-align: right;\">\n",
       "      <th></th>\n",
       "      <th>Site</th>\n",
       "      <th>Longitude</th>\n",
       "      <th>Latitude</th>\n",
       "      <th>Altitude</th>\n",
       "      <th>Ic</th>\n",
       "      <th>Classe_Ic</th>\n",
       "    </tr>\n",
       "  </thead>\n",
       "  <tbody>\n",
       "    <tr>\n",
       "      <th>0</th>\n",
       "      <td>Tumbwe</td>\n",
       "      <td>27.398758</td>\n",
       "      <td>-11.479370</td>\n",
       "      <td>1356.000</td>\n",
       "      <td>1.032063</td>\n",
       "      <td>Dur</td>\n",
       "    </tr>\n",
       "    <tr>\n",
       "      <th>1</th>\n",
       "      <td>Tumbwe</td>\n",
       "      <td>27.398610</td>\n",
       "      <td>-11.478151</td>\n",
       "      <td>1354.000</td>\n",
       "      <td>27.390744</td>\n",
       "      <td>Dur</td>\n",
       "    </tr>\n",
       "    <tr>\n",
       "      <th>2</th>\n",
       "      <td>Tumbwe</td>\n",
       "      <td>27.399395</td>\n",
       "      <td>-11.476759</td>\n",
       "      <td>1354.000</td>\n",
       "      <td>1.541371</td>\n",
       "      <td>Dur</td>\n",
       "    </tr>\n",
       "    <tr>\n",
       "      <th>3</th>\n",
       "      <td>Tumbwe</td>\n",
       "      <td>27.399987</td>\n",
       "      <td>-11.475205</td>\n",
       "      <td>1354.000</td>\n",
       "      <td>1.081573</td>\n",
       "      <td>Dur</td>\n",
       "    </tr>\n",
       "    <tr>\n",
       "      <th>4</th>\n",
       "      <td>Tumbwe</td>\n",
       "      <td>27.400558</td>\n",
       "      <td>-11.474226</td>\n",
       "      <td>1353.000</td>\n",
       "      <td>1.364352</td>\n",
       "      <td>Dur</td>\n",
       "    </tr>\n",
       "    <tr>\n",
       "      <th>...</th>\n",
       "      <td>...</td>\n",
       "      <td>...</td>\n",
       "      <td>...</td>\n",
       "      <td>...</td>\n",
       "      <td>...</td>\n",
       "      <td>...</td>\n",
       "    </tr>\n",
       "    <tr>\n",
       "      <th>808</th>\n",
       "      <td>Tumbwe</td>\n",
       "      <td>27.394227</td>\n",
       "      <td>-11.474065</td>\n",
       "      <td>1348.248</td>\n",
       "      <td>1.048759</td>\n",
       "      <td>Dur</td>\n",
       "    </tr>\n",
       "    <tr>\n",
       "      <th>810</th>\n",
       "      <td>Tumbwe</td>\n",
       "      <td>27.394278</td>\n",
       "      <td>-11.474105</td>\n",
       "      <td>1348.453</td>\n",
       "      <td>1.032063</td>\n",
       "      <td>Dur</td>\n",
       "    </tr>\n",
       "    <tr>\n",
       "      <th>811</th>\n",
       "      <td>Tumbwe</td>\n",
       "      <td>27.394311</td>\n",
       "      <td>-11.474129</td>\n",
       "      <td>1348.360</td>\n",
       "      <td>27.390744</td>\n",
       "      <td>Dur</td>\n",
       "    </tr>\n",
       "    <tr>\n",
       "      <th>812</th>\n",
       "      <td>Tumbwe</td>\n",
       "      <td>27.394341</td>\n",
       "      <td>-11.474153</td>\n",
       "      <td>1348.697</td>\n",
       "      <td>1.541371</td>\n",
       "      <td>Dur</td>\n",
       "    </tr>\n",
       "    <tr>\n",
       "      <th>813</th>\n",
       "      <td>Tumbwe</td>\n",
       "      <td>27.394366</td>\n",
       "      <td>-11.474175</td>\n",
       "      <td>1348.692</td>\n",
       "      <td>1.081573</td>\n",
       "      <td>Dur</td>\n",
       "    </tr>\n",
       "  </tbody>\n",
       "</table>\n",
       "<p>625 rows × 6 columns</p>\n",
       "</div>"
      ],
      "text/plain": [
       "       Site  Longitude   Latitude  Altitude         Ic Classe_Ic\n",
       "0    Tumbwe  27.398758 -11.479370  1356.000   1.032063       Dur\n",
       "1    Tumbwe  27.398610 -11.478151  1354.000  27.390744       Dur\n",
       "2    Tumbwe  27.399395 -11.476759  1354.000   1.541371       Dur\n",
       "3    Tumbwe  27.399987 -11.475205  1354.000   1.081573       Dur\n",
       "4    Tumbwe  27.400558 -11.474226  1353.000   1.364352       Dur\n",
       "..      ...        ...        ...       ...        ...       ...\n",
       "808  Tumbwe  27.394227 -11.474065  1348.248   1.048759       Dur\n",
       "810  Tumbwe  27.394278 -11.474105  1348.453   1.032063       Dur\n",
       "811  Tumbwe  27.394311 -11.474129  1348.360  27.390744       Dur\n",
       "812  Tumbwe  27.394341 -11.474153  1348.697   1.541371       Dur\n",
       "813  Tumbwe  27.394366 -11.474175  1348.692   1.081573       Dur\n",
       "\n",
       "[625 rows x 6 columns]"
      ]
     },
     "execution_count": 20,
     "metadata": {},
     "output_type": "execute_result"
    }
   ],
   "source": [
    "# dropping passed values\n",
    "classe_Dur = data[data['Classe_Ic'] == 'Dur'].iloc[ :625 , :]\n",
    "classe_Dur "
   ]
  },
  {
   "cell_type": "code",
   "execution_count": 21,
   "id": "76612f79-fcff-4977-9d00-6cf084230c25",
   "metadata": {},
   "outputs": [
    {
     "data": {
      "text/html": [
       "<div>\n",
       "<style scoped>\n",
       "    .dataframe tbody tr th:only-of-type {\n",
       "        vertical-align: middle;\n",
       "    }\n",
       "\n",
       "    .dataframe tbody tr th {\n",
       "        vertical-align: top;\n",
       "    }\n",
       "\n",
       "    .dataframe thead th {\n",
       "        text-align: right;\n",
       "    }\n",
       "</style>\n",
       "<table border=\"1\" class=\"dataframe\">\n",
       "  <thead>\n",
       "    <tr style=\"text-align: right;\">\n",
       "      <th></th>\n",
       "      <th>Site</th>\n",
       "      <th>Longitude</th>\n",
       "      <th>Latitude</th>\n",
       "      <th>Altitude</th>\n",
       "      <th>Ic</th>\n",
       "      <th>Classe_Ic</th>\n",
       "    </tr>\n",
       "  </thead>\n",
       "  <tbody>\n",
       "    <tr>\n",
       "      <th>8</th>\n",
       "      <td>Tumbwe</td>\n",
       "      <td>27.395137</td>\n",
       "      <td>-11.473340</td>\n",
       "      <td>1352.000</td>\n",
       "      <td>0.715264</td>\n",
       "      <td>Terne</td>\n",
       "    </tr>\n",
       "    <tr>\n",
       "      <th>9</th>\n",
       "      <td>Tumbwe</td>\n",
       "      <td>27.394444</td>\n",
       "      <td>-11.474650</td>\n",
       "      <td>1350.000</td>\n",
       "      <td>0.653490</td>\n",
       "      <td>Terne</td>\n",
       "    </tr>\n",
       "    <tr>\n",
       "      <th>11</th>\n",
       "      <td>Tumbwe</td>\n",
       "      <td>27.393726</td>\n",
       "      <td>-11.475818</td>\n",
       "      <td>1344.000</td>\n",
       "      <td>0.559695</td>\n",
       "      <td>Terne</td>\n",
       "    </tr>\n",
       "    <tr>\n",
       "      <th>29</th>\n",
       "      <td>Tumbwe</td>\n",
       "      <td>27.388280</td>\n",
       "      <td>-11.471170</td>\n",
       "      <td>1342.000</td>\n",
       "      <td>0.669784</td>\n",
       "      <td>Terne</td>\n",
       "    </tr>\n",
       "    <tr>\n",
       "      <th>38</th>\n",
       "      <td>Tumbwe</td>\n",
       "      <td>27.390620</td>\n",
       "      <td>-11.474792</td>\n",
       "      <td>1338.417</td>\n",
       "      <td>0.715264</td>\n",
       "      <td>Terne</td>\n",
       "    </tr>\n",
       "    <tr>\n",
       "      <th>...</th>\n",
       "      <td>...</td>\n",
       "      <td>...</td>\n",
       "      <td>...</td>\n",
       "      <td>...</td>\n",
       "      <td>...</td>\n",
       "      <td>...</td>\n",
       "    </tr>\n",
       "    <tr>\n",
       "      <th>4685</th>\n",
       "      <td>MUTSHATSHA</td>\n",
       "      <td>24.458400</td>\n",
       "      <td>-10.638600</td>\n",
       "      <td>1240.000</td>\n",
       "      <td>0.663000</td>\n",
       "      <td>Terne</td>\n",
       "    </tr>\n",
       "    <tr>\n",
       "      <th>4710</th>\n",
       "      <td>QUARTIER MUSUMBA</td>\n",
       "      <td>27.446298</td>\n",
       "      <td>-11.695117</td>\n",
       "      <td>1204.000</td>\n",
       "      <td>0.720000</td>\n",
       "      <td>Terne</td>\n",
       "    </tr>\n",
       "    <tr>\n",
       "      <th>4713</th>\n",
       "      <td>QUARTIER MUSUMBA</td>\n",
       "      <td>27.449804</td>\n",
       "      <td>-11.701423</td>\n",
       "      <td>1214.000</td>\n",
       "      <td>0.510000</td>\n",
       "      <td>Terne</td>\n",
       "    </tr>\n",
       "    <tr>\n",
       "      <th>4717</th>\n",
       "      <td>QUARTIER MUSUMBA</td>\n",
       "      <td>27.462209</td>\n",
       "      <td>-11.706052</td>\n",
       "      <td>1205.000</td>\n",
       "      <td>0.710000</td>\n",
       "      <td>Terne</td>\n",
       "    </tr>\n",
       "    <tr>\n",
       "      <th>4741</th>\n",
       "      <td>BUNKEYA</td>\n",
       "      <td>26.958259</td>\n",
       "      <td>-10.393147</td>\n",
       "      <td>985.000</td>\n",
       "      <td>0.560966</td>\n",
       "      <td>Terne</td>\n",
       "    </tr>\n",
       "  </tbody>\n",
       "</table>\n",
       "<p>628 rows × 6 columns</p>\n",
       "</div>"
      ],
      "text/plain": [
       "                   Site  Longitude   Latitude  Altitude        Ic Classe_Ic\n",
       "8                Tumbwe  27.395137 -11.473340  1352.000  0.715264     Terne\n",
       "9                Tumbwe  27.394444 -11.474650  1350.000  0.653490     Terne\n",
       "11               Tumbwe  27.393726 -11.475818  1344.000  0.559695     Terne\n",
       "29               Tumbwe  27.388280 -11.471170  1342.000  0.669784     Terne\n",
       "38               Tumbwe  27.390620 -11.474792  1338.417  0.715264     Terne\n",
       "...                 ...        ...        ...       ...       ...       ...\n",
       "4685         MUTSHATSHA  24.458400 -10.638600  1240.000  0.663000     Terne\n",
       "4710  QUARTIER MUSUMBA   27.446298 -11.695117  1204.000  0.720000     Terne\n",
       "4713  QUARTIER MUSUMBA   27.449804 -11.701423  1214.000  0.510000     Terne\n",
       "4717  QUARTIER MUSUMBA   27.462209 -11.706052  1205.000  0.710000     Terne\n",
       "4741            BUNKEYA  26.958259 -10.393147   985.000  0.560966     Terne\n",
       "\n",
       "[628 rows x 6 columns]"
      ]
     },
     "execution_count": 21,
     "metadata": {},
     "output_type": "execute_result"
    }
   ],
   "source": [
    "classe_Terne = data[data['Classe_Ic'] == 'Terne']\n",
    "classe_Terne"
   ]
  },
  {
   "cell_type": "code",
   "execution_count": 22,
   "id": "b3ec1f90-152e-48c8-96db-53caacdc21d1",
   "metadata": {},
   "outputs": [
    {
     "data": {
      "text/html": [
       "<div>\n",
       "<style scoped>\n",
       "    .dataframe tbody tr th:only-of-type {\n",
       "        vertical-align: middle;\n",
       "    }\n",
       "\n",
       "    .dataframe tbody tr th {\n",
       "        vertical-align: top;\n",
       "    }\n",
       "\n",
       "    .dataframe thead th {\n",
       "        text-align: right;\n",
       "    }\n",
       "</style>\n",
       "<table border=\"1\" class=\"dataframe\">\n",
       "  <thead>\n",
       "    <tr style=\"text-align: right;\">\n",
       "      <th></th>\n",
       "      <th>Site</th>\n",
       "      <th>Longitude</th>\n",
       "      <th>Latitude</th>\n",
       "      <th>Altitude</th>\n",
       "      <th>Ic</th>\n",
       "      <th>Classe_Ic</th>\n",
       "    </tr>\n",
       "  </thead>\n",
       "  <tbody>\n",
       "    <tr>\n",
       "      <th>15</th>\n",
       "      <td>Tumbwe</td>\n",
       "      <td>27.390718</td>\n",
       "      <td>-11.474095</td>\n",
       "      <td>1341.000</td>\n",
       "      <td>0.757955</td>\n",
       "      <td>Mi-dur</td>\n",
       "    </tr>\n",
       "    <tr>\n",
       "      <th>27</th>\n",
       "      <td>Tumbwe</td>\n",
       "      <td>27.385035</td>\n",
       "      <td>-11.469725</td>\n",
       "      <td>1334.000</td>\n",
       "      <td>0.771537</td>\n",
       "      <td>Mi-dur</td>\n",
       "    </tr>\n",
       "    <tr>\n",
       "      <th>45</th>\n",
       "      <td>Tumbwe</td>\n",
       "      <td>27.390788</td>\n",
       "      <td>-11.474910</td>\n",
       "      <td>1338.771</td>\n",
       "      <td>0.757955</td>\n",
       "      <td>Mi-dur</td>\n",
       "    </tr>\n",
       "    <tr>\n",
       "      <th>57</th>\n",
       "      <td>Tumbwe</td>\n",
       "      <td>27.391128</td>\n",
       "      <td>-11.475153</td>\n",
       "      <td>1338.915</td>\n",
       "      <td>0.771537</td>\n",
       "      <td>Mi-dur</td>\n",
       "    </tr>\n",
       "    <tr>\n",
       "      <th>75</th>\n",
       "      <td>Tumbwe</td>\n",
       "      <td>27.391638</td>\n",
       "      <td>-11.475514</td>\n",
       "      <td>1338.924</td>\n",
       "      <td>0.757955</td>\n",
       "      <td>Mi-dur</td>\n",
       "    </tr>\n",
       "    <tr>\n",
       "      <th>...</th>\n",
       "      <td>...</td>\n",
       "      <td>...</td>\n",
       "      <td>...</td>\n",
       "      <td>...</td>\n",
       "      <td>...</td>\n",
       "      <td>...</td>\n",
       "    </tr>\n",
       "    <tr>\n",
       "      <th>4712</th>\n",
       "      <td>QUARTIER MUSUMBA</td>\n",
       "      <td>27.444450</td>\n",
       "      <td>-11.698303</td>\n",
       "      <td>1222.000</td>\n",
       "      <td>0.960000</td>\n",
       "      <td>Mi-dur</td>\n",
       "    </tr>\n",
       "    <tr>\n",
       "      <th>4718</th>\n",
       "      <td>QUARTIER MUSUMBA</td>\n",
       "      <td>27.467567</td>\n",
       "      <td>-11.711234</td>\n",
       "      <td>1202.000</td>\n",
       "      <td>0.770000</td>\n",
       "      <td>Mi-dur</td>\n",
       "    </tr>\n",
       "    <tr>\n",
       "      <th>4719</th>\n",
       "      <td>QUARTIER MUSUMBA</td>\n",
       "      <td>27.461638</td>\n",
       "      <td>-11.710222</td>\n",
       "      <td>1206.000</td>\n",
       "      <td>0.950000</td>\n",
       "      <td>Mi-dur</td>\n",
       "    </tr>\n",
       "    <tr>\n",
       "      <th>4723</th>\n",
       "      <td>QUARTIER MUSUMBA</td>\n",
       "      <td>27.453713</td>\n",
       "      <td>-11.706925</td>\n",
       "      <td>1196.000</td>\n",
       "      <td>0.950000</td>\n",
       "      <td>Mi-dur</td>\n",
       "    </tr>\n",
       "    <tr>\n",
       "      <th>4735</th>\n",
       "      <td>BUNKEYA</td>\n",
       "      <td>26.954998</td>\n",
       "      <td>-10.393779</td>\n",
       "      <td>988.000</td>\n",
       "      <td>0.908484</td>\n",
       "      <td>Mi-dur</td>\n",
       "    </tr>\n",
       "  </tbody>\n",
       "</table>\n",
       "<p>325 rows × 6 columns</p>\n",
       "</div>"
      ],
      "text/plain": [
       "                   Site  Longitude   Latitude  Altitude        Ic Classe_Ic\n",
       "15               Tumbwe  27.390718 -11.474095  1341.000  0.757955    Mi-dur\n",
       "27               Tumbwe  27.385035 -11.469725  1334.000  0.771537    Mi-dur\n",
       "45               Tumbwe  27.390788 -11.474910  1338.771  0.757955    Mi-dur\n",
       "57               Tumbwe  27.391128 -11.475153  1338.915  0.771537    Mi-dur\n",
       "75               Tumbwe  27.391638 -11.475514  1338.924  0.757955    Mi-dur\n",
       "...                 ...        ...        ...       ...       ...       ...\n",
       "4712  QUARTIER MUSUMBA   27.444450 -11.698303  1222.000  0.960000    Mi-dur\n",
       "4718  QUARTIER MUSUMBA   27.467567 -11.711234  1202.000  0.770000    Mi-dur\n",
       "4719  QUARTIER MUSUMBA   27.461638 -11.710222  1206.000  0.950000    Mi-dur\n",
       "4723  QUARTIER MUSUMBA   27.453713 -11.706925  1196.000  0.950000    Mi-dur\n",
       "4735            BUNKEYA  26.954998 -10.393779   988.000  0.908484    Mi-dur\n",
       "\n",
       "[325 rows x 6 columns]"
      ]
     },
     "execution_count": 22,
     "metadata": {},
     "output_type": "execute_result"
    }
   ],
   "source": [
    "classe_Mi_Dur = data[data['Classe_Ic'] == 'Mi-dur']\n",
    "classe_Mi_Dur"
   ]
  },
  {
   "cell_type": "code",
   "execution_count": 23,
   "id": "e2c587c5-9639-47b2-85bf-70f6ff05da44",
   "metadata": {},
   "outputs": [
    {
     "data": {
      "text/html": [
       "<div>\n",
       "<style scoped>\n",
       "    .dataframe tbody tr th:only-of-type {\n",
       "        vertical-align: middle;\n",
       "    }\n",
       "\n",
       "    .dataframe tbody tr th {\n",
       "        vertical-align: top;\n",
       "    }\n",
       "\n",
       "    .dataframe thead th {\n",
       "        text-align: right;\n",
       "    }\n",
       "</style>\n",
       "<table border=\"1\" class=\"dataframe\">\n",
       "  <thead>\n",
       "    <tr style=\"text-align: right;\">\n",
       "      <th></th>\n",
       "      <th>Site</th>\n",
       "      <th>Longitude</th>\n",
       "      <th>Latitude</th>\n",
       "      <th>Altitude</th>\n",
       "      <th>Ic</th>\n",
       "      <th>Classe_Ic</th>\n",
       "    </tr>\n",
       "  </thead>\n",
       "  <tbody>\n",
       "    <tr>\n",
       "      <th>20</th>\n",
       "      <td>Tumbwe</td>\n",
       "      <td>27.389360</td>\n",
       "      <td>-11.471787</td>\n",
       "      <td>1341.0000</td>\n",
       "      <td>-0.794529</td>\n",
       "      <td>Liquide</td>\n",
       "    </tr>\n",
       "    <tr>\n",
       "      <th>50</th>\n",
       "      <td>Tumbwe</td>\n",
       "      <td>27.390919</td>\n",
       "      <td>-11.475003</td>\n",
       "      <td>1338.5070</td>\n",
       "      <td>-0.794529</td>\n",
       "      <td>Liquide</td>\n",
       "    </tr>\n",
       "    <tr>\n",
       "      <th>80</th>\n",
       "      <td>Tumbwe</td>\n",
       "      <td>27.391808</td>\n",
       "      <td>-11.475637</td>\n",
       "      <td>1339.0120</td>\n",
       "      <td>-0.794529</td>\n",
       "      <td>Liquide</td>\n",
       "    </tr>\n",
       "    <tr>\n",
       "      <th>110</th>\n",
       "      <td>Tumbwe</td>\n",
       "      <td>27.392803</td>\n",
       "      <td>-11.476314</td>\n",
       "      <td>1340.4610</td>\n",
       "      <td>-0.794529</td>\n",
       "      <td>Liquide</td>\n",
       "    </tr>\n",
       "    <tr>\n",
       "      <th>140</th>\n",
       "      <td>Tumbwe</td>\n",
       "      <td>27.393934</td>\n",
       "      <td>-11.476886</td>\n",
       "      <td>1343.5050</td>\n",
       "      <td>-0.794529</td>\n",
       "      <td>Liquide</td>\n",
       "    </tr>\n",
       "    <tr>\n",
       "      <th>...</th>\n",
       "      <td>...</td>\n",
       "      <td>...</td>\n",
       "      <td>...</td>\n",
       "      <td>...</td>\n",
       "      <td>...</td>\n",
       "      <td>...</td>\n",
       "    </tr>\n",
       "    <tr>\n",
       "      <th>5193</th>\n",
       "      <td>KINSEVERE</td>\n",
       "      <td>27.500284</td>\n",
       "      <td>-11.583934</td>\n",
       "      <td>1188.6369</td>\n",
       "      <td>-35.219849</td>\n",
       "      <td>Liquide</td>\n",
       "    </tr>\n",
       "    <tr>\n",
       "      <th>5203</th>\n",
       "      <td>KINSEVERE</td>\n",
       "      <td>27.499655</td>\n",
       "      <td>-11.583269</td>\n",
       "      <td>1187.8608</td>\n",
       "      <td>-35.219849</td>\n",
       "      <td>Liquide</td>\n",
       "    </tr>\n",
       "    <tr>\n",
       "      <th>5213</th>\n",
       "      <td>KINSEVERE</td>\n",
       "      <td>27.500588</td>\n",
       "      <td>-11.582730</td>\n",
       "      <td>1186.8692</td>\n",
       "      <td>-35.219849</td>\n",
       "      <td>Liquide</td>\n",
       "    </tr>\n",
       "    <tr>\n",
       "      <th>5223</th>\n",
       "      <td>KINSEVERE</td>\n",
       "      <td>27.501601</td>\n",
       "      <td>-11.581927</td>\n",
       "      <td>1185.9133</td>\n",
       "      <td>-35.219849</td>\n",
       "      <td>Liquide</td>\n",
       "    </tr>\n",
       "    <tr>\n",
       "      <th>5233</th>\n",
       "      <td>KINSEVERE</td>\n",
       "      <td>27.502679</td>\n",
       "      <td>-11.581215</td>\n",
       "      <td>1183.3166</td>\n",
       "      <td>-35.219849</td>\n",
       "      <td>Liquide</td>\n",
       "    </tr>\n",
       "  </tbody>\n",
       "</table>\n",
       "<p>201 rows × 6 columns</p>\n",
       "</div>"
      ],
      "text/plain": [
       "           Site  Longitude   Latitude   Altitude         Ic Classe_Ic\n",
       "20       Tumbwe  27.389360 -11.471787  1341.0000  -0.794529   Liquide\n",
       "50       Tumbwe  27.390919 -11.475003  1338.5070  -0.794529   Liquide\n",
       "80       Tumbwe  27.391808 -11.475637  1339.0120  -0.794529   Liquide\n",
       "110      Tumbwe  27.392803 -11.476314  1340.4610  -0.794529   Liquide\n",
       "140      Tumbwe  27.393934 -11.476886  1343.5050  -0.794529   Liquide\n",
       "...         ...        ...        ...        ...        ...       ...\n",
       "5193  KINSEVERE  27.500284 -11.583934  1188.6369 -35.219849   Liquide\n",
       "5203  KINSEVERE  27.499655 -11.583269  1187.8608 -35.219849   Liquide\n",
       "5213  KINSEVERE  27.500588 -11.582730  1186.8692 -35.219849   Liquide\n",
       "5223  KINSEVERE  27.501601 -11.581927  1185.9133 -35.219849   Liquide\n",
       "5233  KINSEVERE  27.502679 -11.581215  1183.3166 -35.219849   Liquide\n",
       "\n",
       "[201 rows x 6 columns]"
      ]
     },
     "execution_count": 23,
     "metadata": {},
     "output_type": "execute_result"
    }
   ],
   "source": [
    "classe_Liquide = data[data['Classe_Ic'] == 'Liquide']\n",
    "classe_Liquide"
   ]
  },
  {
   "cell_type": "code",
   "execution_count": 24,
   "id": "6d06749e-efdd-4271-a713-11013f4bf5ca",
   "metadata": {},
   "outputs": [
    {
     "data": {
      "text/html": [
       "<div>\n",
       "<style scoped>\n",
       "    .dataframe tbody tr th:only-of-type {\n",
       "        vertical-align: middle;\n",
       "    }\n",
       "\n",
       "    .dataframe tbody tr th {\n",
       "        vertical-align: top;\n",
       "    }\n",
       "\n",
       "    .dataframe thead th {\n",
       "        text-align: right;\n",
       "    }\n",
       "</style>\n",
       "<table border=\"1\" class=\"dataframe\">\n",
       "  <thead>\n",
       "    <tr style=\"text-align: right;\">\n",
       "      <th></th>\n",
       "      <th>Site</th>\n",
       "      <th>Longitude</th>\n",
       "      <th>Latitude</th>\n",
       "      <th>Altitude</th>\n",
       "      <th>Ic</th>\n",
       "      <th>Classe_Ic</th>\n",
       "    </tr>\n",
       "  </thead>\n",
       "  <tbody>\n",
       "    <tr>\n",
       "      <th>0</th>\n",
       "      <td>Tumbwe</td>\n",
       "      <td>27.398758</td>\n",
       "      <td>-11.479370</td>\n",
       "      <td>1356.0000</td>\n",
       "      <td>1.032063</td>\n",
       "      <td>Dur</td>\n",
       "    </tr>\n",
       "    <tr>\n",
       "      <th>1</th>\n",
       "      <td>Tumbwe</td>\n",
       "      <td>27.398610</td>\n",
       "      <td>-11.478151</td>\n",
       "      <td>1354.0000</td>\n",
       "      <td>27.390744</td>\n",
       "      <td>Dur</td>\n",
       "    </tr>\n",
       "    <tr>\n",
       "      <th>2</th>\n",
       "      <td>Tumbwe</td>\n",
       "      <td>27.399395</td>\n",
       "      <td>-11.476759</td>\n",
       "      <td>1354.0000</td>\n",
       "      <td>1.541371</td>\n",
       "      <td>Dur</td>\n",
       "    </tr>\n",
       "    <tr>\n",
       "      <th>3</th>\n",
       "      <td>Tumbwe</td>\n",
       "      <td>27.399987</td>\n",
       "      <td>-11.475205</td>\n",
       "      <td>1354.0000</td>\n",
       "      <td>1.081573</td>\n",
       "      <td>Dur</td>\n",
       "    </tr>\n",
       "    <tr>\n",
       "      <th>4</th>\n",
       "      <td>Tumbwe</td>\n",
       "      <td>27.400558</td>\n",
       "      <td>-11.474226</td>\n",
       "      <td>1353.0000</td>\n",
       "      <td>1.364352</td>\n",
       "      <td>Dur</td>\n",
       "    </tr>\n",
       "    <tr>\n",
       "      <th>...</th>\n",
       "      <td>...</td>\n",
       "      <td>...</td>\n",
       "      <td>...</td>\n",
       "      <td>...</td>\n",
       "      <td>...</td>\n",
       "      <td>...</td>\n",
       "    </tr>\n",
       "    <tr>\n",
       "      <th>5193</th>\n",
       "      <td>KINSEVERE</td>\n",
       "      <td>27.500284</td>\n",
       "      <td>-11.583934</td>\n",
       "      <td>1188.6369</td>\n",
       "      <td>-35.219849</td>\n",
       "      <td>Liquide</td>\n",
       "    </tr>\n",
       "    <tr>\n",
       "      <th>5203</th>\n",
       "      <td>KINSEVERE</td>\n",
       "      <td>27.499655</td>\n",
       "      <td>-11.583269</td>\n",
       "      <td>1187.8608</td>\n",
       "      <td>-35.219849</td>\n",
       "      <td>Liquide</td>\n",
       "    </tr>\n",
       "    <tr>\n",
       "      <th>5213</th>\n",
       "      <td>KINSEVERE</td>\n",
       "      <td>27.500588</td>\n",
       "      <td>-11.582730</td>\n",
       "      <td>1186.8692</td>\n",
       "      <td>-35.219849</td>\n",
       "      <td>Liquide</td>\n",
       "    </tr>\n",
       "    <tr>\n",
       "      <th>5223</th>\n",
       "      <td>KINSEVERE</td>\n",
       "      <td>27.501601</td>\n",
       "      <td>-11.581927</td>\n",
       "      <td>1185.9133</td>\n",
       "      <td>-35.219849</td>\n",
       "      <td>Liquide</td>\n",
       "    </tr>\n",
       "    <tr>\n",
       "      <th>5233</th>\n",
       "      <td>KINSEVERE</td>\n",
       "      <td>27.502679</td>\n",
       "      <td>-11.581215</td>\n",
       "      <td>1183.3166</td>\n",
       "      <td>-35.219849</td>\n",
       "      <td>Liquide</td>\n",
       "    </tr>\n",
       "  </tbody>\n",
       "</table>\n",
       "<p>1779 rows × 6 columns</p>\n",
       "</div>"
      ],
      "text/plain": [
       "           Site  Longitude   Latitude   Altitude         Ic Classe_Ic\n",
       "0        Tumbwe  27.398758 -11.479370  1356.0000   1.032063       Dur\n",
       "1        Tumbwe  27.398610 -11.478151  1354.0000  27.390744       Dur\n",
       "2        Tumbwe  27.399395 -11.476759  1354.0000   1.541371       Dur\n",
       "3        Tumbwe  27.399987 -11.475205  1354.0000   1.081573       Dur\n",
       "4        Tumbwe  27.400558 -11.474226  1353.0000   1.364352       Dur\n",
       "...         ...        ...        ...        ...        ...       ...\n",
       "5193  KINSEVERE  27.500284 -11.583934  1188.6369 -35.219849   Liquide\n",
       "5203  KINSEVERE  27.499655 -11.583269  1187.8608 -35.219849   Liquide\n",
       "5213  KINSEVERE  27.500588 -11.582730  1186.8692 -35.219849   Liquide\n",
       "5223  KINSEVERE  27.501601 -11.581927  1185.9133 -35.219849   Liquide\n",
       "5233  KINSEVERE  27.502679 -11.581215  1183.3166 -35.219849   Liquide\n",
       "\n",
       "[1779 rows x 6 columns]"
      ]
     },
     "execution_count": 24,
     "metadata": {},
     "output_type": "execute_result"
    }
   ],
   "source": [
    "data_concat = pd.concat([classe_Dur, classe_Terne, classe_Mi_Dur, classe_Liquide])\n",
    "data_concat"
   ]
  },
  {
   "cell_type": "code",
   "execution_count": 25,
   "id": "b0c5a40e-bf22-47d8-8390-bb08b4cff668",
   "metadata": {},
   "outputs": [
    {
     "data": {
      "text/plain": [
       "array(['Dur', 'Terne', 'Mi-dur', 'Liquide'], dtype=object)"
      ]
     },
     "execution_count": 25,
     "metadata": {},
     "output_type": "execute_result"
    }
   ],
   "source": [
    "data_concat['Classe_Ic'].unique()"
   ]
  },
  {
   "cell_type": "code",
   "execution_count": 26,
   "id": "fabb1f74-912c-4f55-8666-8ec5cf4ad662",
   "metadata": {},
   "outputs": [
    {
     "data": {
      "text/plain": [
       "Classe_Ic\n",
       "Terne      628\n",
       "Dur        625\n",
       "Mi-dur     325\n",
       "Liquide    201\n",
       "Name: count, dtype: int64"
      ]
     },
     "execution_count": 26,
     "metadata": {},
     "output_type": "execute_result"
    }
   ],
   "source": [
    "data_concat['Classe_Ic'].value_counts()"
   ]
  },
  {
   "cell_type": "code",
   "execution_count": 27,
   "id": "d78f258c-cb2b-435c-8b34-19990a937599",
   "metadata": {},
   "outputs": [],
   "source": [
    "encoder = LabelEncoder()"
   ]
  },
  {
   "cell_type": "code",
   "execution_count": 28,
   "id": "016eba07-7749-4ced-aca1-60e9c229b321",
   "metadata": {},
   "outputs": [
    {
     "data": {
      "text/html": [
       "<div>\n",
       "<style scoped>\n",
       "    .dataframe tbody tr th:only-of-type {\n",
       "        vertical-align: middle;\n",
       "    }\n",
       "\n",
       "    .dataframe tbody tr th {\n",
       "        vertical-align: top;\n",
       "    }\n",
       "\n",
       "    .dataframe thead th {\n",
       "        text-align: right;\n",
       "    }\n",
       "</style>\n",
       "<table border=\"1\" class=\"dataframe\">\n",
       "  <thead>\n",
       "    <tr style=\"text-align: right;\">\n",
       "      <th></th>\n",
       "      <th>Site</th>\n",
       "      <th>Longitude</th>\n",
       "      <th>Latitude</th>\n",
       "      <th>Altitude</th>\n",
       "      <th>Ic</th>\n",
       "      <th>Classe_Ic</th>\n",
       "    </tr>\n",
       "  </thead>\n",
       "  <tbody>\n",
       "    <tr>\n",
       "      <th>0</th>\n",
       "      <td>6</td>\n",
       "      <td>27.398758</td>\n",
       "      <td>-11.479370</td>\n",
       "      <td>1356.0000</td>\n",
       "      <td>1.032063</td>\n",
       "      <td>0</td>\n",
       "    </tr>\n",
       "    <tr>\n",
       "      <th>1</th>\n",
       "      <td>6</td>\n",
       "      <td>27.398610</td>\n",
       "      <td>-11.478151</td>\n",
       "      <td>1354.0000</td>\n",
       "      <td>27.390744</td>\n",
       "      <td>0</td>\n",
       "    </tr>\n",
       "    <tr>\n",
       "      <th>2</th>\n",
       "      <td>6</td>\n",
       "      <td>27.399395</td>\n",
       "      <td>-11.476759</td>\n",
       "      <td>1354.0000</td>\n",
       "      <td>1.541371</td>\n",
       "      <td>0</td>\n",
       "    </tr>\n",
       "    <tr>\n",
       "      <th>3</th>\n",
       "      <td>6</td>\n",
       "      <td>27.399987</td>\n",
       "      <td>-11.475205</td>\n",
       "      <td>1354.0000</td>\n",
       "      <td>1.081573</td>\n",
       "      <td>0</td>\n",
       "    </tr>\n",
       "    <tr>\n",
       "      <th>4</th>\n",
       "      <td>6</td>\n",
       "      <td>27.400558</td>\n",
       "      <td>-11.474226</td>\n",
       "      <td>1353.0000</td>\n",
       "      <td>1.364352</td>\n",
       "      <td>0</td>\n",
       "    </tr>\n",
       "    <tr>\n",
       "      <th>...</th>\n",
       "      <td>...</td>\n",
       "      <td>...</td>\n",
       "      <td>...</td>\n",
       "      <td>...</td>\n",
       "      <td>...</td>\n",
       "      <td>...</td>\n",
       "    </tr>\n",
       "    <tr>\n",
       "      <th>5193</th>\n",
       "      <td>2</td>\n",
       "      <td>27.500284</td>\n",
       "      <td>-11.583934</td>\n",
       "      <td>1188.6369</td>\n",
       "      <td>-35.219849</td>\n",
       "      <td>1</td>\n",
       "    </tr>\n",
       "    <tr>\n",
       "      <th>5203</th>\n",
       "      <td>2</td>\n",
       "      <td>27.499655</td>\n",
       "      <td>-11.583269</td>\n",
       "      <td>1187.8608</td>\n",
       "      <td>-35.219849</td>\n",
       "      <td>1</td>\n",
       "    </tr>\n",
       "    <tr>\n",
       "      <th>5213</th>\n",
       "      <td>2</td>\n",
       "      <td>27.500588</td>\n",
       "      <td>-11.582730</td>\n",
       "      <td>1186.8692</td>\n",
       "      <td>-35.219849</td>\n",
       "      <td>1</td>\n",
       "    </tr>\n",
       "    <tr>\n",
       "      <th>5223</th>\n",
       "      <td>2</td>\n",
       "      <td>27.501601</td>\n",
       "      <td>-11.581927</td>\n",
       "      <td>1185.9133</td>\n",
       "      <td>-35.219849</td>\n",
       "      <td>1</td>\n",
       "    </tr>\n",
       "    <tr>\n",
       "      <th>5233</th>\n",
       "      <td>2</td>\n",
       "      <td>27.502679</td>\n",
       "      <td>-11.581215</td>\n",
       "      <td>1183.3166</td>\n",
       "      <td>-35.219849</td>\n",
       "      <td>1</td>\n",
       "    </tr>\n",
       "  </tbody>\n",
       "</table>\n",
       "<p>1779 rows × 6 columns</p>\n",
       "</div>"
      ],
      "text/plain": [
       "      Site  Longitude   Latitude   Altitude         Ic  Classe_Ic\n",
       "0        6  27.398758 -11.479370  1356.0000   1.032063          0\n",
       "1        6  27.398610 -11.478151  1354.0000  27.390744          0\n",
       "2        6  27.399395 -11.476759  1354.0000   1.541371          0\n",
       "3        6  27.399987 -11.475205  1354.0000   1.081573          0\n",
       "4        6  27.400558 -11.474226  1353.0000   1.364352          0\n",
       "...    ...        ...        ...        ...        ...        ...\n",
       "5193     2  27.500284 -11.583934  1188.6369 -35.219849          1\n",
       "5203     2  27.499655 -11.583269  1187.8608 -35.219849          1\n",
       "5213     2  27.500588 -11.582730  1186.8692 -35.219849          1\n",
       "5223     2  27.501601 -11.581927  1185.9133 -35.219849          1\n",
       "5233     2  27.502679 -11.581215  1183.3166 -35.219849          1\n",
       "\n",
       "[1779 rows x 6 columns]"
      ]
     },
     "execution_count": 28,
     "metadata": {},
     "output_type": "execute_result"
    }
   ],
   "source": [
    "data_concat['Site'] = encoder.fit_transform(data_concat['Site'])\n",
    "data_concat['Classe_Ic'] = encoder.fit_transform(data_concat['Classe_Ic'])\n",
    "data_concat"
   ]
  },
  {
   "cell_type": "code",
   "execution_count": 29,
   "id": "6e580152-f0ca-4ac1-8436-43517e3641bc",
   "metadata": {},
   "outputs": [
    {
     "data": {
      "text/plain": [
       "array([0, 3, 2, 1])"
      ]
     },
     "execution_count": 29,
     "metadata": {},
     "output_type": "execute_result"
    }
   ],
   "source": [
    "data_concat['Classe_Ic'].unique()"
   ]
  },
  {
   "cell_type": "code",
   "execution_count": 30,
   "id": "7a41110a-a9a8-43e2-bb78-a8571f5eb95f",
   "metadata": {},
   "outputs": [
    {
     "data": {
      "text/plain": [
       "Classe_Ic\n",
       "3    628\n",
       "0    625\n",
       "2    325\n",
       "1    201\n",
       "Name: count, dtype: int64"
      ]
     },
     "execution_count": 30,
     "metadata": {},
     "output_type": "execute_result"
    }
   ],
   "source": [
    "data_concat['Classe_Ic'].value_counts()"
   ]
  },
  {
   "cell_type": "code",
   "execution_count": 31,
   "id": "25d05f72-ba89-432f-ae15-8c2fa180aaed",
   "metadata": {},
   "outputs": [
    {
     "name": "stdout",
     "output_type": "stream",
     "text": [
      "<class 'pandas.core.frame.DataFrame'>\n",
      "Index: 1779 entries, 0 to 5233\n",
      "Data columns (total 6 columns):\n",
      " #   Column     Non-Null Count  Dtype  \n",
      "---  ------     --------------  -----  \n",
      " 0   Site       1779 non-null   int64  \n",
      " 1   Longitude  1779 non-null   float64\n",
      " 2   Latitude   1779 non-null   float64\n",
      " 3   Altitude   1779 non-null   float64\n",
      " 4   Ic         1779 non-null   float64\n",
      " 5   Classe_Ic  1779 non-null   int64  \n",
      "dtypes: float64(4), int64(2)\n",
      "memory usage: 97.3 KB\n"
     ]
    }
   ],
   "source": [
    "data_concat.info()"
   ]
  },
  {
   "cell_type": "code",
   "execution_count": 32,
   "id": "3d0abdcf-da39-4cc3-8c36-f24e5e05d4f8",
   "metadata": {},
   "outputs": [
    {
     "data": {
      "image/png": "[encoded data removed]",
      "text/plain": [
       "<Figure size 1200x800 with 2 Axes>"
      ]
     },
     "metadata": {},
     "output_type": "display_data"
    }
   ],
   "source": [
    "plt.figure(figsize=(12, 8))\n",
    "sns.heatmap(\n",
    "    data_concat.corr(),\n",
    "    annot=True,               # Show correlation coefficients\n",
    "    fmt=\".2f\",                # Format the annotations to 2 decimal places\n",
    "    cmap='viridis',           # Choose a different color palette\n",
    "    square=True,              # Make cells square-shaped\n",
    "    linewidths=0.5,          # Add lines between cells\n",
    "    cbar_kws={\"shrink\": .8}, # Shrink the color bar\n",
    ")\n",
    "plt.title('Correlation Heatmap of Mining Data', fontsize=16)\n",
    "plt.show()"
   ]
  },
  {
   "cell_type": "markdown",
   "id": "ed00a919-3032-484d-9e4a-f9fc51f54ae3",
   "metadata": {},
   "source": [
    "# Étape 5 : Diviser les données : Train et Test"
   ]
  },
  {
   "cell_type": "code",
   "execution_count": 33,
   "id": "80f17bcf-b810-4821-a2cf-49427de93559",
   "metadata": {},
   "outputs": [],
   "source": [
    "X = data_concat.iloc [:, :-1]\n",
    "y = data_concat.iloc[:, -1]\n",
    "y = to_categorical(y, num_classes=4)"
   ]
  },
  {
   "cell_type": "code",
   "execution_count": 34,
   "id": "803d1d51-19fe-4f9c-ad02-a83faa03a8e1",
   "metadata": {},
   "outputs": [],
   "source": [
    "scaler = StandardScaler()\n",
    "\n",
    "X_normal = scaler.fit_transform(X)\n",
    "#X_test = scaler.transform(X_test)"
   ]
  },
  {
   "cell_type": "code",
   "execution_count": 35,
   "id": "e70c83c9-7e76-4ee0-bd8d-cb9503896456",
   "metadata": {},
   "outputs": [],
   "source": [
    "X_train, X_test, y_train, y_test = train_test_split(X_normal, y, test_size=0.25, random_state=27)"
   ]
  },
  {
   "cell_type": "code",
   "execution_count": 36,
   "id": "36be6ea3-bc03-49e9-9ca9-2fbe2af115e6",
   "metadata": {},
   "outputs": [
    {
     "data": {
      "text/plain": [
       "array([[ 1.88250429e-01,  1.72898448e-02, -2.45076377e-02,\n",
       "        -3.55838170e-01, -6.02282615e-02],\n",
       "       [-5.58584463e+00,  5.72945681e-01, -1.33249679e+00,\n",
       "        -4.95770413e+00, -4.25034459e+00],\n",
       "       [ 1.88250429e-01,  9.12963295e-02, -7.16160539e-02,\n",
       "         4.95516967e-01, -6.02282615e-02],\n",
       "       ...,\n",
       "       [ 1.88250429e-01,  7.57724702e-02,  3.37014916e-03,\n",
       "         3.83198603e-01,  8.18885863e-02],\n",
       "       [ 1.88250429e-01,  2.85026152e-02,  1.05113254e-02,\n",
       "        -2.65712521e-01, -2.18820498e-01],\n",
       "       [ 1.88250429e-01,  8.16857794e-02, -5.23739089e-02,\n",
       "         3.74553766e-01, -6.02282615e-02]])"
      ]
     },
     "execution_count": 36,
     "metadata": {},
     "output_type": "execute_result"
    }
   ],
   "source": [
    "X_train"
   ]
  },
  {
   "cell_type": "code",
   "execution_count": 37,
   "id": "f3d1faea-cfb7-438e-8422-cf7eee522dbe",
   "metadata": {},
   "outputs": [
    {
     "data": {
      "text/plain": [
       "array([[0., 0., 0., 1.],\n",
       "       [0., 1., 0., 0.],\n",
       "       [0., 0., 0., 1.],\n",
       "       ...,\n",
       "       [1., 0., 0., 0.],\n",
       "       [0., 1., 0., 0.],\n",
       "       [0., 0., 0., 1.]])"
      ]
     },
     "execution_count": 37,
     "metadata": {},
     "output_type": "execute_result"
    }
   ],
   "source": [
    "y_train"
   ]
  },
  {
   "cell_type": "code",
   "execution_count": 38,
   "id": "ab1a2cdd-7faa-4aa4-87d0-ed11b355f09f",
   "metadata": {},
   "outputs": [
    {
     "name": "stdout",
     "output_type": "stream",
     "text": [
      "X-train: (1334, 5)\n",
      "y-train: (1334, 4)\n",
      "X-test: (445, 5)\n",
      "y-test: (445, 4)\n"
     ]
    }
   ],
   "source": [
    "print(\"X-train:\", X_train.shape)\n",
    "print(\"y-train:\", y_train.shape)\n",
    "print(\"X-test:\", X_test.shape)\n",
    "print(\"y-test:\", y_test.shape)"
   ]
  },
  {
   "cell_type": "code",
   "execution_count": null,
   "id": "58654693-4b0c-42a8-a63d-21a69c8e6e05",
   "metadata": {},
   "outputs": [],
   "source": []
  },
  {
   "cell_type": "markdown",
   "id": "7872e2a5-3ee4-40fe-84d7-5ed73fe10c96",
   "metadata": {},
   "source": [
    "# Étape 6 : Construire le Shallow Neural Network et 5 Algorithmes classiques de Machine Learning"
   ]
  },
  {
   "cell_type": "code",
   "execution_count": 39,
   "id": "7562473a-3106-42ea-8455-e53501454014",
   "metadata": {},
   "outputs": [
    {
     "data": {
      "text/html": [
       "<pre style=\"white-space:pre;overflow-x:auto;line-height:normal;font-family:Menlo,'DejaVu Sans Mono',consolas,'Courier New',monospace\"><span style=\"font-weight: bold\">Model: \"sequential\"</span>\n",
       "</pre>\n"
      ],
      "text/plain": [
       "\u001b[1mModel: \"sequential\"\u001b[0m\n"
      ]
     },
     "metadata": {},
     "output_type": "display_data"
    },
    {
     "data": {
      "text/html": [
       "<pre style=\"white-space:pre;overflow-x:auto;line-height:normal;font-family:Menlo,'DejaVu Sans Mono',consolas,'Courier New',monospace\">┏━━━━━━━━━━━━━━━━━━━━━━━━━━━━━━━━━━━━━━┳━━━━━━━━━━━━━━━━━━━━━━━━━━━━━┳━━━━━━━━━━━━━━━━━┓\n",
       "┃<span style=\"font-weight: bold\"> Layer (type)                         </span>┃<span style=\"font-weight: bold\"> Output Shape                </span>┃<span style=\"font-weight: bold\">         Param # </span>┃\n",
       "┡━━━━━━━━━━━━━━━━━━━━━━━━━━━━━━━━━━━━━━╇━━━━━━━━━━━━━━━━━━━━━━━━━━━━━╇━━━━━━━━━━━━━━━━━┩\n",
       "│ dense (<span style=\"color: #0087ff; text-decoration-color: #0087ff\">Dense</span>)                        │ (<span style=\"color: #00d7ff; text-decoration-color: #00d7ff\">None</span>, <span style=\"color: #00af00; text-decoration-color: #00af00\">10</span>)                  │              <span style=\"color: #00af00; text-decoration-color: #00af00\">60</span> │\n",
       "├──────────────────────────────────────┼─────────────────────────────┼─────────────────┤\n",
       "│ dense_1 (<span style=\"color: #0087ff; text-decoration-color: #0087ff\">Dense</span>)                      │ (<span style=\"color: #00d7ff; text-decoration-color: #00d7ff\">None</span>, <span style=\"color: #00af00; text-decoration-color: #00af00\">128</span>)                 │           <span style=\"color: #00af00; text-decoration-color: #00af00\">1,408</span> │\n",
       "├──────────────────────────────────────┼─────────────────────────────┼─────────────────┤\n",
       "│ dropout (<span style=\"color: #0087ff; text-decoration-color: #0087ff\">Dropout</span>)                    │ (<span style=\"color: #00d7ff; text-decoration-color: #00d7ff\">None</span>, <span style=\"color: #00af00; text-decoration-color: #00af00\">128</span>)                 │               <span style=\"color: #00af00; text-decoration-color: #00af00\">0</span> │\n",
       "├──────────────────────────────────────┼─────────────────────────────┼─────────────────┤\n",
       "│ dense_2 (<span style=\"color: #0087ff; text-decoration-color: #0087ff\">Dense</span>)                      │ (<span style=\"color: #00d7ff; text-decoration-color: #00d7ff\">None</span>, <span style=\"color: #00af00; text-decoration-color: #00af00\">64</span>)                  │           <span style=\"color: #00af00; text-decoration-color: #00af00\">8,256</span> │\n",
       "├──────────────────────────────────────┼─────────────────────────────┼─────────────────┤\n",
       "│ dropout_1 (<span style=\"color: #0087ff; text-decoration-color: #0087ff\">Dropout</span>)                  │ (<span style=\"color: #00d7ff; text-decoration-color: #00d7ff\">None</span>, <span style=\"color: #00af00; text-decoration-color: #00af00\">64</span>)                  │               <span style=\"color: #00af00; text-decoration-color: #00af00\">0</span> │\n",
       "├──────────────────────────────────────┼─────────────────────────────┼─────────────────┤\n",
       "│ dense_3 (<span style=\"color: #0087ff; text-decoration-color: #0087ff\">Dense</span>)                      │ (<span style=\"color: #00d7ff; text-decoration-color: #00d7ff\">None</span>, <span style=\"color: #00af00; text-decoration-color: #00af00\">32</span>)                  │           <span style=\"color: #00af00; text-decoration-color: #00af00\">2,080</span> │\n",
       "├──────────────────────────────────────┼─────────────────────────────┼─────────────────┤\n",
       "│ dense_4 (<span style=\"color: #0087ff; text-decoration-color: #0087ff\">Dense</span>)                      │ (<span style=\"color: #00d7ff; text-decoration-color: #00d7ff\">None</span>, <span style=\"color: #00af00; text-decoration-color: #00af00\">4</span>)                   │             <span style=\"color: #00af00; text-decoration-color: #00af00\">132</span> │\n",
       "└──────────────────────────────────────┴─────────────────────────────┴─────────────────┘\n",
       "</pre>\n"
      ],
      "text/plain": [
       "┏━━━━━━━━━━━━━━━━━━━━━━━━━━━━━━━━━━━━━━┳━━━━━━━━━━━━━━━━━━━━━━━━━━━━━┳━━━━━━━━━━━━━━━━━┓\n",
       "┃\u001b[1m \u001b[0m\u001b[1mLayer (type)                        \u001b[0m\u001b[1m \u001b[0m┃\u001b[1m \u001b[0m\u001b[1mOutput Shape               \u001b[0m\u001b[1m \u001b[0m┃\u001b[1m \u001b[0m\u001b[1m        Param #\u001b[0m\u001b[1m \u001b[0m┃\n",
       "┡━━━━━━━━━━━━━━━━━━━━━━━━━━━━━━━━━━━━━━╇━━━━━━━━━━━━━━━━━━━━━━━━━━━━━╇━━━━━━━━━━━━━━━━━┩\n",
       "│ dense (\u001b[38;5;33mDense\u001b[0m)                        │ (\u001b[38;5;45mNone\u001b[0m, \u001b[38;5;34m10\u001b[0m)                  │              \u001b[38;5;34m60\u001b[0m │\n",
       "├──────────────────────────────────────┼─────────────────────────────┼─────────────────┤\n",
       "│ dense_1 (\u001b[38;5;33mDense\u001b[0m)                      │ (\u001b[38;5;45mNone\u001b[0m, \u001b[38;5;34m128\u001b[0m)                 │           \u001b[38;5;34m1,408\u001b[0m │\n",
       "├──────────────────────────────────────┼─────────────────────────────┼─────────────────┤\n",
       "│ dropout (\u001b[38;5;33mDropout\u001b[0m)                    │ (\u001b[38;5;45mNone\u001b[0m, \u001b[38;5;34m128\u001b[0m)                 │               \u001b[38;5;34m0\u001b[0m │\n",
       "├──────────────────────────────────────┼─────────────────────────────┼─────────────────┤\n",
       "│ dense_2 (\u001b[38;5;33mDense\u001b[0m)                      │ (\u001b[38;5;45mNone\u001b[0m, \u001b[38;5;34m64\u001b[0m)                  │           \u001b[38;5;34m8,256\u001b[0m │\n",
       "├──────────────────────────────────────┼─────────────────────────────┼─────────────────┤\n",
       "│ dropout_1 (\u001b[38;5;33mDropout\u001b[0m)                  │ (\u001b[38;5;45mNone\u001b[0m, \u001b[38;5;34m64\u001b[0m)                  │               \u001b[38;5;34m0\u001b[0m │\n",
       "├──────────────────────────────────────┼─────────────────────────────┼─────────────────┤\n",
       "│ dense_3 (\u001b[38;5;33mDense\u001b[0m)                      │ (\u001b[38;5;45mNone\u001b[0m, \u001b[38;5;34m32\u001b[0m)                  │           \u001b[38;5;34m2,080\u001b[0m │\n",
       "├──────────────────────────────────────┼─────────────────────────────┼─────────────────┤\n",
       "│ dense_4 (\u001b[38;5;33mDense\u001b[0m)                      │ (\u001b[38;5;45mNone\u001b[0m, \u001b[38;5;34m4\u001b[0m)                   │             \u001b[38;5;34m132\u001b[0m │\n",
       "└──────────────────────────────────────┴─────────────────────────────┴─────────────────┘\n"
      ]
     },
     "metadata": {},
     "output_type": "display_data"
    },
    {
     "data": {
      "text/html": [
       "<pre style=\"white-space:pre;overflow-x:auto;line-height:normal;font-family:Menlo,'DejaVu Sans Mono',consolas,'Courier New',monospace\"><span style=\"font-weight: bold\"> Total params: </span><span style=\"color: #00af00; text-decoration-color: #00af00\">11,936</span> (46.62 KB)\n",
       "</pre>\n"
      ],
      "text/plain": [
       "\u001b[1m Total params: \u001b[0m\u001b[38;5;34m11,936\u001b[0m (46.62 KB)\n"
      ]
     },
     "metadata": {},
     "output_type": "display_data"
    },
    {
     "data": {
      "text/html": [
       "<pre style=\"white-space:pre;overflow-x:auto;line-height:normal;font-family:Menlo,'DejaVu Sans Mono',consolas,'Courier New',monospace\"><span style=\"font-weight: bold\"> Trainable params: </span><span style=\"color: #00af00; text-decoration-color: #00af00\">11,936</span> (46.62 KB)\n",
       "</pre>\n"
      ],
      "text/plain": [
       "\u001b[1m Trainable params: \u001b[0m\u001b[38;5;34m11,936\u001b[0m (46.62 KB)\n"
      ]
     },
     "metadata": {},
     "output_type": "display_data"
    },
    {
     "data": {
      "text/html": [
       "<pre style=\"white-space:pre;overflow-x:auto;line-height:normal;font-family:Menlo,'DejaVu Sans Mono',consolas,'Courier New',monospace\"><span style=\"font-weight: bold\"> Non-trainable params: </span><span style=\"color: #00af00; text-decoration-color: #00af00\">0</span> (0.00 B)\n",
       "</pre>\n"
      ],
      "text/plain": [
       "\u001b[1m Non-trainable params: \u001b[0m\u001b[38;5;34m0\u001b[0m (0.00 B)\n"
      ]
     },
     "metadata": {},
     "output_type": "display_data"
    }
   ],
   "source": [
    "# Creer une instance de la Classe Sequential\n",
    "model_dnn = Sequential()\n",
    "\n",
    "# Ajout de la premiere couche\n",
    "model_dnn.add(Dense(10, input_shape=(5,), activation='relu'))\n",
    "\n",
    "# Ajout de la deuxieme couche intermediaire\n",
    "model_dnn.add(Dense(128, activation='relu'))\n",
    "model_dnn.add(Dropout(0.5))\n",
    "\n",
    "# Ajout de la troisieme couche intermediaire\n",
    "model_dnn.add(Dense(64, activation='relu'))\n",
    "model_dnn.add(Dropout(0.2))\n",
    "\n",
    "# Ajout de la qautriem couche intermediaire\n",
    "model_dnn.add(Dense(32, activation='relu'))\n",
    "\n",
    "# Ajout de la couche de Sortie\n",
    "model_dnn.add(Dense(4, activation='softmax'))\n",
    "\n",
    "# Compiler le model\n",
    "model_dnn.compile(optimizer=Adam(learning_rate=0.01), loss='categorical_crossentropy', metrics=['accuracy'])\n",
    "\n",
    "# Affichage de l'architecture du reseau de neurone\n",
    "model_dnn.summary()"
   ]
  },
  {
   "cell_type": "code",
   "execution_count": 40,
   "id": "bbbc4d57-dca4-4ba8-b67c-549b2d01ccae",
   "metadata": {},
   "outputs": [
    {
     "name": "stdout",
     "output_type": "stream",
     "text": [
      "Epoch 1/150\n",
      "\u001b[1m42/42\u001b[0m \u001b[32m━━━━━━━━━━━━━━━━━━━━\u001b[0m\u001b[37m\u001b[0m \u001b[1m2s\u001b[0m 10ms/step - accuracy: 0.4988 - loss: 1.1560 - val_accuracy: 0.6899 - val_loss: 0.7513\n",
      "Epoch 2/150\n",
      "\u001b[1m42/42\u001b[0m \u001b[32m━━━━━━━━━━━━━━━━━━━━\u001b[0m\u001b[37m\u001b[0m \u001b[1m0s\u001b[0m 5ms/step - accuracy: 0.7668 - loss: 0.6273 - val_accuracy: 0.9079 - val_loss: 0.3070\n",
      "Epoch 3/150\n",
      "\u001b[1m42/42\u001b[0m \u001b[32m━━━━━━━━━━━━━━━━━━━━\u001b[0m\u001b[37m\u001b[0m \u001b[1m0s\u001b[0m 5ms/step - accuracy: 0.8591 - loss: 0.3432 - val_accuracy: 0.8270 - val_loss: 0.2904\n",
      "Epoch 4/150\n",
      "\u001b[1m42/42\u001b[0m \u001b[32m━━━━━━━━━━━━━━━━━━━━\u001b[0m\u001b[37m\u001b[0m \u001b[1m0s\u001b[0m 4ms/step - accuracy: 0.8533 - loss: 0.3049 - val_accuracy: 0.8315 - val_loss: 0.3199\n",
      "Epoch 5/150\n",
      "\u001b[1m42/42\u001b[0m \u001b[32m━━━━━━━━━━━━━━━━━━━━\u001b[0m\u001b[37m\u001b[0m \u001b[1m0s\u001b[0m 7ms/step - accuracy: 0.8816 - loss: 0.2701 - val_accuracy: 0.8562 - val_loss: 0.3415\n",
      "Epoch 6/150\n",
      "\u001b[1m42/42\u001b[0m \u001b[32m━━━━━━━━━━━━━━━━━━━━\u001b[0m\u001b[37m\u001b[0m \u001b[1m0s\u001b[0m 6ms/step - accuracy: 0.8934 - loss: 0.2456 - val_accuracy: 0.9618 - val_loss: 0.2006\n",
      "Epoch 7/150\n",
      "\u001b[1m42/42\u001b[0m \u001b[32m━━━━━━━━━━━━━━━━━━━━\u001b[0m\u001b[37m\u001b[0m \u001b[1m0s\u001b[0m 5ms/step - accuracy: 0.9248 - loss: 0.1768 - val_accuracy: 0.9213 - val_loss: 0.2081\n",
      "Epoch 8/150\n",
      "\u001b[1m42/42\u001b[0m \u001b[32m━━━━━━━━━━━━━━━━━━━━\u001b[0m\u001b[37m\u001b[0m \u001b[1m0s\u001b[0m 5ms/step - accuracy: 0.9042 - loss: 0.2425 - val_accuracy: 0.9798 - val_loss: 0.1297\n",
      "Epoch 9/150\n",
      "\u001b[1m42/42\u001b[0m \u001b[32m━━━━━━━━━━━━━━━━━━━━\u001b[0m\u001b[37m\u001b[0m \u001b[1m0s\u001b[0m 4ms/step - accuracy: 0.9295 - loss: 0.1639 - val_accuracy: 0.8787 - val_loss: 0.2481\n",
      "Epoch 10/150\n",
      "\u001b[1m42/42\u001b[0m \u001b[32m━━━━━━━━━━━━━━━━━━━━\u001b[0m\u001b[37m\u001b[0m \u001b[1m0s\u001b[0m 5ms/step - accuracy: 0.8959 - loss: 0.2566 - val_accuracy: 0.9573 - val_loss: 0.2284\n",
      "Epoch 11/150\n",
      "\u001b[1m42/42\u001b[0m \u001b[32m━━━━━━━━━━━━━━━━━━━━\u001b[0m\u001b[37m\u001b[0m \u001b[1m0s\u001b[0m 5ms/step - accuracy: 0.8900 - loss: 0.2368 - val_accuracy: 0.9371 - val_loss: 0.1953\n",
      "Epoch 12/150\n",
      "\u001b[1m42/42\u001b[0m \u001b[32m━━━━━━━━━━━━━━━━━━━━\u001b[0m\u001b[37m\u001b[0m \u001b[1m0s\u001b[0m 4ms/step - accuracy: 0.9229 - loss: 0.1715 - val_accuracy: 0.9865 - val_loss: 0.0585\n",
      "Epoch 13/150\n",
      "\u001b[1m42/42\u001b[0m \u001b[32m━━━━━━━━━━━━━━━━━━━━\u001b[0m\u001b[37m\u001b[0m \u001b[1m0s\u001b[0m 5ms/step - accuracy: 0.9703 - loss: 0.0829 - val_accuracy: 0.9596 - val_loss: 0.1305\n",
      "Epoch 14/150\n",
      "\u001b[1m42/42\u001b[0m \u001b[32m━━━━━━━━━━━━━━━━━━━━\u001b[0m\u001b[37m\u001b[0m \u001b[1m0s\u001b[0m 5ms/step - accuracy: 0.9441 - loss: 0.1214 - val_accuracy: 0.9888 - val_loss: 0.0502\n",
      "Epoch 15/150\n",
      "\u001b[1m42/42\u001b[0m \u001b[32m━━━━━━━━━━━━━━━━━━━━\u001b[0m\u001b[37m\u001b[0m \u001b[1m0s\u001b[0m 4ms/step - accuracy: 0.9827 - loss: 0.0433 - val_accuracy: 0.9124 - val_loss: 0.3118\n",
      "Epoch 16/150\n",
      "\u001b[1m42/42\u001b[0m \u001b[32m━━━━━━━━━━━━━━━━━━━━\u001b[0m\u001b[37m\u001b[0m \u001b[1m0s\u001b[0m 4ms/step - accuracy: 0.9345 - loss: 0.1807 - val_accuracy: 0.9685 - val_loss: 0.0675\n",
      "Epoch 17/150\n",
      "\u001b[1m42/42\u001b[0m \u001b[32m━━━━━━━━━━━━━━━━━━━━\u001b[0m\u001b[37m\u001b[0m \u001b[1m0s\u001b[0m 5ms/step - accuracy: 0.9671 - loss: 0.0850 - val_accuracy: 0.9888 - val_loss: 0.0554\n",
      "Epoch 18/150\n",
      "\u001b[1m42/42\u001b[0m \u001b[32m━━━━━━━━━━━━━━━━━━━━\u001b[0m\u001b[37m\u001b[0m \u001b[1m0s\u001b[0m 4ms/step - accuracy: 0.9536 - loss: 0.1235 - val_accuracy: 0.9820 - val_loss: 0.0875\n",
      "Epoch 19/150\n",
      "\u001b[1m42/42\u001b[0m \u001b[32m━━━━━━━━━━━━━━━━━━━━\u001b[0m\u001b[37m\u001b[0m \u001b[1m0s\u001b[0m 5ms/step - accuracy: 0.9613 - loss: 0.1031 - val_accuracy: 0.9281 - val_loss: 0.1333\n",
      "Epoch 20/150\n",
      "\u001b[1m42/42\u001b[0m \u001b[32m━━━━━━━━━━━━━━━━━━━━\u001b[0m\u001b[37m\u001b[0m \u001b[1m0s\u001b[0m 5ms/step - accuracy: 0.9663 - loss: 0.0787 - val_accuracy: 0.9865 - val_loss: 0.0306\n",
      "Epoch 21/150\n",
      "\u001b[1m42/42\u001b[0m \u001b[32m━━━━━━━━━━━━━━━━━━━━\u001b[0m\u001b[37m\u001b[0m \u001b[1m0s\u001b[0m 6ms/step - accuracy: 0.9833 - loss: 0.0394 - val_accuracy: 0.9888 - val_loss: 0.0469\n",
      "Epoch 22/150\n",
      "\u001b[1m42/42\u001b[0m \u001b[32m━━━━━━━━━━━━━━━━━━━━\u001b[0m\u001b[37m\u001b[0m \u001b[1m0s\u001b[0m 5ms/step - accuracy: 0.9453 - loss: 0.1279 - val_accuracy: 0.9843 - val_loss: 0.0581\n",
      "Epoch 23/150\n",
      "\u001b[1m42/42\u001b[0m \u001b[32m━━━━━━━━━━━━━━━━━━━━\u001b[0m\u001b[37m\u001b[0m \u001b[1m0s\u001b[0m 5ms/step - accuracy: 0.9683 - loss: 0.0814 - val_accuracy: 0.9820 - val_loss: 0.0434\n",
      "Epoch 24/150\n",
      "\u001b[1m42/42\u001b[0m \u001b[32m━━━━━━━━━━━━━━━━━━━━\u001b[0m\u001b[37m\u001b[0m \u001b[1m0s\u001b[0m 5ms/step - accuracy: 0.9464 - loss: 0.1394 - val_accuracy: 0.9303 - val_loss: 0.1133\n",
      "Epoch 25/150\n",
      "\u001b[1m42/42\u001b[0m \u001b[32m━━━━━━━━━━━━━━━━━━━━\u001b[0m\u001b[37m\u001b[0m \u001b[1m0s\u001b[0m 5ms/step - accuracy: 0.9643 - loss: 0.0809 - val_accuracy: 0.9888 - val_loss: 0.0543\n",
      "Epoch 26/150\n",
      "\u001b[1m42/42\u001b[0m \u001b[32m━━━━━━━━━━━━━━━━━━━━\u001b[0m\u001b[37m\u001b[0m \u001b[1m0s\u001b[0m 5ms/step - accuracy: 0.9916 - loss: 0.0361 - val_accuracy: 0.9753 - val_loss: 0.0636\n",
      "Epoch 27/150\n",
      "\u001b[1m42/42\u001b[0m \u001b[32m━━━━━━━━━━━━━━━━━━━━\u001b[0m\u001b[37m\u001b[0m \u001b[1m0s\u001b[0m 6ms/step - accuracy: 0.9246 - loss: 0.1615 - val_accuracy: 0.9888 - val_loss: 0.0640\n",
      "Epoch 28/150\n",
      "\u001b[1m42/42\u001b[0m \u001b[32m━━━━━━━━━━━━━━━━━━━━\u001b[0m\u001b[37m\u001b[0m \u001b[1m0s\u001b[0m 5ms/step - accuracy: 0.9715 - loss: 0.0900 - val_accuracy: 0.9685 - val_loss: 0.1287\n",
      "Epoch 29/150\n",
      "\u001b[1m42/42\u001b[0m \u001b[32m━━━━━━━━━━━━━━━━━━━━\u001b[0m\u001b[37m\u001b[0m \u001b[1m0s\u001b[0m 6ms/step - accuracy: 0.9540 - loss: 0.1301 - val_accuracy: 0.9888 - val_loss: 0.0793\n",
      "Epoch 30/150\n",
      "\u001b[1m42/42\u001b[0m \u001b[32m━━━━━━━━━━━━━━━━━━━━\u001b[0m\u001b[37m\u001b[0m \u001b[1m0s\u001b[0m 10ms/step - accuracy: 0.9806 - loss: 0.0644 - val_accuracy: 0.9865 - val_loss: 0.0716\n",
      "Epoch 31/150\n",
      "\u001b[1m42/42\u001b[0m \u001b[32m━━━━━━━━━━━━━━━━━━━━\u001b[0m\u001b[37m\u001b[0m \u001b[1m0s\u001b[0m 5ms/step - accuracy: 0.9821 - loss: 0.0640 - val_accuracy: 0.9888 - val_loss: 0.0365\n",
      "Epoch 32/150\n",
      "\u001b[1m42/42\u001b[0m \u001b[32m━━━━━━━━━━━━━━━━━━━━\u001b[0m\u001b[37m\u001b[0m \u001b[1m0s\u001b[0m 6ms/step - accuracy: 0.9843 - loss: 0.0482 - val_accuracy: 0.9888 - val_loss: 0.0438\n",
      "Epoch 33/150\n",
      "\u001b[1m42/42\u001b[0m \u001b[32m━━━━━━━━━━━━━━━━━━━━\u001b[0m\u001b[37m\u001b[0m \u001b[1m0s\u001b[0m 5ms/step - accuracy: 0.9868 - loss: 0.0373 - val_accuracy: 0.9888 - val_loss: 0.0853\n",
      "Epoch 34/150\n",
      "\u001b[1m42/42\u001b[0m \u001b[32m━━━━━━━━━━━━━━━━━━━━\u001b[0m\u001b[37m\u001b[0m \u001b[1m0s\u001b[0m 5ms/step - accuracy: 0.9849 - loss: 0.0502 - val_accuracy: 0.9124 - val_loss: 0.2690\n",
      "Epoch 35/150\n",
      "\u001b[1m42/42\u001b[0m \u001b[32m━━━━━━━━━━━━━━━━━━━━\u001b[0m\u001b[37m\u001b[0m \u001b[1m0s\u001b[0m 5ms/step - accuracy: 0.9158 - loss: 0.2234 - val_accuracy: 0.9124 - val_loss: 0.1630\n",
      "Epoch 36/150\n",
      "\u001b[1m42/42\u001b[0m \u001b[32m━━━━━━━━━━━━━━━━━━━━\u001b[0m\u001b[37m\u001b[0m \u001b[1m0s\u001b[0m 4ms/step - accuracy: 0.9584 - loss: 0.1005 - val_accuracy: 0.8899 - val_loss: 0.3490\n",
      "Epoch 37/150\n",
      "\u001b[1m42/42\u001b[0m \u001b[32m━━━━━━━━━━━━━━━━━━━━\u001b[0m\u001b[37m\u001b[0m \u001b[1m0s\u001b[0m 4ms/step - accuracy: 0.9234 - loss: 0.1957 - val_accuracy: 0.9910 - val_loss: 0.0618\n",
      "Epoch 38/150\n",
      "\u001b[1m42/42\u001b[0m \u001b[32m━━━━━━━━━━━━━━━━━━━━\u001b[0m\u001b[37m\u001b[0m \u001b[1m0s\u001b[0m 4ms/step - accuracy: 0.9885 - loss: 0.0343 - val_accuracy: 0.9888 - val_loss: 0.0750\n",
      "Epoch 39/150\n",
      "\u001b[1m42/42\u001b[0m \u001b[32m━━━━━━━━━━━━━━━━━━━━\u001b[0m\u001b[37m\u001b[0m \u001b[1m0s\u001b[0m 4ms/step - accuracy: 0.9822 - loss: 0.0530 - val_accuracy: 0.9888 - val_loss: 0.0489\n",
      "Epoch 40/150\n",
      "\u001b[1m42/42\u001b[0m \u001b[32m━━━━━━━━━━━━━━━━━━━━\u001b[0m\u001b[37m\u001b[0m \u001b[1m0s\u001b[0m 4ms/step - accuracy: 0.9510 - loss: 0.1301 - val_accuracy: 0.9730 - val_loss: 0.0896\n",
      "Epoch 41/150\n",
      "\u001b[1m42/42\u001b[0m \u001b[32m━━━━━━━━━━━━━━━━━━━━\u001b[0m\u001b[37m\u001b[0m \u001b[1m0s\u001b[0m 5ms/step - accuracy: 0.9628 - loss: 0.1024 - val_accuracy: 0.9865 - val_loss: 0.0720\n",
      "Epoch 42/150\n",
      "\u001b[1m42/42\u001b[0m \u001b[32m━━━━━━━━━━━━━━━━━━━━\u001b[0m\u001b[37m\u001b[0m \u001b[1m0s\u001b[0m 6ms/step - accuracy: 0.9637 - loss: 0.0907 - val_accuracy: 0.9640 - val_loss: 0.1801\n",
      "Epoch 43/150\n",
      "\u001b[1m42/42\u001b[0m \u001b[32m━━━━━━━━━━━━━━━━━━━━\u001b[0m\u001b[37m\u001b[0m \u001b[1m0s\u001b[0m 4ms/step - accuracy: 0.9646 - loss: 0.0900 - val_accuracy: 0.9888 - val_loss: 0.1137\n",
      "Epoch 44/150\n",
      "\u001b[1m42/42\u001b[0m \u001b[32m━━━━━━━━━━━━━━━━━━━━\u001b[0m\u001b[37m\u001b[0m \u001b[1m0s\u001b[0m 4ms/step - accuracy: 0.9655 - loss: 0.0809 - val_accuracy: 0.9888 - val_loss: 0.0750\n",
      "Epoch 45/150\n",
      "\u001b[1m42/42\u001b[0m \u001b[32m━━━━━━━━━━━━━━━━━━━━\u001b[0m\u001b[37m\u001b[0m \u001b[1m0s\u001b[0m 5ms/step - accuracy: 0.9885 - loss: 0.0330 - val_accuracy: 0.9888 - val_loss: 0.1433\n",
      "Epoch 46/150\n",
      "\u001b[1m42/42\u001b[0m \u001b[32m━━━━━━━━━━━━━━━━━━━━\u001b[0m\u001b[37m\u001b[0m \u001b[1m0s\u001b[0m 6ms/step - accuracy: 0.9825 - loss: 0.0467 - val_accuracy: 0.9888 - val_loss: 0.1498\n",
      "Epoch 47/150\n",
      "\u001b[1m42/42\u001b[0m \u001b[32m━━━━━━━━━━━━━━━━━━━━\u001b[0m\u001b[37m\u001b[0m \u001b[1m0s\u001b[0m 5ms/step - accuracy: 0.9596 - loss: 0.2590 - val_accuracy: 0.9124 - val_loss: 0.2795\n",
      "Epoch 48/150\n",
      "\u001b[1m42/42\u001b[0m \u001b[32m━━━━━━━━━━━━━━━━━━━━\u001b[0m\u001b[37m\u001b[0m \u001b[1m0s\u001b[0m 4ms/step - accuracy: 0.9161 - loss: 0.1869 - val_accuracy: 0.9888 - val_loss: 0.0338\n",
      "Epoch 49/150\n",
      "\u001b[1m42/42\u001b[0m \u001b[32m━━━━━━━━━━━━━━━━━━━━\u001b[0m\u001b[37m\u001b[0m \u001b[1m0s\u001b[0m 4ms/step - accuracy: 0.9725 - loss: 0.0596 - val_accuracy: 0.9775 - val_loss: 0.0760\n",
      "Epoch 50/150\n",
      "\u001b[1m42/42\u001b[0m \u001b[32m━━━━━━━━━━━━━━━━━━━━\u001b[0m\u001b[37m\u001b[0m \u001b[1m0s\u001b[0m 5ms/step - accuracy: 0.9766 - loss: 0.0575 - val_accuracy: 0.9888 - val_loss: 0.0313\n",
      "Epoch 51/150\n",
      "\u001b[1m42/42\u001b[0m \u001b[32m━━━━━━━━━━━━━━━━━━━━\u001b[0m\u001b[37m\u001b[0m \u001b[1m0s\u001b[0m 4ms/step - accuracy: 0.9643 - loss: 0.0930 - val_accuracy: 0.9888 - val_loss: 0.0337\n",
      "Epoch 52/150\n",
      "\u001b[1m42/42\u001b[0m \u001b[32m━━━━━━━━━━━━━━━━━━━━\u001b[0m\u001b[37m\u001b[0m \u001b[1m0s\u001b[0m 6ms/step - accuracy: 0.9732 - loss: 0.0693 - val_accuracy: 0.9258 - val_loss: 0.1436\n",
      "Epoch 53/150\n",
      "\u001b[1m42/42\u001b[0m \u001b[32m━━━━━━━━━━━━━━━━━━━━\u001b[0m\u001b[37m\u001b[0m \u001b[1m0s\u001b[0m 4ms/step - accuracy: 0.9704 - loss: 0.0732 - val_accuracy: 0.9888 - val_loss: 0.0325\n",
      "Epoch 54/150\n",
      "\u001b[1m42/42\u001b[0m \u001b[32m━━━━━━━━━━━━━━━━━━━━\u001b[0m\u001b[37m\u001b[0m \u001b[1m0s\u001b[0m 4ms/step - accuracy: 0.9911 - loss: 0.0274 - val_accuracy: 0.9888 - val_loss: 0.0281\n",
      "Epoch 55/150\n",
      "\u001b[1m42/42\u001b[0m \u001b[32m━━━━━━━━━━━━━━━━━━━━\u001b[0m\u001b[37m\u001b[0m \u001b[1m0s\u001b[0m 4ms/step - accuracy: 0.9686 - loss: 0.1047 - val_accuracy: 0.9888 - val_loss: 0.0865\n",
      "Epoch 56/150\n",
      "\u001b[1m42/42\u001b[0m \u001b[32m━━━━━━━━━━━━━━━━━━━━\u001b[0m\u001b[37m\u001b[0m \u001b[1m0s\u001b[0m 4ms/step - accuracy: 0.9851 - loss: 0.0652 - val_accuracy: 0.9888 - val_loss: 0.0882\n",
      "Epoch 57/150\n",
      "\u001b[1m42/42\u001b[0m \u001b[32m━━━━━━━━━━━━━━━━━━━━\u001b[0m\u001b[37m\u001b[0m \u001b[1m0s\u001b[0m 4ms/step - accuracy: 0.9926 - loss: 0.0243 - val_accuracy: 0.9124 - val_loss: 0.4717\n",
      "Epoch 58/150\n",
      "\u001b[1m42/42\u001b[0m \u001b[32m━━━━━━━━━━━━━━━━━━━━\u001b[0m\u001b[37m\u001b[0m \u001b[1m0s\u001b[0m 4ms/step - accuracy: 0.9340 - loss: 0.2266 - val_accuracy: 0.9933 - val_loss: 0.0464\n",
      "Epoch 59/150\n",
      "\u001b[1m42/42\u001b[0m \u001b[32m━━━━━━━━━━━━━━━━━━━━\u001b[0m\u001b[37m\u001b[0m \u001b[1m0s\u001b[0m 4ms/step - accuracy: 0.9821 - loss: 0.0425 - val_accuracy: 0.9753 - val_loss: 0.0641\n",
      "Epoch 60/150\n",
      "\u001b[1m42/42\u001b[0m \u001b[32m━━━━━━━━━━━━━━━━━━━━\u001b[0m\u001b[37m\u001b[0m \u001b[1m0s\u001b[0m 4ms/step - accuracy: 0.9761 - loss: 0.0506 - val_accuracy: 0.9888 - val_loss: 0.0362\n",
      "Epoch 61/150\n",
      "\u001b[1m42/42\u001b[0m \u001b[32m━━━━━━━━━━━━━━━━━━━━\u001b[0m\u001b[37m\u001b[0m \u001b[1m0s\u001b[0m 4ms/step - accuracy: 0.9786 - loss: 0.0558 - val_accuracy: 0.9888 - val_loss: 0.0259\n",
      "Epoch 62/150\n",
      "\u001b[1m42/42\u001b[0m \u001b[32m━━━━━━━━━━━━━━━━━━━━\u001b[0m\u001b[37m\u001b[0m \u001b[1m0s\u001b[0m 4ms/step - accuracy: 0.9944 - loss: 0.0159 - val_accuracy: 0.9910 - val_loss: 0.0336\n",
      "Epoch 63/150\n",
      "\u001b[1m42/42\u001b[0m \u001b[32m━━━━━━━━━━━━━━━━━━━━\u001b[0m\u001b[37m\u001b[0m \u001b[1m0s\u001b[0m 4ms/step - accuracy: 0.9935 - loss: 0.0131 - val_accuracy: 0.9888 - val_loss: 0.0500\n",
      "Epoch 64/150\n",
      "\u001b[1m42/42\u001b[0m \u001b[32m━━━━━━━━━━━━━━━━━━━━\u001b[0m\u001b[37m\u001b[0m \u001b[1m0s\u001b[0m 4ms/step - accuracy: 0.9916 - loss: 0.0195 - val_accuracy: 0.9888 - val_loss: 0.0334\n",
      "Epoch 65/150\n",
      "\u001b[1m42/42\u001b[0m \u001b[32m━━━━━━━━━━━━━━━━━━━━\u001b[0m\u001b[37m\u001b[0m \u001b[1m0s\u001b[0m 4ms/step - accuracy: 0.9953 - loss: 0.0124 - val_accuracy: 0.9888 - val_loss: 0.0321\n",
      "Epoch 66/150\n",
      "\u001b[1m42/42\u001b[0m \u001b[32m━━━━━━━━━━━━━━━━━━━━\u001b[0m\u001b[37m\u001b[0m \u001b[1m0s\u001b[0m 4ms/step - accuracy: 0.9920 - loss: 0.0204 - val_accuracy: 0.9933 - val_loss: 0.0725\n",
      "Epoch 67/150\n",
      "\u001b[1m42/42\u001b[0m \u001b[32m━━━━━━━━━━━━━━━━━━━━\u001b[0m\u001b[37m\u001b[0m \u001b[1m0s\u001b[0m 7ms/step - accuracy: 0.9943 - loss: 0.0117 - val_accuracy: 0.9910 - val_loss: 0.0397\n",
      "Epoch 68/150\n",
      "\u001b[1m42/42\u001b[0m \u001b[32m━━━━━━━━━━━━━━━━━━━━\u001b[0m\u001b[37m\u001b[0m \u001b[1m0s\u001b[0m 5ms/step - accuracy: 0.9884 - loss: 0.0217 - val_accuracy: 0.9888 - val_loss: 0.0449\n",
      "Epoch 69/150\n",
      "\u001b[1m42/42\u001b[0m \u001b[32m━━━━━━━━━━━━━━━━━━━━\u001b[0m\u001b[37m\u001b[0m \u001b[1m0s\u001b[0m 5ms/step - accuracy: 0.9938 - loss: 0.0176 - val_accuracy: 0.9213 - val_loss: 0.2802\n",
      "Epoch 70/150\n",
      "\u001b[1m42/42\u001b[0m \u001b[32m━━━━━━━━━━━━━━━━━━━━\u001b[0m\u001b[37m\u001b[0m \u001b[1m0s\u001b[0m 4ms/step - accuracy: 0.8292 - loss: 0.5705 - val_accuracy: 0.9910 - val_loss: 0.1411\n",
      "Epoch 71/150\n",
      "\u001b[1m42/42\u001b[0m \u001b[32m━━━━━━━━━━━━━━━━━━━━\u001b[0m\u001b[37m\u001b[0m \u001b[1m0s\u001b[0m 4ms/step - accuracy: 0.9839 - loss: 0.1043 - val_accuracy: 0.9888 - val_loss: 0.0470\n",
      "Epoch 72/150\n",
      "\u001b[1m42/42\u001b[0m \u001b[32m━━━━━━━━━━━━━━━━━━━━\u001b[0m\u001b[37m\u001b[0m \u001b[1m0s\u001b[0m 4ms/step - accuracy: 0.9799 - loss: 0.0618 - val_accuracy: 0.9775 - val_loss: 0.0590\n",
      "Epoch 73/150\n",
      "\u001b[1m42/42\u001b[0m \u001b[32m━━━━━━━━━━━━━━━━━━━━\u001b[0m\u001b[37m\u001b[0m \u001b[1m0s\u001b[0m 4ms/step - accuracy: 0.9728 - loss: 0.0871 - val_accuracy: 0.9888 - val_loss: 0.0258\n",
      "Epoch 74/150\n",
      "\u001b[1m42/42\u001b[0m \u001b[32m━━━━━━━━━━━━━━━━━━━━\u001b[0m\u001b[37m\u001b[0m \u001b[1m0s\u001b[0m 4ms/step - accuracy: 0.9868 - loss: 0.0473 - val_accuracy: 0.9888 - val_loss: 0.0227\n",
      "Epoch 75/150\n",
      "\u001b[1m42/42\u001b[0m \u001b[32m━━━━━━━━━━━━━━━━━━━━\u001b[0m\u001b[37m\u001b[0m \u001b[1m0s\u001b[0m 4ms/step - accuracy: 0.9943 - loss: 0.0242 - val_accuracy: 0.9888 - val_loss: 0.0224\n",
      "Epoch 76/150\n",
      "\u001b[1m42/42\u001b[0m \u001b[32m━━━━━━━━━━━━━━━━━━━━\u001b[0m\u001b[37m\u001b[0m \u001b[1m0s\u001b[0m 4ms/step - accuracy: 0.9887 - loss: 0.0356 - val_accuracy: 0.9888 - val_loss: 0.0221\n",
      "Epoch 77/150\n",
      "\u001b[1m42/42\u001b[0m \u001b[32m━━━━━━━━━━━━━━━━━━━━\u001b[0m\u001b[37m\u001b[0m \u001b[1m0s\u001b[0m 4ms/step - accuracy: 0.9851 - loss: 0.0515 - val_accuracy: 0.9888 - val_loss: 0.0222\n",
      "Epoch 78/150\n",
      "\u001b[1m42/42\u001b[0m \u001b[32m━━━━━━━━━━━━━━━━━━━━\u001b[0m\u001b[37m\u001b[0m \u001b[1m0s\u001b[0m 4ms/step - accuracy: 0.9792 - loss: 0.0625 - val_accuracy: 0.9191 - val_loss: 0.2125\n",
      "Epoch 79/150\n",
      "\u001b[1m42/42\u001b[0m \u001b[32m━━━━━━━━━━━━━━━━━━━━\u001b[0m\u001b[37m\u001b[0m \u001b[1m0s\u001b[0m 4ms/step - accuracy: 0.9433 - loss: 0.1533 - val_accuracy: 0.9888 - val_loss: 0.0387\n",
      "Epoch 80/150\n",
      "\u001b[1m42/42\u001b[0m \u001b[32m━━━━━━━━━━━━━━━━━━━━\u001b[0m\u001b[37m\u001b[0m \u001b[1m0s\u001b[0m 4ms/step - accuracy: 0.9802 - loss: 0.0508 - val_accuracy: 0.9888 - val_loss: 0.0230\n",
      "Epoch 81/150\n",
      "\u001b[1m42/42\u001b[0m \u001b[32m━━━━━━━━━━━━━━━━━━━━\u001b[0m\u001b[37m\u001b[0m \u001b[1m0s\u001b[0m 4ms/step - accuracy: 0.9926 - loss: 0.0253 - val_accuracy: 0.9888 - val_loss: 0.0240\n",
      "Epoch 82/150\n",
      "\u001b[1m42/42\u001b[0m \u001b[32m━━━━━━━━━━━━━━━━━━━━\u001b[0m\u001b[37m\u001b[0m \u001b[1m0s\u001b[0m 4ms/step - accuracy: 0.9906 - loss: 0.0235 - val_accuracy: 0.9888 - val_loss: 0.0345\n",
      "Epoch 83/150\n",
      "\u001b[1m42/42\u001b[0m \u001b[32m━━━━━━━━━━━━━━━━━━━━\u001b[0m\u001b[37m\u001b[0m \u001b[1m0s\u001b[0m 4ms/step - accuracy: 0.9895 - loss: 0.0282 - val_accuracy: 0.9888 - val_loss: 0.0454\n",
      "Epoch 84/150\n",
      "\u001b[1m42/42\u001b[0m \u001b[32m━━━━━━━━━━━━━━━━━━━━\u001b[0m\u001b[37m\u001b[0m \u001b[1m0s\u001b[0m 4ms/step - accuracy: 0.9794 - loss: 0.0536 - val_accuracy: 0.9506 - val_loss: 0.0863\n",
      "Epoch 85/150\n",
      "\u001b[1m42/42\u001b[0m \u001b[32m━━━━━━━━━━━━━━━━━━━━\u001b[0m\u001b[37m\u001b[0m \u001b[1m0s\u001b[0m 4ms/step - accuracy: 0.9438 - loss: 0.1668 - val_accuracy: 0.9865 - val_loss: 0.0528\n",
      "Epoch 86/150\n",
      "\u001b[1m42/42\u001b[0m \u001b[32m━━━━━━━━━━━━━━━━━━━━\u001b[0m\u001b[37m\u001b[0m \u001b[1m0s\u001b[0m 4ms/step - accuracy: 0.9854 - loss: 0.0489 - val_accuracy: 0.9888 - val_loss: 0.0280\n",
      "Epoch 87/150\n",
      "\u001b[1m42/42\u001b[0m \u001b[32m━━━━━━━━━━━━━━━━━━━━\u001b[0m\u001b[37m\u001b[0m \u001b[1m0s\u001b[0m 4ms/step - accuracy: 0.9885 - loss: 0.0443 - val_accuracy: 0.9888 - val_loss: 0.0211\n",
      "Epoch 88/150\n",
      "\u001b[1m42/42\u001b[0m \u001b[32m━━━━━━━━━━━━━━━━━━━━\u001b[0m\u001b[37m\u001b[0m \u001b[1m0s\u001b[0m 4ms/step - accuracy: 0.9881 - loss: 0.0326 - val_accuracy: 0.9888 - val_loss: 0.0218\n",
      "Epoch 89/150\n",
      "\u001b[1m42/42\u001b[0m \u001b[32m━━━━━━━━━━━━━━━━━━━━\u001b[0m\u001b[37m\u001b[0m \u001b[1m0s\u001b[0m 4ms/step - accuracy: 0.9976 - loss: 0.0127 - val_accuracy: 0.9888 - val_loss: 0.0217\n",
      "Epoch 90/150\n",
      "\u001b[1m42/42\u001b[0m \u001b[32m━━━━━━━━━━━━━━━━━━━━\u001b[0m\u001b[37m\u001b[0m \u001b[1m0s\u001b[0m 4ms/step - accuracy: 0.9741 - loss: 0.0731 - val_accuracy: 0.9124 - val_loss: 0.1896\n",
      "Epoch 91/150\n",
      "\u001b[1m42/42\u001b[0m \u001b[32m━━━━━━━━━━━━━━━━━━━━\u001b[0m\u001b[37m\u001b[0m \u001b[1m0s\u001b[0m 4ms/step - accuracy: 0.9515 - loss: 0.1295 - val_accuracy: 0.9618 - val_loss: 0.0709\n",
      "Epoch 92/150\n",
      "\u001b[1m42/42\u001b[0m \u001b[32m━━━━━━━━━━━━━━━━━━━━\u001b[0m\u001b[37m\u001b[0m \u001b[1m0s\u001b[0m 4ms/step - accuracy: 0.9790 - loss: 0.0649 - val_accuracy: 0.9888 - val_loss: 0.0234\n",
      "Epoch 93/150\n",
      "\u001b[1m42/42\u001b[0m \u001b[32m━━━━━━━━━━━━━━━━━━━━\u001b[0m\u001b[37m\u001b[0m \u001b[1m0s\u001b[0m 4ms/step - accuracy: 0.9912 - loss: 0.0265 - val_accuracy: 0.9888 - val_loss: 0.0259\n",
      "Epoch 94/150\n",
      "\u001b[1m42/42\u001b[0m \u001b[32m━━━━━━━━━━━━━━━━━━━━\u001b[0m\u001b[37m\u001b[0m \u001b[1m0s\u001b[0m 4ms/step - accuracy: 0.9878 - loss: 0.0382 - val_accuracy: 0.9124 - val_loss: 0.2925\n",
      "Epoch 95/150\n",
      "\u001b[1m42/42\u001b[0m \u001b[32m━━━━━━━━━━━━━━━━━━━━\u001b[0m\u001b[37m\u001b[0m \u001b[1m0s\u001b[0m 4ms/step - accuracy: 0.9494 - loss: 0.1463 - val_accuracy: 0.9888 - val_loss: 0.0417\n",
      "Epoch 96/150\n",
      "\u001b[1m42/42\u001b[0m \u001b[32m━━━━━━━━━━━━━━━━━━━━\u001b[0m\u001b[37m\u001b[0m \u001b[1m0s\u001b[0m 4ms/step - accuracy: 0.9873 - loss: 0.0471 - val_accuracy: 0.9888 - val_loss: 0.0215\n",
      "Epoch 97/150\n",
      "\u001b[1m42/42\u001b[0m \u001b[32m━━━━━━━━━━━━━━━━━━━━\u001b[0m\u001b[37m\u001b[0m \u001b[1m0s\u001b[0m 6ms/step - accuracy: 0.9911 - loss: 0.0278 - val_accuracy: 0.9888 - val_loss: 0.0204\n",
      "Epoch 98/150\n",
      "\u001b[1m42/42\u001b[0m \u001b[32m━━━━━━━━━━━━━━━━━━━━\u001b[0m\u001b[37m\u001b[0m \u001b[1m0s\u001b[0m 4ms/step - accuracy: 0.9819 - loss: 0.0593 - val_accuracy: 0.8742 - val_loss: 0.2424\n",
      "Epoch 99/150\n",
      "\u001b[1m42/42\u001b[0m \u001b[32m━━━━━━━━━━━━━━━━━━━━\u001b[0m\u001b[37m\u001b[0m \u001b[1m0s\u001b[0m 5ms/step - accuracy: 0.9255 - loss: 0.1775 - val_accuracy: 0.9888 - val_loss: 0.0253\n",
      "Epoch 100/150\n",
      "\u001b[1m42/42\u001b[0m \u001b[32m━━━━━━━━━━━━━━━━━━━━\u001b[0m\u001b[37m\u001b[0m \u001b[1m0s\u001b[0m 4ms/step - accuracy: 0.9895 - loss: 0.0267 - val_accuracy: 0.9888 - val_loss: 0.0207\n",
      "Epoch 101/150\n",
      "\u001b[1m42/42\u001b[0m \u001b[32m━━━━━━━━━━━━━━━━━━━━\u001b[0m\u001b[37m\u001b[0m \u001b[1m0s\u001b[0m 4ms/step - accuracy: 0.9943 - loss: 0.0179 - val_accuracy: 0.9888 - val_loss: 0.0203\n",
      "Epoch 102/150\n",
      "\u001b[1m42/42\u001b[0m \u001b[32m━━━━━━━━━━━━━━━━━━━━\u001b[0m\u001b[37m\u001b[0m \u001b[1m0s\u001b[0m 5ms/step - accuracy: 0.9935 - loss: 0.0193 - val_accuracy: 0.9888 - val_loss: 0.0204\n",
      "Epoch 103/150\n",
      "\u001b[1m42/42\u001b[0m \u001b[32m━━━━━━━━━━━━━━━━━━━━\u001b[0m\u001b[37m\u001b[0m \u001b[1m0s\u001b[0m 4ms/step - accuracy: 0.9961 - loss: 0.0118 - val_accuracy: 0.9888 - val_loss: 0.0201\n",
      "Epoch 104/150\n",
      "\u001b[1m42/42\u001b[0m \u001b[32m━━━━━━━━━━━━━━━━━━━━\u001b[0m\u001b[37m\u001b[0m \u001b[1m0s\u001b[0m 4ms/step - accuracy: 0.9956 - loss: 0.0123 - val_accuracy: 0.9888 - val_loss: 0.0201\n",
      "Epoch 105/150\n",
      "\u001b[1m42/42\u001b[0m \u001b[32m━━━━━━━━━━━━━━━━━━━━\u001b[0m\u001b[37m\u001b[0m \u001b[1m0s\u001b[0m 4ms/step - accuracy: 0.9959 - loss: 0.0114 - val_accuracy: 0.9888 - val_loss: 0.0202\n",
      "Epoch 106/150\n",
      "\u001b[1m42/42\u001b[0m \u001b[32m━━━━━━━━━━━━━━━━━━━━\u001b[0m\u001b[37m\u001b[0m \u001b[1m0s\u001b[0m 4ms/step - accuracy: 0.9977 - loss: 0.0081 - val_accuracy: 0.9888 - val_loss: 0.0201\n",
      "Epoch 107/150\n",
      "\u001b[1m42/42\u001b[0m \u001b[32m━━━━━━━━━━━━━━━━━━━━\u001b[0m\u001b[37m\u001b[0m \u001b[1m0s\u001b[0m 5ms/step - accuracy: 0.9903 - loss: 0.0211 - val_accuracy: 0.9888 - val_loss: 0.0201\n",
      "Epoch 108/150\n",
      "\u001b[1m42/42\u001b[0m \u001b[32m━━━━━━━━━━━━━━━━━━━━\u001b[0m\u001b[37m\u001b[0m \u001b[1m0s\u001b[0m 4ms/step - accuracy: 0.9808 - loss: 0.0538 - val_accuracy: 0.9124 - val_loss: 0.1944\n",
      "Epoch 109/150\n",
      "\u001b[1m42/42\u001b[0m \u001b[32m━━━━━━━━━━━━━━━━━━━━\u001b[0m\u001b[37m\u001b[0m \u001b[1m0s\u001b[0m 4ms/step - accuracy: 0.9157 - loss: 0.1930 - val_accuracy: 0.9888 - val_loss: 0.0379\n",
      "Epoch 110/150\n",
      "\u001b[1m42/42\u001b[0m \u001b[32m━━━━━━━━━━━━━━━━━━━━\u001b[0m\u001b[37m\u001b[0m \u001b[1m0s\u001b[0m 5ms/step - accuracy: 0.9828 - loss: 0.0650 - val_accuracy: 0.9618 - val_loss: 0.0822\n",
      "Epoch 111/150\n",
      "\u001b[1m42/42\u001b[0m \u001b[32m━━━━━━━━━━━━━━━━━━━━\u001b[0m\u001b[37m\u001b[0m \u001b[1m0s\u001b[0m 4ms/step - accuracy: 0.9507 - loss: 0.1275 - val_accuracy: 0.9798 - val_loss: 0.0589\n",
      "Epoch 112/150\n",
      "\u001b[1m42/42\u001b[0m \u001b[32m━━━━━━━━━━━━━━━━━━━━\u001b[0m\u001b[37m\u001b[0m \u001b[1m0s\u001b[0m 5ms/step - accuracy: 0.9854 - loss: 0.0535 - val_accuracy: 0.9865 - val_loss: 0.0321\n",
      "Epoch 113/150\n",
      "\u001b[1m42/42\u001b[0m \u001b[32m━━━━━━━━━━━━━━━━━━━━\u001b[0m\u001b[37m\u001b[0m \u001b[1m0s\u001b[0m 5ms/step - accuracy: 0.9845 - loss: 0.0389 - val_accuracy: 0.9865 - val_loss: 0.0360\n",
      "Epoch 114/150\n",
      "\u001b[1m42/42\u001b[0m \u001b[32m━━━━━━━━━━━━━━━━━━━━\u001b[0m\u001b[37m\u001b[0m \u001b[1m0s\u001b[0m 5ms/step - accuracy: 0.9450 - loss: 0.1645 - val_accuracy: 0.9888 - val_loss: 0.0329\n",
      "Epoch 115/150\n",
      "\u001b[1m42/42\u001b[0m \u001b[32m━━━━━━━━━━━━━━━━━━━━\u001b[0m\u001b[37m\u001b[0m \u001b[1m0s\u001b[0m 5ms/step - accuracy: 0.9628 - loss: 0.1107 - val_accuracy: 0.9528 - val_loss: 0.1278\n",
      "Epoch 116/150\n",
      "\u001b[1m42/42\u001b[0m \u001b[32m━━━━━━━━━━━━━━━━━━━━\u001b[0m\u001b[37m\u001b[0m \u001b[1m0s\u001b[0m 6ms/step - accuracy: 0.9604 - loss: 0.1211 - val_accuracy: 0.9888 - val_loss: 0.0264\n",
      "Epoch 117/150\n",
      "\u001b[1m42/42\u001b[0m \u001b[32m━━━━━━━━━━━━━━━━━━━━\u001b[0m\u001b[37m\u001b[0m \u001b[1m0s\u001b[0m 7ms/step - accuracy: 0.9923 - loss: 0.0252 - val_accuracy: 0.9888 - val_loss: 0.0236\n",
      "Epoch 118/150\n",
      "\u001b[1m42/42\u001b[0m \u001b[32m━━━━━━━━━━━━━━━━━━━━\u001b[0m\u001b[37m\u001b[0m \u001b[1m0s\u001b[0m 8ms/step - accuracy: 0.9961 - loss: 0.0151 - val_accuracy: 0.9888 - val_loss: 0.0219\n",
      "Epoch 119/150\n",
      "\u001b[1m42/42\u001b[0m \u001b[32m━━━━━━━━━━━━━━━━━━━━\u001b[0m\u001b[37m\u001b[0m \u001b[1m0s\u001b[0m 6ms/step - accuracy: 0.9380 - loss: 0.2156 - val_accuracy: 0.8427 - val_loss: 0.2182\n",
      "Epoch 120/150\n",
      "\u001b[1m42/42\u001b[0m \u001b[32m━━━━━━━━━━━━━━━━━━━━\u001b[0m\u001b[37m\u001b[0m \u001b[1m0s\u001b[0m 5ms/step - accuracy: 0.9399 - loss: 0.1463 - val_accuracy: 0.9888 - val_loss: 0.0312\n",
      "Epoch 121/150\n",
      "\u001b[1m42/42\u001b[0m \u001b[32m━━━━━━━━━━━━━━━━━━━━\u001b[0m\u001b[37m\u001b[0m \u001b[1m0s\u001b[0m 4ms/step - accuracy: 0.9874 - loss: 0.0447 - val_accuracy: 0.9888 - val_loss: 0.0229\n",
      "Epoch 122/150\n",
      "\u001b[1m42/42\u001b[0m \u001b[32m━━━━━━━━━━━━━━━━━━━━\u001b[0m\u001b[37m\u001b[0m \u001b[1m0s\u001b[0m 4ms/step - accuracy: 0.9862 - loss: 0.0496 - val_accuracy: 0.9820 - val_loss: 0.0732\n",
      "Epoch 123/150\n",
      "\u001b[1m42/42\u001b[0m \u001b[32m━━━━━━━━━━━━━━━━━━━━\u001b[0m\u001b[37m\u001b[0m \u001b[1m0s\u001b[0m 4ms/step - accuracy: 0.8706 - loss: 0.2958 - val_accuracy: 0.9888 - val_loss: 0.0954\n",
      "Epoch 124/150\n",
      "\u001b[1m42/42\u001b[0m \u001b[32m━━━━━━━━━━━━━━━━━━━━\u001b[0m\u001b[37m\u001b[0m \u001b[1m0s\u001b[0m 4ms/step - accuracy: 0.9745 - loss: 0.1352 - val_accuracy: 0.9888 - val_loss: 0.0327\n",
      "Epoch 125/150\n",
      "\u001b[1m42/42\u001b[0m \u001b[32m━━━━━━━━━━━━━━━━━━━━\u001b[0m\u001b[37m\u001b[0m \u001b[1m0s\u001b[0m 4ms/step - accuracy: 0.9907 - loss: 0.0623 - val_accuracy: 0.9888 - val_loss: 0.0293\n",
      "Epoch 126/150\n",
      "\u001b[1m42/42\u001b[0m \u001b[32m━━━━━━━━━━━━━━━━━━━━\u001b[0m\u001b[37m\u001b[0m \u001b[1m0s\u001b[0m 4ms/step - accuracy: 0.9933 - loss: 0.0339 - val_accuracy: 0.9888 - val_loss: 0.0248\n",
      "Epoch 127/150\n",
      "\u001b[1m42/42\u001b[0m \u001b[32m━━━━━━━━━━━━━━━━━━━━\u001b[0m\u001b[37m\u001b[0m \u001b[1m0s\u001b[0m 5ms/step - accuracy: 0.9935 - loss: 0.0497 - val_accuracy: 0.9888 - val_loss: 0.0233\n",
      "Epoch 128/150\n",
      "\u001b[1m42/42\u001b[0m \u001b[32m━━━━━━━━━━━━━━━━━━━━\u001b[0m\u001b[37m\u001b[0m \u001b[1m0s\u001b[0m 4ms/step - accuracy: 0.9877 - loss: 0.0258 - val_accuracy: 0.9483 - val_loss: 0.0964\n",
      "Epoch 129/150\n",
      "\u001b[1m42/42\u001b[0m \u001b[32m━━━━━━━━━━━━━━━━━━━━\u001b[0m\u001b[37m\u001b[0m \u001b[1m0s\u001b[0m 4ms/step - accuracy: 0.9162 - loss: 0.2541 - val_accuracy: 0.9888 - val_loss: 0.0681\n",
      "Epoch 130/150\n",
      "\u001b[1m42/42\u001b[0m \u001b[32m━━━━━━━━━━━━━━━━━━━━\u001b[0m\u001b[37m\u001b[0m \u001b[1m0s\u001b[0m 4ms/step - accuracy: 0.9766 - loss: 0.0794 - val_accuracy: 0.9888 - val_loss: 0.0336\n",
      "Epoch 131/150\n",
      "\u001b[1m42/42\u001b[0m \u001b[32m━━━━━━━━━━━━━━━━━━━━\u001b[0m\u001b[37m\u001b[0m \u001b[1m0s\u001b[0m 4ms/step - accuracy: 0.9898 - loss: 0.0429 - val_accuracy: 0.9124 - val_loss: 0.2169\n",
      "Epoch 132/150\n",
      "\u001b[1m42/42\u001b[0m \u001b[32m━━━━━━━━━━━━━━━━━━━━\u001b[0m\u001b[37m\u001b[0m \u001b[1m0s\u001b[0m 4ms/step - accuracy: 0.9503 - loss: 0.1321 - val_accuracy: 0.9303 - val_loss: 0.1540\n",
      "Epoch 133/150\n",
      "\u001b[1m42/42\u001b[0m \u001b[32m━━━━━━━━━━━━━━━━━━━━\u001b[0m\u001b[37m\u001b[0m \u001b[1m0s\u001b[0m 4ms/step - accuracy: 0.9724 - loss: 0.0796 - val_accuracy: 0.9888 - val_loss: 0.0268\n",
      "Epoch 134/150\n",
      "\u001b[1m42/42\u001b[0m \u001b[32m━━━━━━━━━━━━━━━━━━━━\u001b[0m\u001b[37m\u001b[0m \u001b[1m0s\u001b[0m 4ms/step - accuracy: 0.9825 - loss: 0.0493 - val_accuracy: 0.9393 - val_loss: 0.1732\n",
      "Epoch 135/150\n",
      "\u001b[1m42/42\u001b[0m \u001b[32m━━━━━━━━━━━━━━━━━━━━\u001b[0m\u001b[37m\u001b[0m \u001b[1m0s\u001b[0m 4ms/step - accuracy: 0.9398 - loss: 0.1658 - val_accuracy: 0.9865 - val_loss: 0.0358\n",
      "Epoch 136/150\n",
      "\u001b[1m42/42\u001b[0m \u001b[32m━━━━━━━━━━━━━━━━━━━━\u001b[0m\u001b[37m\u001b[0m \u001b[1m0s\u001b[0m 4ms/step - accuracy: 0.9864 - loss: 0.0712 - val_accuracy: 0.9888 - val_loss: 0.0295\n",
      "Epoch 137/150\n",
      "\u001b[1m42/42\u001b[0m \u001b[32m━━━━━━━━━━━━━━━━━━━━\u001b[0m\u001b[37m\u001b[0m \u001b[1m0s\u001b[0m 4ms/step - accuracy: 0.9856 - loss: 0.0588 - val_accuracy: 0.9888 - val_loss: 0.1010\n",
      "Epoch 138/150\n",
      "\u001b[1m42/42\u001b[0m \u001b[32m━━━━━━━━━━━━━━━━━━━━\u001b[0m\u001b[37m\u001b[0m \u001b[1m0s\u001b[0m 4ms/step - accuracy: 0.9879 - loss: 0.0403 - val_accuracy: 0.9438 - val_loss: 0.1861\n",
      "Epoch 139/150\n",
      "\u001b[1m42/42\u001b[0m \u001b[32m━━━━━━━━━━━━━━━━━━━━\u001b[0m\u001b[37m\u001b[0m \u001b[1m0s\u001b[0m 4ms/step - accuracy: 0.9741 - loss: 0.5188 - val_accuracy: 0.8966 - val_loss: 0.1552\n",
      "Epoch 140/150\n",
      "\u001b[1m42/42\u001b[0m \u001b[32m━━━━━━━━━━━━━━━━━━━━\u001b[0m\u001b[37m\u001b[0m \u001b[1m0s\u001b[0m 4ms/step - accuracy: 0.9473 - loss: 0.1525 - val_accuracy: 0.9753 - val_loss: 0.0709\n",
      "Epoch 141/150\n",
      "\u001b[1m42/42\u001b[0m \u001b[32m━━━━━━━━━━━━━━━━━━━━\u001b[0m\u001b[37m\u001b[0m \u001b[1m0s\u001b[0m 4ms/step - accuracy: 0.9412 - loss: 0.2126 - val_accuracy: 0.9888 - val_loss: 0.0614\n",
      "Epoch 142/150\n",
      "\u001b[1m42/42\u001b[0m \u001b[32m━━━━━━━━━━━━━━━━━━━━\u001b[0m\u001b[37m\u001b[0m \u001b[1m0s\u001b[0m 4ms/step - accuracy: 0.9786 - loss: 0.0780 - val_accuracy: 0.9888 - val_loss: 0.0433\n",
      "Epoch 143/150\n",
      "\u001b[1m42/42\u001b[0m \u001b[32m━━━━━━━━━━━━━━━━━━━━\u001b[0m\u001b[37m\u001b[0m \u001b[1m0s\u001b[0m 4ms/step - accuracy: 0.9875 - loss: 0.0570 - val_accuracy: 0.9888 - val_loss: 0.0406\n",
      "Epoch 144/150\n",
      "\u001b[1m42/42\u001b[0m \u001b[32m━━━━━━━━━━━━━━━━━━━━\u001b[0m\u001b[37m\u001b[0m \u001b[1m0s\u001b[0m 4ms/step - accuracy: 0.9886 - loss: 0.0390 - val_accuracy: 0.9888 - val_loss: 0.0432\n",
      "Epoch 145/150\n",
      "\u001b[1m42/42\u001b[0m \u001b[32m━━━━━━━━━━━━━━━━━━━━\u001b[0m\u001b[37m\u001b[0m \u001b[1m0s\u001b[0m 4ms/step - accuracy: 0.9695 - loss: 0.0827 - val_accuracy: 0.9888 - val_loss: 0.0408\n",
      "Epoch 146/150\n",
      "\u001b[1m42/42\u001b[0m \u001b[32m━━━━━━━━━━━━━━━━━━━━\u001b[0m\u001b[37m\u001b[0m \u001b[1m0s\u001b[0m 4ms/step - accuracy: 0.9670 - loss: 0.1045 - val_accuracy: 0.9888 - val_loss: 0.0810\n",
      "Epoch 147/150\n",
      "\u001b[1m42/42\u001b[0m \u001b[32m━━━━━━━━━━━━━━━━━━━━\u001b[0m\u001b[37m\u001b[0m \u001b[1m0s\u001b[0m 4ms/step - accuracy: 0.9795 - loss: 0.0810 - val_accuracy: 0.9888 - val_loss: 0.0378\n",
      "Epoch 148/150\n",
      "\u001b[1m42/42\u001b[0m \u001b[32m━━━━━━━━━━━━━━━━━━━━\u001b[0m\u001b[37m\u001b[0m \u001b[1m0s\u001b[0m 4ms/step - accuracy: 0.9950 - loss: 0.0214 - val_accuracy: 0.9888 - val_loss: 0.0308\n",
      "Epoch 149/150\n",
      "\u001b[1m42/42\u001b[0m \u001b[32m━━━━━━━━━━━━━━━━━━━━\u001b[0m\u001b[37m\u001b[0m \u001b[1m0s\u001b[0m 4ms/step - accuracy: 0.9938 - loss: 0.0201 - val_accuracy: 0.9888 - val_loss: 0.0340\n",
      "Epoch 150/150\n",
      "\u001b[1m42/42\u001b[0m \u001b[32m━━━━━━━━━━━━━━━━━━━━\u001b[0m\u001b[37m\u001b[0m \u001b[1m0s\u001b[0m 4ms/step - accuracy: 0.9962 - loss: 0.0154 - val_accuracy: 0.9888 - val_loss: 0.0349\n"
     ]
    }
   ],
   "source": [
    "# Entrainement du modele\n",
    "history = model_dnn.fit(X_train, y_train, epochs=150, verbose=1, validation_data=(X_test, y_test))"
   ]
  },
  {
   "cell_type": "markdown",
   "id": "f0574a60-4a36-492a-af92-3f6b4d05dc59",
   "metadata": {},
   "source": [
    "# Étape 7 : Visualiser l’evolution de l’entrainement du réseau de neurone"
   ]
  },
  {
   "cell_type": "code",
   "execution_count": 41,
   "id": "105d07a4-eebc-4fec-97eb-253fde09198f",
   "metadata": {},
   "outputs": [],
   "source": [
    "epoch_accuracy = history.history['accuracy']\n",
    "epoch_loss = history.history['loss']\n",
    "\n",
    "epoch_val_accuracy = history.history['val_accuracy']\n",
    "epoch_val_loss = history.history['val_loss']"
   ]
  },
  {
   "cell_type": "code",
   "execution_count": 42,
   "id": "770508ba-6a9f-4c95-bb6b-92585b0fece4",
   "metadata": {},
   "outputs": [
    {
     "data": {
      "image/png": "[encoded data removed]",
      "text/plain": [
       "<Figure size 600x400 with 1 Axes>"
      ]
     },
     "metadata": {},
     "output_type": "display_data"
    }
   ],
   "source": [
    "plt.figure(figsize=(6, 4))\n",
    "plt.plot(range(0, len(epoch_accuracy)), epoch_accuracy, color='blue', label='Training Accuracy')\n",
    "plt.plot(range(0, len(epoch_loss)), epoch_loss, color='red', label='Training Loss')\n",
    "plt.xlabel('Epochs')\n",
    "plt.ylabel('Values')\n",
    "plt.title('Accuracy vs Loss')\n",
    "plt.legend()\n",
    "plt.show()"
   ]
  },
  {
   "cell_type": "code",
   "execution_count": 43,
   "id": "26407920-c3f1-4ef7-b640-ece3acc0444c",
   "metadata": {},
   "outputs": [
    {
     "data": {
      "image/png": "[encoded data removed]",
      "text/plain": [
       "<Figure size 600x400 with 1 Axes>"
      ]
     },
     "metadata": {},
     "output_type": "display_data"
    }
   ],
   "source": [
    "plt.figure(figsize=(6, 4))\n",
    "plt.plot(range(0, len(epoch_accuracy)), epoch_accuracy, color='blue', label='Training Accuracy')\n",
    "plt.plot(range(0, len(epoch_val_accuracy)), epoch_val_accuracy, color='red', label='Test Accuracy')\n",
    "plt.xlabel('Epochs')\n",
    "plt.ylabel('Accuracy')\n",
    "plt.title('Training Accuracy Vs Taining Loss')\n",
    "plt.legend()\n",
    "plt.show()"
   ]
  },
  {
   "cell_type": "code",
   "execution_count": 44,
   "id": "eec096f2-be31-4299-8584-c9ac16e9183b",
   "metadata": {},
   "outputs": [
    {
     "data": {
      "image/png": "[encoded data removed]",
      "text/plain": [
       "<Figure size 600x400 with 1 Axes>"
      ]
     },
     "metadata": {},
     "output_type": "display_data"
    }
   ],
   "source": [
    "plt.figure(figsize=(6, 4))\n",
    "plt.plot(range(0, len(epoch_loss)), epoch_loss, color='blue', label='Training Loss')\n",
    "plt.plot(range(0, len(epoch_val_loss)), epoch_val_loss, color='red', label='Test Loss')\n",
    "plt.xlabel('Epochs')\n",
    "plt.ylabel('Loss')\n",
    "plt.title('Training Accuracy Vs Taining Loss')\n",
    "plt.legend()\n",
    "plt.show()"
   ]
  },
  {
   "cell_type": "markdown",
   "id": "d2cc9b01-6e09-4c2d-b92f-21ccf81b3476",
   "metadata": {},
   "source": [
    "# Étape 8 : Evaluer le modèle"
   ]
  },
  {
   "cell_type": "code",
   "execution_count": 45,
   "id": "9f3a93fb-2066-4f31-a108-71f9225df162",
   "metadata": {},
   "outputs": [
    {
     "name": "stdout",
     "output_type": "stream",
     "text": [
      "\u001b[1m14/14\u001b[0m \u001b[32m━━━━━━━━━━━━━━━━━━━━\u001b[0m\u001b[37m\u001b[0m \u001b[1m0s\u001b[0m 3ms/step - accuracy: 0.9871 - loss: 0.0436 \n"
     ]
    },
    {
     "data": {
      "text/plain": [
       "[0.034862324595451355, 0.9887640476226807]"
      ]
     },
     "execution_count": 45,
     "metadata": {},
     "output_type": "execute_result"
    }
   ],
   "source": [
    "model_dnn.evaluate(X_test, y_test)"
   ]
  },
  {
   "cell_type": "markdown",
   "id": "486391c3-a8df-487e-95ac-6d2e082d10c3",
   "metadata": {},
   "source": [
    "# 9. Sauvegarder le modèle entrainé"
   ]
  },
  {
   "cell_type": "code",
   "execution_count": 46,
   "id": "f45decd5-f8cd-4fad-ac65-fa636054d65a",
   "metadata": {},
   "outputs": [
    {
     "name": "stderr",
     "output_type": "stream",
     "text": [
      "WARNING:absl:You are saving your model as an HDF5 file via `model.save()` or `keras.saving.save_model(model)`. This file format is considered legacy. We recommend using instead the native Keras format, e.g. `model.save('my_model.keras')` or `keras.saving.save_model(model, 'my_model.keras')`. \n"
     ]
    }
   ],
   "source": [
    "model_dnn.save('model_dnn.h5')"
   ]
  },
  {
   "cell_type": "code",
   "execution_count": 47,
   "id": "6bb4ce42-c7c5-430a-9e5b-db4a5a5017ac",
   "metadata": {},
   "outputs": [
    {
     "data": {
      "text/plain": [
       "['scaler_ic.pkl']"
      ]
     },
     "execution_count": 47,
     "metadata": {},
     "output_type": "execute_result"
    }
   ],
   "source": [
    "joblib.dump(scaler, \"scaler_ic.pkl\")"
   ]
  },
  {
   "cell_type": "code",
   "execution_count": 48,
   "id": "b99b59f0-2d57-4267-8031-24e0206058d2",
   "metadata": {},
   "outputs": [
    {
     "name": "stdout",
     "output_type": "stream",
     "text": [
      "\u001b[1m14/14\u001b[0m \u001b[32m━━━━━━━━━━━━━━━━━━━━\u001b[0m\u001b[37m\u001b[0m \u001b[1m0s\u001b[0m 6ms/step \n"
     ]
    }
   ],
   "source": [
    "predictions = model_dnn.predict(X_test)"
   ]
  },
  {
   "cell_type": "code",
   "execution_count": 49,
   "id": "6a445318-1258-48a8-89f6-9ca33b59b0ae",
   "metadata": {},
   "outputs": [
    {
     "data": {
      "text/plain": [
       "array([[5.3876324e-04, 1.1564324e-04, 9.5037591e-01, 4.8969723e-02],\n",
       "       [2.2536940e-12, 6.1932196e-06, 2.0019128e-05, 9.9997377e-01],\n",
       "       [1.0000000e+00, 0.0000000e+00, 0.0000000e+00, 0.0000000e+00],\n",
       "       ...,\n",
       "       [1.0000000e+00, 0.0000000e+00, 0.0000000e+00, 0.0000000e+00],\n",
       "       [1.0000000e+00, 0.0000000e+00, 0.0000000e+00, 0.0000000e+00],\n",
       "       [4.1996106e-04, 6.4253058e-05, 9.6474510e-01, 3.4770660e-02]],\n",
       "      dtype=float32)"
      ]
     },
     "execution_count": 49,
     "metadata": {},
     "output_type": "execute_result"
    }
   ],
   "source": [
    "predictions"
   ]
  },
  {
   "cell_type": "code",
   "execution_count": 50,
   "id": "fc4ada0b-cd34-48f8-a5fd-740d09a48a17",
   "metadata": {},
   "outputs": [
    {
     "name": "stdout",
     "output_type": "stream",
     "text": [
      "Prédictions : [2 3 0 2 3 1 3 3 2 2 0 0 3 2 2 0 3 0 0 3 3 3 0 1 3 0 3 2 0 0 0 0 3 3 1 3 2\n",
      " 0 2 2 0 2 0 0 0 3 0 2 0 3 3 2 0 3 2 2 2 2 0 3 0 2 2 2 0 1 3 2 2 0 0 3 2 0\n",
      " 3 0 3 0 2 3 0 0 2 3 0 0 2 3 3 3 0 0 0 2 3 0 1 1 3 2 0 3 3 1 3 1 3 0 3 1 2\n",
      " 0 3 0 3 3 1 0 3 3 0 0 2 3 0 0 0 3 0 0 3 3 3 0 1 3 3 3 0 0 0 1 0 0 3 0 0 0\n",
      " 0 1 0 1 2 1 0 3 0 0 0 0 1 0 3 1 0 0 3 3 1 3 0 3 0 0 3 0 0 1 0 3 0 0 3 0 0\n",
      " 3 3 1 3 3 0 3 3 3 0 2 0 0 0 0 3 3 3 3 3 0 3 2 0 3 3 2 0 0 0 3 3 0 3 2 0 3\n",
      " 2 0 0 0 2 3 0 1 3 0 1 2 1 3 0 2 0 2 0 3 0 2 0 3 2 2 0 3 0 2 0 0 3 3 0 0 0\n",
      " 3 2 0 3 3 3 2 2 3 2 3 1 0 0 0 0 1 0 0 0 2 0 2 2 3 2 3 0 1 0 3 2 0 3 0 2 2\n",
      " 1 0 0 2 0 3 2 2 2 0 0 0 0 1 2 0 2 0 1 3 1 1 2 3 3 0 1 3 0 0 0 0 3 0 0 2 3\n",
      " 3 0 1 3 3 3 1 0 0 3 2 2 3 1 1 0 2 2 0 3 2 2 2 3 0 0 0 3 3 0 1 3 3 0 2 0 3\n",
      " 0 3 1 3 0 2 0 3 1 2 0 3 3 0 3 0 3 2 0 0 3 3 0 3 3 1 0 0 2 3 0 0 0 2 1 3 3\n",
      " 0 2 0 3 0 0 1 3 0 2 3 3 1 0 1 3 3 2 1 0 2 3 1 3 0 1 2 0 3 1 2 1 3 0 0 0 0\n",
      " 2]\n"
     ]
    }
   ],
   "source": [
    "#predicted_classes\n",
    "predicted_classes = predictions.argmax(axis=1)\n",
    "\n",
    "print(\"Prédictions :\", predicted_classes)"
   ]
  },
  {
   "cell_type": "markdown",
   "id": "14765b50-4497-41f0-843a-e9a6e606b59c",
   "metadata": {},
   "source": [
    "# 10. Simple Prediction"
   ]
  },
  {
   "cell_type": "code",
   "execution_count": 51,
   "id": "b6fe1b81-fd59-4a51-a8a4-ba0135d92d6f",
   "metadata": {},
   "outputs": [
    {
     "data": {
      "text/html": [
       "<div>\n",
       "<style scoped>\n",
       "    .dataframe tbody tr th:only-of-type {\n",
       "        vertical-align: middle;\n",
       "    }\n",
       "\n",
       "    .dataframe tbody tr th {\n",
       "        vertical-align: top;\n",
       "    }\n",
       "\n",
       "    .dataframe thead th {\n",
       "        text-align: right;\n",
       "    }\n",
       "</style>\n",
       "<table border=\"1\" class=\"dataframe\">\n",
       "  <thead>\n",
       "    <tr style=\"text-align: right;\">\n",
       "      <th></th>\n",
       "      <th>Site</th>\n",
       "      <th>Longitude</th>\n",
       "      <th>Latitude</th>\n",
       "      <th>Altitude</th>\n",
       "      <th>Ic</th>\n",
       "      <th>Classe_Ic</th>\n",
       "    </tr>\n",
       "  </thead>\n",
       "  <tbody>\n",
       "    <tr>\n",
       "      <th>0</th>\n",
       "      <td>6</td>\n",
       "      <td>27.398758</td>\n",
       "      <td>-11.479370</td>\n",
       "      <td>1356.0</td>\n",
       "      <td>1.032063</td>\n",
       "      <td>0</td>\n",
       "    </tr>\n",
       "    <tr>\n",
       "      <th>1</th>\n",
       "      <td>6</td>\n",
       "      <td>27.398610</td>\n",
       "      <td>-11.478151</td>\n",
       "      <td>1354.0</td>\n",
       "      <td>27.390744</td>\n",
       "      <td>0</td>\n",
       "    </tr>\n",
       "    <tr>\n",
       "      <th>2</th>\n",
       "      <td>6</td>\n",
       "      <td>27.399395</td>\n",
       "      <td>-11.476759</td>\n",
       "      <td>1354.0</td>\n",
       "      <td>1.541371</td>\n",
       "      <td>0</td>\n",
       "    </tr>\n",
       "    <tr>\n",
       "      <th>3</th>\n",
       "      <td>6</td>\n",
       "      <td>27.399987</td>\n",
       "      <td>-11.475205</td>\n",
       "      <td>1354.0</td>\n",
       "      <td>1.081573</td>\n",
       "      <td>0</td>\n",
       "    </tr>\n",
       "    <tr>\n",
       "      <th>4</th>\n",
       "      <td>6</td>\n",
       "      <td>27.400558</td>\n",
       "      <td>-11.474226</td>\n",
       "      <td>1353.0</td>\n",
       "      <td>1.364352</td>\n",
       "      <td>0</td>\n",
       "    </tr>\n",
       "  </tbody>\n",
       "</table>\n",
       "</div>"
      ],
      "text/plain": [
       "   Site  Longitude   Latitude  Altitude         Ic  Classe_Ic\n",
       "0     6  27.398758 -11.479370    1356.0   1.032063          0\n",
       "1     6  27.398610 -11.478151    1354.0  27.390744          0\n",
       "2     6  27.399395 -11.476759    1354.0   1.541371          0\n",
       "3     6  27.399987 -11.475205    1354.0   1.081573          0\n",
       "4     6  27.400558 -11.474226    1353.0   1.364352          0"
      ]
     },
     "execution_count": 51,
     "metadata": {},
     "output_type": "execute_result"
    }
   ],
   "source": [
    "data_concat.head()"
   ]
  },
  {
   "cell_type": "code",
   "execution_count": 52,
   "id": "79894006-88e7-4ccd-8930-41fa75e5d1a6",
   "metadata": {},
   "outputs": [
    {
     "name": "stdout",
     "output_type": "stream",
     "text": [
      "[[-5.58584463  0.56992661 -1.32603792 -4.99967674 -4.25034463]]\n",
      "\u001b[1m1/1\u001b[0m \u001b[32m━━━━━━━━━━━━━━━━━━━━\u001b[0m\u001b[37m\u001b[0m \u001b[1m0s\u001b[0m 38ms/step\n",
      "Classe prédite : 1\n"
     ]
    }
   ],
   "source": [
    "# Une simple prediction \n",
    "\n",
    "# Donnée d'entrée (5 features)\n",
    "X_test_2 = np.array([[2,\t27.502679,\t-11.581215,\t1183.3166,\t-35.219849\t]])\n",
    "#X_test_2 = np.array([[10, 27.398758, -11.479370, 1356.0, 1.03206]])\n",
    "\n",
    "\n",
    "# N'oublie pas de scaler aussi cette entrée\n",
    "X_test_2 = scaler.transform(X_test_2)\n",
    "print(X_test_2)\n",
    "\n",
    "# Prédiction\n",
    "prediction = model_dnn.predict(X_test_2)\n",
    "predicted_class = prediction.argmax()\n",
    "\n",
    "print(\"Classe prédite :\", predicted_class)\n"
   ]
  },
  {
   "cell_type": "code",
   "execution_count": 53,
   "id": "fdd09779-59f0-48de-b2d8-43fcc72d13b5",
   "metadata": {},
   "outputs": [
    {
     "name": "stdout",
     "output_type": "stream",
     "text": [
      "Classe prédite : 1\n",
      "Probabilités par classe (%): [0. 1. 0. 0.]\n"
     ]
    }
   ],
   "source": [
    "# Affichage des résultats\n",
    "probs_percent = prediction[0]\n",
    "#probs_percent = prediction[0] * 100\n",
    "probs_rounded = np.round(probs_percent, 2)\n",
    "\n",
    "print(f\"Classe prédite : {predicted_class}\")\n",
    "print(\"Probabilités par classe (%):\", probs_rounded)"
   ]
  },
  {
   "cell_type": "code",
   "execution_count": null,
   "id": "65de76c8-19be-4e28-806d-f2b057a55d76",
   "metadata": {},
   "outputs": [],
   "source": []
  },
  {
   "cell_type": "code",
   "execution_count": null,
   "id": "bd44c922-be67-4d52-bda1-f166cfa01457",
   "metadata": {},
   "outputs": [],
   "source": []
  }
 ],
 "metadata": {
  "kernelspec": {
   "display_name": "Python 3 (ipykernel)",
   "language": "python",
   "name": "python3"
  },
  "language_info": {
   "codemirror_mode": {
    "name": "ipython",
    "version": 3
   },
   "file_extension": ".py",
   "mimetype": "text/x-python",
   "name": "python",
   "nbconvert_exporter": "python",
   "pygments_lexer": "ipython3",
   "version": "3.10.16"
  }
 },
 "nbformat": 4,
 "nbformat_minor": 5
}
