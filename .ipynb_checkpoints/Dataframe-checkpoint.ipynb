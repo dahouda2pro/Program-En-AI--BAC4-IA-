{
 "cells": [
  {
   "cell_type": "markdown",
   "id": "0c9e712d-348a-4ae2-ac1f-a4bf20d06a2f",
   "metadata": {},
   "source": [
    "# 1. Importation de Library"
   ]
  },
  {
   "cell_type": "code",
   "execution_count": 140,
   "id": "9e46688f-1c6d-494c-b537-598cb2de0ead",
   "metadata": {},
   "outputs": [],
   "source": [
    "import numpy as np"
   ]
  },
  {
   "cell_type": "markdown",
   "id": "9a75b5cc-3bfa-4d7b-889c-42f11fc450dc",
   "metadata": {},
   "source": [
    "# 2. Tableau"
   ]
  },
  {
   "cell_type": "markdown",
   "id": "2ff16964-487e-4d53-8466-1c25fe90bbcb",
   "metadata": {},
   "source": [
    "## 2.1 Tableau a 1D"
   ]
  },
  {
   "cell_type": "code",
   "execution_count": 141,
   "id": "fcdc6579-f139-4c19-84fe-5bd3c5edd4de",
   "metadata": {},
   "outputs": [],
   "source": [
    "Tableau_1D = np.array([2, 4, 6, 8])"
   ]
  },
  {
   "cell_type": "code",
   "execution_count": 142,
   "id": "35a5c2c3-26c0-4532-9ace-7ad41c5419bb",
   "metadata": {},
   "outputs": [
    {
     "name": "stdout",
     "output_type": "stream",
     "text": [
      "(4,)\n",
      "<class 'numpy.ndarray'>\n",
      "[2 4 6 8]\n"
     ]
    }
   ],
   "source": [
    "print(Tableau_1D.shape)\n",
    "print(type(Tableau_1D))\n",
    "print(Tableau_1D)"
   ]
  },
  {
   "cell_type": "markdown",
   "id": "3b3da982-9014-447d-aac4-a7f3c5d2a654",
   "metadata": {},
   "source": [
    "## 2.2 Tableau a 2D"
   ]
  },
  {
   "cell_type": "code",
   "execution_count": 143,
   "id": "7a5f4ffb-3982-474d-b067-b009019ba2b8",
   "metadata": {},
   "outputs": [],
   "source": [
    "Tableau_2D = np.array([\n",
    "    [2, 4, 6, 8, 10],\n",
    "    [20, 40, 60, 80, 100],\n",
    "])"
   ]
  },
  {
   "cell_type": "code",
   "execution_count": 144,
   "id": "f9e38ddc-b54a-4f91-b0a0-380110960cc6",
   "metadata": {},
   "outputs": [
    {
     "name": "stdout",
     "output_type": "stream",
     "text": [
      "(2, 5)\n",
      "<class 'numpy.ndarray'>\n",
      "[[  2   4   6   8  10]\n",
      " [ 20  40  60  80 100]]\n"
     ]
    }
   ],
   "source": [
    "print(Tableau_2D.shape)\n",
    "print(type(Tableau_2D))\n",
    "print(Tableau_2D)"
   ]
  },
  {
   "cell_type": "markdown",
   "id": "62a4f569-3aec-42a4-94ef-9060383b948d",
   "metadata": {},
   "source": [
    "## 2.3 Tableau a 3D"
   ]
  },
  {
   "cell_type": "code",
   "execution_count": 145,
   "id": "d308dedd-d69b-41c6-94fc-785513703aec",
   "metadata": {},
   "outputs": [],
   "source": [
    "Tableau_3D = np.array([[\n",
    "    [1, 3, 5, 7, 9],\n",
    "    [15, 35, 55, 75, 95],\n",
    "    ]])"
   ]
  },
  {
   "cell_type": "code",
   "execution_count": 146,
   "id": "e2cc5a61-bc0a-4c83-bce7-fb58098bbf3e",
   "metadata": {},
   "outputs": [
    {
     "name": "stdout",
     "output_type": "stream",
     "text": [
      "(1, 2, 5)\n",
      "<class 'numpy.ndarray'>\n",
      "[[[ 1  3  5  7  9]\n",
      "  [15 35 55 75 95]]]\n"
     ]
    }
   ],
   "source": [
    "print(Tableau_3D.shape)\n",
    "print(type(Tableau_3D))\n",
    "print(Tableau_3D)"
   ]
  },
  {
   "cell_type": "markdown",
   "id": "1802a25e-2427-4625-ade8-e614a8994e45",
   "metadata": {},
   "source": [
    "## 2.4 Tableau a 4D"
   ]
  },
  {
   "cell_type": "code",
   "execution_count": 147,
   "id": "83e46a96-29e3-4c2a-9e1a-749fa3c72dea",
   "metadata": {},
   "outputs": [],
   "source": [
    "Tableau_4D = np.array([[[\n",
    "    [8, 6, 4, 2]\n",
    "]]])"
   ]
  },
  {
   "cell_type": "code",
   "execution_count": 148,
   "id": "2177b4b5-ae8e-4353-90b7-55309941a52e",
   "metadata": {},
   "outputs": [
    {
     "name": "stdout",
     "output_type": "stream",
     "text": [
      "(1, 1, 1, 4)\n",
      "<class 'numpy.ndarray'>\n",
      "[[[[8 6 4 2]]]]\n"
     ]
    }
   ],
   "source": [
    "print(Tableau_4D.shape)\n",
    "print(type(Tableau_4D))\n",
    "print(Tableau_4D)"
   ]
  },
  {
   "cell_type": "markdown",
   "id": "ffc572ab-9549-433c-93b0-269db7b395ba",
   "metadata": {},
   "source": [
    "# 3. Operations sur les tableaux"
   ]
  },
  {
   "cell_type": "code",
   "execution_count": 149,
   "id": "038da571-a6e6-4391-880a-e8b842d469d9",
   "metadata": {},
   "outputs": [],
   "source": [
    "# Soient 2 tablaux\n",
    "a = np.array([2, 4, 6, 8])\n",
    "\n",
    "b = np.array([25, 45, 65, 85])"
   ]
  },
  {
   "cell_type": "markdown",
   "id": "8dc52568-c0b6-41e7-91ab-287232ac7825",
   "metadata": {},
   "source": [
    "## 3.1 Addition"
   ]
  },
  {
   "cell_type": "code",
   "execution_count": 150,
   "id": "e97473c5-c5b2-4ed5-8e7b-36da9548d202",
   "metadata": {},
   "outputs": [
    {
     "data": {
      "text/plain": [
       "array([27, 49, 71, 93])"
      ]
     },
     "execution_count": 150,
     "metadata": {},
     "output_type": "execute_result"
    }
   ],
   "source": [
    "a + b"
   ]
  },
  {
   "cell_type": "markdown",
   "id": "ce285035-e1f8-4dea-8fd7-97d36ab36895",
   "metadata": {},
   "source": [
    "## 3.2 Soustraction"
   ]
  },
  {
   "cell_type": "code",
   "execution_count": 151,
   "id": "b9e1e9ad-b1b7-41fe-8c31-681b87a6fd23",
   "metadata": {},
   "outputs": [
    {
     "data": {
      "text/plain": [
       "array([-23, -41, -59, -77])"
      ]
     },
     "execution_count": 151,
     "metadata": {},
     "output_type": "execute_result"
    }
   ],
   "source": [
    "a - b"
   ]
  },
  {
   "cell_type": "code",
   "execution_count": 152,
   "id": "e4ca8e50-c9a6-4434-af28-388e7d645978",
   "metadata": {},
   "outputs": [
    {
     "data": {
      "text/plain": [
       "array([23, 41, 59, 77])"
      ]
     },
     "execution_count": 152,
     "metadata": {},
     "output_type": "execute_result"
    }
   ],
   "source": [
    "b - a"
   ]
  },
  {
   "cell_type": "markdown",
   "id": "efe9e32c-2dea-446c-9fd3-50da9a527087",
   "metadata": {},
   "source": [
    "## 3.3. Multiplication"
   ]
  },
  {
   "cell_type": "code",
   "execution_count": 153,
   "id": "de84b216-a17c-4881-8374-8475fe468564",
   "metadata": {},
   "outputs": [
    {
     "data": {
      "text/plain": [
       "array([ 50, 180, 390, 680])"
      ]
     },
     "execution_count": 153,
     "metadata": {},
     "output_type": "execute_result"
    }
   ],
   "source": [
    "a * b"
   ]
  },
  {
   "cell_type": "markdown",
   "id": "99d17e29-0eb8-43a6-b16f-56312472b391",
   "metadata": {},
   "source": [
    "## 3.4. Division"
   ]
  },
  {
   "cell_type": "code",
   "execution_count": 154,
   "id": "ddb7aadf-b609-4f7a-8977-197c38a75d93",
   "metadata": {},
   "outputs": [
    {
     "data": {
      "text/plain": [
       "array([0.08      , 0.08888889, 0.09230769, 0.09411765])"
      ]
     },
     "execution_count": 154,
     "metadata": {},
     "output_type": "execute_result"
    }
   ],
   "source": [
    "a / b"
   ]
  },
  {
   "cell_type": "code",
   "execution_count": 155,
   "id": "ed91a3c3-5020-464c-b0cb-ca60c6c6657d",
   "metadata": {},
   "outputs": [
    {
     "data": {
      "text/plain": [
       "array([12.5       , 11.25      , 10.83333333, 10.625     ])"
      ]
     },
     "execution_count": 155,
     "metadata": {},
     "output_type": "execute_result"
    }
   ],
   "source": [
    "b / a"
   ]
  },
  {
   "cell_type": "markdown",
   "id": "9c2c64fc-25e3-431b-8245-48b58298a870",
   "metadata": {},
   "source": [
    "# 4. Manipulations de donnees"
   ]
  },
  {
   "cell_type": "code",
   "execution_count": 156,
   "id": "ad98b24c-5d13-4496-bcd1-da2b961d2ee5",
   "metadata": {},
   "outputs": [],
   "source": [
    "# Creation d'un diction simple\n",
    "Info_Etudiants = {\n",
    "    'ID': 212,\n",
    "    'Nom':'MWAMBA',\n",
    "    'Postnom': 'KASOMGO',\n",
    "    'Prenom': 'Dahouda',\n",
    "    'Grade': 'A'\n",
    "}"
   ]
  },
  {
   "cell_type": "code",
   "execution_count": 157,
   "id": "b68d8d68-4d16-4415-b7af-fd310059d6d3",
   "metadata": {},
   "outputs": [
    {
     "data": {
      "text/plain": [
       "{'ID': 212,\n",
       " 'Nom': 'MWAMBA',\n",
       " 'Postnom': 'KASOMGO',\n",
       " 'Prenom': 'Dahouda',\n",
       " 'Grade': 'A'}"
      ]
     },
     "execution_count": 157,
     "metadata": {},
     "output_type": "execute_result"
    }
   ],
   "source": [
    "Info_Etudiants"
   ]
  },
  {
   "cell_type": "code",
   "execution_count": 158,
   "id": "ab6c5ef8-d66e-493b-ad8f-ce25c3e343a5",
   "metadata": {},
   "outputs": [],
   "source": [
    "# Creation du dictionnaire complexe\n",
    "Etudianst_BAC3_GL_IA = {\n",
    "    'Matricule': ['2022123234', '2022123876', '2022987125'],\n",
    "    'Nom': ['MWAMBA', 'ILUNGA', 'TANMBWE'],\n",
    "    'Prenom': ['Dahouda','Yves', 'Jean']\n",
    "}"
   ]
  },
  {
   "cell_type": "code",
   "execution_count": 159,
   "id": "cb35c2ef-1264-444b-bf2f-9164b0872073",
   "metadata": {},
   "outputs": [
    {
     "data": {
      "text/plain": [
       "{'Matricule': ['2022123234', '2022123876', '2022987125'],\n",
       " 'Nom': ['MWAMBA', 'ILUNGA', 'TANMBWE'],\n",
       " 'Prenom': ['Dahouda', 'Yves', 'Jean']}"
      ]
     },
     "execution_count": 159,
     "metadata": {},
     "output_type": "execute_result"
    }
   ],
   "source": [
    "Etudianst_BAC3_GL_IA"
   ]
  },
  {
   "cell_type": "code",
   "execution_count": 160,
   "id": "57c49a54-68f6-494e-8bb9-18aa35111815",
   "metadata": {},
   "outputs": [],
   "source": [
    "# Convertir ductioannaire en Dataframe\n",
    "import pandas as pd"
   ]
  },
  {
   "cell_type": "code",
   "execution_count": 161,
   "id": "2c4c5984-ea7a-46c1-b8a4-657237b3c22e",
   "metadata": {},
   "outputs": [],
   "source": [
    "dataframe = pd.DataFrame(Etudianst_BAC3_GL_IA)"
   ]
  },
  {
   "cell_type": "code",
   "execution_count": 162,
   "id": "c019c2af-27ec-44b5-b5e4-680c29fef3cc",
   "metadata": {},
   "outputs": [
    {
     "data": {
      "text/html": [
       "<div>\n",
       "<style scoped>\n",
       "    .dataframe tbody tr th:only-of-type {\n",
       "        vertical-align: middle;\n",
       "    }\n",
       "\n",
       "    .dataframe tbody tr th {\n",
       "        vertical-align: top;\n",
       "    }\n",
       "\n",
       "    .dataframe thead th {\n",
       "        text-align: right;\n",
       "    }\n",
       "</style>\n",
       "<table border=\"1\" class=\"dataframe\">\n",
       "  <thead>\n",
       "    <tr style=\"text-align: right;\">\n",
       "      <th></th>\n",
       "      <th>Matricule</th>\n",
       "      <th>Nom</th>\n",
       "      <th>Prenom</th>\n",
       "    </tr>\n",
       "  </thead>\n",
       "  <tbody>\n",
       "    <tr>\n",
       "      <th>0</th>\n",
       "      <td>2022123234</td>\n",
       "      <td>MWAMBA</td>\n",
       "      <td>Dahouda</td>\n",
       "    </tr>\n",
       "    <tr>\n",
       "      <th>1</th>\n",
       "      <td>2022123876</td>\n",
       "      <td>ILUNGA</td>\n",
       "      <td>Yves</td>\n",
       "    </tr>\n",
       "    <tr>\n",
       "      <th>2</th>\n",
       "      <td>2022987125</td>\n",
       "      <td>TANMBWE</td>\n",
       "      <td>Jean</td>\n",
       "    </tr>\n",
       "  </tbody>\n",
       "</table>\n",
       "</div>"
      ],
      "text/plain": [
       "    Matricule      Nom   Prenom\n",
       "0  2022123234   MWAMBA  Dahouda\n",
       "1  2022123876   ILUNGA     Yves\n",
       "2  2022987125  TANMBWE     Jean"
      ]
     },
     "execution_count": 162,
     "metadata": {},
     "output_type": "execute_result"
    }
   ],
   "source": [
    "dataframe"
   ]
  },
  {
   "cell_type": "code",
   "execution_count": 163,
   "id": "1121b519-65c7-4a29-bef4-11fa8dc90166",
   "metadata": {},
   "outputs": [],
   "source": [
    "dataframe['Grade'] = ['A+', 'B', 'C+']"
   ]
  },
  {
   "cell_type": "code",
   "execution_count": 164,
   "id": "3df52d2b-8380-44e0-83ea-95cdbe49b2e4",
   "metadata": {},
   "outputs": [
    {
     "data": {
      "text/html": [
       "<div>\n",
       "<style scoped>\n",
       "    .dataframe tbody tr th:only-of-type {\n",
       "        vertical-align: middle;\n",
       "    }\n",
       "\n",
       "    .dataframe tbody tr th {\n",
       "        vertical-align: top;\n",
       "    }\n",
       "\n",
       "    .dataframe thead th {\n",
       "        text-align: right;\n",
       "    }\n",
       "</style>\n",
       "<table border=\"1\" class=\"dataframe\">\n",
       "  <thead>\n",
       "    <tr style=\"text-align: right;\">\n",
       "      <th></th>\n",
       "      <th>Matricule</th>\n",
       "      <th>Nom</th>\n",
       "      <th>Prenom</th>\n",
       "      <th>Grade</th>\n",
       "    </tr>\n",
       "  </thead>\n",
       "  <tbody>\n",
       "    <tr>\n",
       "      <th>0</th>\n",
       "      <td>2022123234</td>\n",
       "      <td>MWAMBA</td>\n",
       "      <td>Dahouda</td>\n",
       "      <td>A+</td>\n",
       "    </tr>\n",
       "    <tr>\n",
       "      <th>1</th>\n",
       "      <td>2022123876</td>\n",
       "      <td>ILUNGA</td>\n",
       "      <td>Yves</td>\n",
       "      <td>B</td>\n",
       "    </tr>\n",
       "    <tr>\n",
       "      <th>2</th>\n",
       "      <td>2022987125</td>\n",
       "      <td>TANMBWE</td>\n",
       "      <td>Jean</td>\n",
       "      <td>C+</td>\n",
       "    </tr>\n",
       "  </tbody>\n",
       "</table>\n",
       "</div>"
      ],
      "text/plain": [
       "    Matricule      Nom   Prenom Grade\n",
       "0  2022123234   MWAMBA  Dahouda    A+\n",
       "1  2022123876   ILUNGA     Yves     B\n",
       "2  2022987125  TANMBWE     Jean    C+"
      ]
     },
     "execution_count": 164,
     "metadata": {},
     "output_type": "execute_result"
    }
   ],
   "source": [
    "dataframe"
   ]
  },
  {
   "cell_type": "code",
   "execution_count": 165,
   "id": "f8a386c9-a8e2-46be-b4cb-94f3a8398b09",
   "metadata": {},
   "outputs": [],
   "source": [
    "dataframe['Age'] = 50, 24, 21"
   ]
  },
  {
   "cell_type": "code",
   "execution_count": 166,
   "id": "33d149f3-52e0-4672-b56c-70a71ba4e7e4",
   "metadata": {},
   "outputs": [
    {
     "data": {
      "text/html": [
       "<div>\n",
       "<style scoped>\n",
       "    .dataframe tbody tr th:only-of-type {\n",
       "        vertical-align: middle;\n",
       "    }\n",
       "\n",
       "    .dataframe tbody tr th {\n",
       "        vertical-align: top;\n",
       "    }\n",
       "\n",
       "    .dataframe thead th {\n",
       "        text-align: right;\n",
       "    }\n",
       "</style>\n",
       "<table border=\"1\" class=\"dataframe\">\n",
       "  <thead>\n",
       "    <tr style=\"text-align: right;\">\n",
       "      <th></th>\n",
       "      <th>Matricule</th>\n",
       "      <th>Nom</th>\n",
       "      <th>Prenom</th>\n",
       "      <th>Grade</th>\n",
       "      <th>Age</th>\n",
       "    </tr>\n",
       "  </thead>\n",
       "  <tbody>\n",
       "    <tr>\n",
       "      <th>0</th>\n",
       "      <td>2022123234</td>\n",
       "      <td>MWAMBA</td>\n",
       "      <td>Dahouda</td>\n",
       "      <td>A+</td>\n",
       "      <td>50</td>\n",
       "    </tr>\n",
       "    <tr>\n",
       "      <th>1</th>\n",
       "      <td>2022123876</td>\n",
       "      <td>ILUNGA</td>\n",
       "      <td>Yves</td>\n",
       "      <td>B</td>\n",
       "      <td>24</td>\n",
       "    </tr>\n",
       "    <tr>\n",
       "      <th>2</th>\n",
       "      <td>2022987125</td>\n",
       "      <td>TANMBWE</td>\n",
       "      <td>Jean</td>\n",
       "      <td>C+</td>\n",
       "      <td>21</td>\n",
       "    </tr>\n",
       "  </tbody>\n",
       "</table>\n",
       "</div>"
      ],
      "text/plain": [
       "    Matricule      Nom   Prenom Grade  Age\n",
       "0  2022123234   MWAMBA  Dahouda    A+   50\n",
       "1  2022123876   ILUNGA     Yves     B   24\n",
       "2  2022987125  TANMBWE     Jean    C+   21"
      ]
     },
     "execution_count": 166,
     "metadata": {},
     "output_type": "execute_result"
    }
   ],
   "source": [
    "dataframe"
   ]
  },
  {
   "cell_type": "code",
   "execution_count": 167,
   "id": "17cde088-adbb-4175-a465-63f326b677d2",
   "metadata": {},
   "outputs": [
    {
     "name": "stdout",
     "output_type": "stream",
     "text": [
      "<class 'pandas.core.frame.DataFrame'>\n",
      "RangeIndex: 3 entries, 0 to 2\n",
      "Data columns (total 5 columns):\n",
      " #   Column     Non-Null Count  Dtype \n",
      "---  ------     --------------  ----- \n",
      " 0   Matricule  3 non-null      object\n",
      " 1   Nom        3 non-null      object\n",
      " 2   Prenom     3 non-null      object\n",
      " 3   Grade      3 non-null      object\n",
      " 4   Age        3 non-null      int64 \n",
      "dtypes: int64(1), object(4)\n",
      "memory usage: 248.0+ bytes\n"
     ]
    }
   ],
   "source": [
    "dataframe.info()"
   ]
  },
  {
   "cell_type": "code",
   "execution_count": 168,
   "id": "1857a0f0-ba96-49c3-a8ad-be1f1218e03a",
   "metadata": {},
   "outputs": [
    {
     "data": {
      "text/html": [
       "<div>\n",
       "<style scoped>\n",
       "    .dataframe tbody tr th:only-of-type {\n",
       "        vertical-align: middle;\n",
       "    }\n",
       "\n",
       "    .dataframe tbody tr th {\n",
       "        vertical-align: top;\n",
       "    }\n",
       "\n",
       "    .dataframe thead th {\n",
       "        text-align: right;\n",
       "    }\n",
       "</style>\n",
       "<table border=\"1\" class=\"dataframe\">\n",
       "  <thead>\n",
       "    <tr style=\"text-align: right;\">\n",
       "      <th></th>\n",
       "      <th>Matricule</th>\n",
       "      <th>Nom</th>\n",
       "      <th>Prenom</th>\n",
       "      <th>Age</th>\n",
       "    </tr>\n",
       "  </thead>\n",
       "  <tbody>\n",
       "    <tr>\n",
       "      <th>0</th>\n",
       "      <td>2022123234</td>\n",
       "      <td>MWAMBA</td>\n",
       "      <td>Dahouda</td>\n",
       "      <td>50</td>\n",
       "    </tr>\n",
       "    <tr>\n",
       "      <th>1</th>\n",
       "      <td>2022123876</td>\n",
       "      <td>ILUNGA</td>\n",
       "      <td>Yves</td>\n",
       "      <td>24</td>\n",
       "    </tr>\n",
       "    <tr>\n",
       "      <th>2</th>\n",
       "      <td>2022987125</td>\n",
       "      <td>TANMBWE</td>\n",
       "      <td>Jean</td>\n",
       "      <td>21</td>\n",
       "    </tr>\n",
       "  </tbody>\n",
       "</table>\n",
       "</div>"
      ],
      "text/plain": [
       "    Matricule      Nom   Prenom  Age\n",
       "0  2022123234   MWAMBA  Dahouda   50\n",
       "1  2022123876   ILUNGA     Yves   24\n",
       "2  2022987125  TANMBWE     Jean   21"
      ]
     },
     "execution_count": 168,
     "metadata": {},
     "output_type": "execute_result"
    }
   ],
   "source": [
    "dataframe.drop(columns='Grade')"
   ]
  },
  {
   "cell_type": "code",
   "execution_count": 169,
   "id": "dbcd18f0-9a68-4a24-8499-9b1420325d75",
   "metadata": {},
   "outputs": [
    {
     "data": {
      "text/html": [
       "<div>\n",
       "<style scoped>\n",
       "    .dataframe tbody tr th:only-of-type {\n",
       "        vertical-align: middle;\n",
       "    }\n",
       "\n",
       "    .dataframe tbody tr th {\n",
       "        vertical-align: top;\n",
       "    }\n",
       "\n",
       "    .dataframe thead th {\n",
       "        text-align: right;\n",
       "    }\n",
       "</style>\n",
       "<table border=\"1\" class=\"dataframe\">\n",
       "  <thead>\n",
       "    <tr style=\"text-align: right;\">\n",
       "      <th></th>\n",
       "      <th>Matricule</th>\n",
       "      <th>Nom</th>\n",
       "      <th>Prenom</th>\n",
       "      <th>Grade</th>\n",
       "      <th>Age</th>\n",
       "    </tr>\n",
       "  </thead>\n",
       "  <tbody>\n",
       "    <tr>\n",
       "      <th>0</th>\n",
       "      <td>2022123234</td>\n",
       "      <td>MWAMBA</td>\n",
       "      <td>Dahouda</td>\n",
       "      <td>A+</td>\n",
       "      <td>50</td>\n",
       "    </tr>\n",
       "    <tr>\n",
       "      <th>1</th>\n",
       "      <td>2022123876</td>\n",
       "      <td>ILUNGA</td>\n",
       "      <td>Yves</td>\n",
       "      <td>B</td>\n",
       "      <td>24</td>\n",
       "    </tr>\n",
       "    <tr>\n",
       "      <th>2</th>\n",
       "      <td>2022987125</td>\n",
       "      <td>TANMBWE</td>\n",
       "      <td>Jean</td>\n",
       "      <td>C+</td>\n",
       "      <td>21</td>\n",
       "    </tr>\n",
       "  </tbody>\n",
       "</table>\n",
       "</div>"
      ],
      "text/plain": [
       "    Matricule      Nom   Prenom Grade  Age\n",
       "0  2022123234   MWAMBA  Dahouda    A+   50\n",
       "1  2022123876   ILUNGA     Yves     B   24\n",
       "2  2022987125  TANMBWE     Jean    C+   21"
      ]
     },
     "execution_count": 169,
     "metadata": {},
     "output_type": "execute_result"
    }
   ],
   "source": [
    "dataframe"
   ]
  },
  {
   "cell_type": "code",
   "execution_count": 170,
   "id": "b1a498c1-ce18-4f89-bc3e-384734c3bcab",
   "metadata": {},
   "outputs": [],
   "source": [
    "dataframe['Gender'] = ['M', 'F', 'M']\n",
    "dataframe['Graduate'] = ['Yes', 'No', 'No']\n",
    "dataframe['Salaire'] = 1500, 1000, 1200"
   ]
  },
  {
   "cell_type": "code",
   "execution_count": 171,
   "id": "891342bd-0f5c-4d99-80e6-50a0d25dbf04",
   "metadata": {},
   "outputs": [
    {
     "data": {
      "text/html": [
       "<div>\n",
       "<style scoped>\n",
       "    .dataframe tbody tr th:only-of-type {\n",
       "        vertical-align: middle;\n",
       "    }\n",
       "\n",
       "    .dataframe tbody tr th {\n",
       "        vertical-align: top;\n",
       "    }\n",
       "\n",
       "    .dataframe thead th {\n",
       "        text-align: right;\n",
       "    }\n",
       "</style>\n",
       "<table border=\"1\" class=\"dataframe\">\n",
       "  <thead>\n",
       "    <tr style=\"text-align: right;\">\n",
       "      <th></th>\n",
       "      <th>Matricule</th>\n",
       "      <th>Nom</th>\n",
       "      <th>Prenom</th>\n",
       "      <th>Grade</th>\n",
       "      <th>Age</th>\n",
       "      <th>Gender</th>\n",
       "      <th>Graduate</th>\n",
       "      <th>Salaire</th>\n",
       "    </tr>\n",
       "  </thead>\n",
       "  <tbody>\n",
       "    <tr>\n",
       "      <th>0</th>\n",
       "      <td>2022123234</td>\n",
       "      <td>MWAMBA</td>\n",
       "      <td>Dahouda</td>\n",
       "      <td>A+</td>\n",
       "      <td>50</td>\n",
       "      <td>M</td>\n",
       "      <td>Yes</td>\n",
       "      <td>1500</td>\n",
       "    </tr>\n",
       "    <tr>\n",
       "      <th>1</th>\n",
       "      <td>2022123876</td>\n",
       "      <td>ILUNGA</td>\n",
       "      <td>Yves</td>\n",
       "      <td>B</td>\n",
       "      <td>24</td>\n",
       "      <td>F</td>\n",
       "      <td>No</td>\n",
       "      <td>1000</td>\n",
       "    </tr>\n",
       "    <tr>\n",
       "      <th>2</th>\n",
       "      <td>2022987125</td>\n",
       "      <td>TANMBWE</td>\n",
       "      <td>Jean</td>\n",
       "      <td>C+</td>\n",
       "      <td>21</td>\n",
       "      <td>M</td>\n",
       "      <td>No</td>\n",
       "      <td>1200</td>\n",
       "    </tr>\n",
       "  </tbody>\n",
       "</table>\n",
       "</div>"
      ],
      "text/plain": [
       "    Matricule      Nom   Prenom Grade  Age Gender Graduate  Salaire\n",
       "0  2022123234   MWAMBA  Dahouda    A+   50      M      Yes     1500\n",
       "1  2022123876   ILUNGA     Yves     B   24      F       No     1000\n",
       "2  2022987125  TANMBWE     Jean    C+   21      M       No     1200"
      ]
     },
     "execution_count": 171,
     "metadata": {},
     "output_type": "execute_result"
    }
   ],
   "source": [
    "dataframe"
   ]
  },
  {
   "cell_type": "code",
   "execution_count": 172,
   "id": "4ab84c47-0714-4bc7-a7c9-a4dace088eae",
   "metadata": {},
   "outputs": [],
   "source": [
    "# Mapping the Column Gender\n",
    "Gender_Mapping = {\n",
    "    'M': 1,\n",
    "    'F': 0\n",
    "}\n",
    "\n",
    "dataframe['Gender'] = dataframe['Gender'].map(Gender_Mapping)"
   ]
  },
  {
   "cell_type": "code",
   "execution_count": 173,
   "id": "09340ab8-b443-43fe-8b2f-13edd071ea0f",
   "metadata": {},
   "outputs": [
    {
     "data": {
      "text/html": [
       "<div>\n",
       "<style scoped>\n",
       "    .dataframe tbody tr th:only-of-type {\n",
       "        vertical-align: middle;\n",
       "    }\n",
       "\n",
       "    .dataframe tbody tr th {\n",
       "        vertical-align: top;\n",
       "    }\n",
       "\n",
       "    .dataframe thead th {\n",
       "        text-align: right;\n",
       "    }\n",
       "</style>\n",
       "<table border=\"1\" class=\"dataframe\">\n",
       "  <thead>\n",
       "    <tr style=\"text-align: right;\">\n",
       "      <th></th>\n",
       "      <th>Matricule</th>\n",
       "      <th>Nom</th>\n",
       "      <th>Prenom</th>\n",
       "      <th>Grade</th>\n",
       "      <th>Age</th>\n",
       "      <th>Gender</th>\n",
       "      <th>Graduate</th>\n",
       "      <th>Salaire</th>\n",
       "    </tr>\n",
       "  </thead>\n",
       "  <tbody>\n",
       "    <tr>\n",
       "      <th>0</th>\n",
       "      <td>2022123234</td>\n",
       "      <td>MWAMBA</td>\n",
       "      <td>Dahouda</td>\n",
       "      <td>A+</td>\n",
       "      <td>50</td>\n",
       "      <td>1</td>\n",
       "      <td>Yes</td>\n",
       "      <td>1500</td>\n",
       "    </tr>\n",
       "    <tr>\n",
       "      <th>1</th>\n",
       "      <td>2022123876</td>\n",
       "      <td>ILUNGA</td>\n",
       "      <td>Yves</td>\n",
       "      <td>B</td>\n",
       "      <td>24</td>\n",
       "      <td>0</td>\n",
       "      <td>No</td>\n",
       "      <td>1000</td>\n",
       "    </tr>\n",
       "    <tr>\n",
       "      <th>2</th>\n",
       "      <td>2022987125</td>\n",
       "      <td>TANMBWE</td>\n",
       "      <td>Jean</td>\n",
       "      <td>C+</td>\n",
       "      <td>21</td>\n",
       "      <td>1</td>\n",
       "      <td>No</td>\n",
       "      <td>1200</td>\n",
       "    </tr>\n",
       "  </tbody>\n",
       "</table>\n",
       "</div>"
      ],
      "text/plain": [
       "    Matricule      Nom   Prenom Grade  Age  Gender Graduate  Salaire\n",
       "0  2022123234   MWAMBA  Dahouda    A+   50       1      Yes     1500\n",
       "1  2022123876   ILUNGA     Yves     B   24       0       No     1000\n",
       "2  2022987125  TANMBWE     Jean    C+   21       1       No     1200"
      ]
     },
     "execution_count": 173,
     "metadata": {},
     "output_type": "execute_result"
    }
   ],
   "source": [
    "dataframe"
   ]
  },
  {
   "cell_type": "code",
   "execution_count": 174,
   "id": "f52abe4f-8074-4944-ad90-cb3c7eee4ccc",
   "metadata": {},
   "outputs": [],
   "source": [
    "dataframe['Graduate'] = np.where(dataframe['Graduate'] == 'Yes', 1, 0)"
   ]
  },
  {
   "cell_type": "code",
   "execution_count": 175,
   "id": "e53bcb5c-9f04-4b5d-aae5-f78dfa616b53",
   "metadata": {},
   "outputs": [
    {
     "data": {
      "text/html": [
       "<div>\n",
       "<style scoped>\n",
       "    .dataframe tbody tr th:only-of-type {\n",
       "        vertical-align: middle;\n",
       "    }\n",
       "\n",
       "    .dataframe tbody tr th {\n",
       "        vertical-align: top;\n",
       "    }\n",
       "\n",
       "    .dataframe thead th {\n",
       "        text-align: right;\n",
       "    }\n",
       "</style>\n",
       "<table border=\"1\" class=\"dataframe\">\n",
       "  <thead>\n",
       "    <tr style=\"text-align: right;\">\n",
       "      <th></th>\n",
       "      <th>Matricule</th>\n",
       "      <th>Nom</th>\n",
       "      <th>Prenom</th>\n",
       "      <th>Grade</th>\n",
       "      <th>Age</th>\n",
       "      <th>Gender</th>\n",
       "      <th>Graduate</th>\n",
       "      <th>Salaire</th>\n",
       "    </tr>\n",
       "  </thead>\n",
       "  <tbody>\n",
       "    <tr>\n",
       "      <th>0</th>\n",
       "      <td>2022123234</td>\n",
       "      <td>MWAMBA</td>\n",
       "      <td>Dahouda</td>\n",
       "      <td>A+</td>\n",
       "      <td>50</td>\n",
       "      <td>1</td>\n",
       "      <td>1</td>\n",
       "      <td>1500</td>\n",
       "    </tr>\n",
       "    <tr>\n",
       "      <th>1</th>\n",
       "      <td>2022123876</td>\n",
       "      <td>ILUNGA</td>\n",
       "      <td>Yves</td>\n",
       "      <td>B</td>\n",
       "      <td>24</td>\n",
       "      <td>0</td>\n",
       "      <td>0</td>\n",
       "      <td>1000</td>\n",
       "    </tr>\n",
       "    <tr>\n",
       "      <th>2</th>\n",
       "      <td>2022987125</td>\n",
       "      <td>TANMBWE</td>\n",
       "      <td>Jean</td>\n",
       "      <td>C+</td>\n",
       "      <td>21</td>\n",
       "      <td>1</td>\n",
       "      <td>0</td>\n",
       "      <td>1200</td>\n",
       "    </tr>\n",
       "  </tbody>\n",
       "</table>\n",
       "</div>"
      ],
      "text/plain": [
       "    Matricule      Nom   Prenom Grade  Age  Gender  Graduate  Salaire\n",
       "0  2022123234   MWAMBA  Dahouda    A+   50       1         1     1500\n",
       "1  2022123876   ILUNGA     Yves     B   24       0         0     1000\n",
       "2  2022987125  TANMBWE     Jean    C+   21       1         0     1200"
      ]
     },
     "execution_count": 175,
     "metadata": {},
     "output_type": "execute_result"
    }
   ],
   "source": [
    "dataframe"
   ]
  },
  {
   "cell_type": "code",
   "execution_count": 177,
   "id": "98537763-2e54-41fa-be48-cb132dec4a1d",
   "metadata": {},
   "outputs": [],
   "source": [
    "dataframe['Salaire'] = np.where(dataframe['Salaire'] > 1250, 'Admis', 'Non-admis')"
   ]
  },
  {
   "cell_type": "code",
   "execution_count": 178,
   "id": "4e56a0ea-02af-4dd9-9193-d259ea516248",
   "metadata": {},
   "outputs": [
    {
     "data": {
      "text/html": [
       "<div>\n",
       "<style scoped>\n",
       "    .dataframe tbody tr th:only-of-type {\n",
       "        vertical-align: middle;\n",
       "    }\n",
       "\n",
       "    .dataframe tbody tr th {\n",
       "        vertical-align: top;\n",
       "    }\n",
       "\n",
       "    .dataframe thead th {\n",
       "        text-align: right;\n",
       "    }\n",
       "</style>\n",
       "<table border=\"1\" class=\"dataframe\">\n",
       "  <thead>\n",
       "    <tr style=\"text-align: right;\">\n",
       "      <th></th>\n",
       "      <th>Matricule</th>\n",
       "      <th>Nom</th>\n",
       "      <th>Prenom</th>\n",
       "      <th>Grade</th>\n",
       "      <th>Age</th>\n",
       "      <th>Gender</th>\n",
       "      <th>Graduate</th>\n",
       "      <th>Salaire</th>\n",
       "    </tr>\n",
       "  </thead>\n",
       "  <tbody>\n",
       "    <tr>\n",
       "      <th>0</th>\n",
       "      <td>2022123234</td>\n",
       "      <td>MWAMBA</td>\n",
       "      <td>Dahouda</td>\n",
       "      <td>A+</td>\n",
       "      <td>50</td>\n",
       "      <td>1</td>\n",
       "      <td>1</td>\n",
       "      <td>Admis</td>\n",
       "    </tr>\n",
       "    <tr>\n",
       "      <th>1</th>\n",
       "      <td>2022123876</td>\n",
       "      <td>ILUNGA</td>\n",
       "      <td>Yves</td>\n",
       "      <td>B</td>\n",
       "      <td>24</td>\n",
       "      <td>0</td>\n",
       "      <td>0</td>\n",
       "      <td>Non-admis</td>\n",
       "    </tr>\n",
       "    <tr>\n",
       "      <th>2</th>\n",
       "      <td>2022987125</td>\n",
       "      <td>TANMBWE</td>\n",
       "      <td>Jean</td>\n",
       "      <td>C+</td>\n",
       "      <td>21</td>\n",
       "      <td>1</td>\n",
       "      <td>0</td>\n",
       "      <td>Non-admis</td>\n",
       "    </tr>\n",
       "  </tbody>\n",
       "</table>\n",
       "</div>"
      ],
      "text/plain": [
       "    Matricule      Nom   Prenom Grade  Age  Gender  Graduate    Salaire\n",
       "0  2022123234   MWAMBA  Dahouda    A+   50       1         1      Admis\n",
       "1  2022123876   ILUNGA     Yves     B   24       0         0  Non-admis\n",
       "2  2022987125  TANMBWE     Jean    C+   21       1         0  Non-admis"
      ]
     },
     "execution_count": 178,
     "metadata": {},
     "output_type": "execute_result"
    }
   ],
   "source": [
    "dataframe"
   ]
  },
  {
   "cell_type": "markdown",
   "id": "e8f63094-74ba-404f-9e00-e46a864b2c49",
   "metadata": {},
   "source": [
    "# 5. Visualisation des donnees"
   ]
  },
  {
   "cell_type": "code",
   "execution_count": 179,
   "id": "a3076ce4-8aea-44b7-ad53-6e83ff28c46a",
   "metadata": {},
   "outputs": [],
   "source": [
    "import matplotlib.pyplot as plt"
   ]
  },
  {
   "cell_type": "code",
   "execution_count": 182,
   "id": "0560a032-82e6-4e41-bf49-a6b2a6bba7b2",
   "metadata": {},
   "outputs": [],
   "source": [
    "data = np.linspace(0, 1, 100)"
   ]
  },
  {
   "cell_type": "code",
   "execution_count": 183,
   "id": "91a75c87-e750-4e15-9020-1ee2f204bb4f",
   "metadata": {},
   "outputs": [
    {
     "data": {
      "text/plain": [
       "array([0.        , 0.01010101, 0.02020202, 0.03030303, 0.04040404,\n",
       "       0.05050505, 0.06060606, 0.07070707, 0.08080808, 0.09090909,\n",
       "       0.1010101 , 0.11111111, 0.12121212, 0.13131313, 0.14141414,\n",
       "       0.15151515, 0.16161616, 0.17171717, 0.18181818, 0.19191919,\n",
       "       0.2020202 , 0.21212121, 0.22222222, 0.23232323, 0.24242424,\n",
       "       0.25252525, 0.26262626, 0.27272727, 0.28282828, 0.29292929,\n",
       "       0.3030303 , 0.31313131, 0.32323232, 0.33333333, 0.34343434,\n",
       "       0.35353535, 0.36363636, 0.37373737, 0.38383838, 0.39393939,\n",
       "       0.4040404 , 0.41414141, 0.42424242, 0.43434343, 0.44444444,\n",
       "       0.45454545, 0.46464646, 0.47474747, 0.48484848, 0.49494949,\n",
       "       0.50505051, 0.51515152, 0.52525253, 0.53535354, 0.54545455,\n",
       "       0.55555556, 0.56565657, 0.57575758, 0.58585859, 0.5959596 ,\n",
       "       0.60606061, 0.61616162, 0.62626263, 0.63636364, 0.64646465,\n",
       "       0.65656566, 0.66666667, 0.67676768, 0.68686869, 0.6969697 ,\n",
       "       0.70707071, 0.71717172, 0.72727273, 0.73737374, 0.74747475,\n",
       "       0.75757576, 0.76767677, 0.77777778, 0.78787879, 0.7979798 ,\n",
       "       0.80808081, 0.81818182, 0.82828283, 0.83838384, 0.84848485,\n",
       "       0.85858586, 0.86868687, 0.87878788, 0.88888889, 0.8989899 ,\n",
       "       0.90909091, 0.91919192, 0.92929293, 0.93939394, 0.94949495,\n",
       "       0.95959596, 0.96969697, 0.97979798, 0.98989899, 1.        ])"
      ]
     },
     "execution_count": 183,
     "metadata": {},
     "output_type": "execute_result"
    }
   ],
   "source": [
    "data"
   ]
  },
  {
   "cell_type": "code",
   "execution_count": 196,
   "id": "4e391683-591b-4c59-b9f7-363dae0457dd",
   "metadata": {},
   "outputs": [
    {
     "data": {
      "text/plain": [
       "<matplotlib.legend.Legend at 0x26396f3f070>"
      ]
     },
     "execution_count": 196,
     "metadata": {},
     "output_type": "execute_result"
    },
    {
     "data": {
      "image/png": "[encoded data removed]",
      "text/plain": [
       "<Figure size 700x500 with 1 Axes>"
      ]
     },
     "metadata": {},
     "output_type": "display_data"
    }
   ],
   "source": [
    "fig, ax = plt.subplots(figsize=(7,5))\n",
    "ax.plot(data, data, label='Double')\n",
    "ax.plot(data, data**2, label='Caree')\n",
    "ax.plot(data, data**3, label='Cube')\n",
    "ax.plot(data, data**4, label='Quadriple')\n",
    "plt.title('Graphique Test')\n",
    "ax.set_xlabel('X data')\n",
    "ax.set_ylabel('Y data')\n",
    "ax.legend()"
   ]
  },
  {
   "cell_type": "code",
   "execution_count": null,
   "id": "42c2e0d3-2af0-4a41-aace-53d5e2bed002",
   "metadata": {},
   "outputs": [],
   "source": []
  },
  {
   "cell_type": "code",
   "execution_count": null,
   "id": "a89c4ca4-2f30-44e6-a402-d8a92d81b9e8",
   "metadata": {},
   "outputs": [],
   "source": []
  }
 ],
 "metadata": {
  "kernelspec": {
   "display_name": "Python 3 (ipykernel)",
   "language": "python",
   "name": "python3"
  },
  "language_info": {
   "codemirror_mode": {
    "name": "ipython",
    "version": 3
   },
   "file_extension": ".py",
   "mimetype": "text/x-python",
   "name": "python",
   "nbconvert_exporter": "python",
   "pygments_lexer": "ipython3",
   "version": "3.10.15"
  }
 },
 "nbformat": 4,
 "nbformat_minor": 5
}
